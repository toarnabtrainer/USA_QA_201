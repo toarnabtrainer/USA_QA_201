{
 "cells": [
  {
   "cell_type": "markdown",
   "id": "fc3a0f1d-3462-493f-b334-d10fb3f6f169",
   "metadata": {},
   "source": [
    "## Selenium control options to write text, button press, dropdown list, checkbox and others"
   ]
  },
  {
   "cell_type": "code",
   "execution_count": 1,
   "id": "cb0e892e-9319-44c2-bcf3-53f537eba263",
   "metadata": {},
   "outputs": [],
   "source": [
    "# importing all the required modules\n",
    "from selenium import webdriver\n",
    "from selenium.webdriver.chrome.service import Service"
   ]
  },
  {
   "cell_type": "code",
   "execution_count": 2,
   "id": "95cee89a-96cc-4ca6-a038-196fe162b881",
   "metadata": {},
   "outputs": [
    {
     "name": "stdout",
     "output_type": "stream",
     "text": [
      "4.10.0\n"
     ]
    }
   ],
   "source": [
    "# now also the current version\n",
    "print (webdriver.__version__)"
   ]
  },
  {
   "cell_type": "code",
   "execution_count": 3,
   "id": "e02a137b-d6e1-4ae1-a55d-21bb06d374cc",
   "metadata": {},
   "outputs": [
    {
     "name": "stdout",
     "output_type": "stream",
     "text": [
      "<class 'selenium.webdriver.chrome.service.Service'>\n"
     ]
    }
   ],
   "source": [
    "# getting this application connected with the chrome driver\n",
    "service = Service(executable_path=\"./chromedriver.exe\")\n",
    "print (type(service))\n",
    "options = webdriver.ChromeOptions()\n",
    "driver = webdriver.Chrome(service=service, options=options)"
   ]
  },
  {
   "cell_type": "code",
   "execution_count": 4,
   "id": "4e119412-de65-4126-8f81-96535d0d5f31",
   "metadata": {},
   "outputs": [],
   "source": [
    "# now we shall go to another website for our currency conversion\n",
    "# go to the URL https://www.calculator.net/currency-calculator.html -> \"All Calculators\" -> \"Currency Calculator\"\n",
    "driver.get(\"https://www.calculator.net/currency-calculator.html\")"
   ]
  },
  {
   "cell_type": "code",
   "execution_count": 5,
   "id": "141fa968-5224-4fd8-bdd7-77dcfb5a6ae1",
   "metadata": {},
   "outputs": [],
   "source": [
    "# import select and checkbox from selenium library to get HTML select tags\n",
    "from selenium.webdriver.support.ui import Select"
   ]
  },
  {
   "cell_type": "code",
   "execution_count": 6,
   "id": "77b79a78-72f0-478d-8cb0-d0ea11194089",
   "metadata": {},
   "outputs": [],
   "source": [
    "# now select the FROM currency as INR and TO  currency as USD from the drop down menu\n",
    "from_currency = Select(driver.find_element(\"id\", \"efrom\"))\n",
    "from_currency.select_by_visible_text(\"INR: Indian Rupee\")   # text visible to the user"
   ]
  },
  {
   "cell_type": "code",
   "execution_count": 7,
   "id": "67829699-103e-453b-9ff5-0985fa973532",
   "metadata": {},
   "outputs": [],
   "source": [
    "to_currency = Select(driver.find_element(\"id\", \"eto\"))\n",
    "to_currency.select_by_value(\"USD\")   # value was given inside the HTML code"
   ]
  },
  {
   "cell_type": "code",
   "execution_count": 8,
   "id": "40226d2c-926d-4907-9ee5-e6f084375466",
   "metadata": {},
   "outputs": [],
   "source": [
    "# put the amount as 500\n",
    "amount_textbox = driver.find_element(\"id\", \"eamount\")\n",
    "# clear the text field at first and put the amount value there\n",
    "amount_textbox.clear()\n",
    "amount_textbox.send_keys(\"500\")"
   ]
  },
  {
   "cell_type": "code",
   "execution_count": 9,
   "id": "55d34d3a-b501-481c-a259-9cf1f3910457",
   "metadata": {},
   "outputs": [],
   "source": [
    "# click on the calculate button\n",
    "calculate_button = driver.find_element(\"xpath\", '//*[@id=\"standard\"]/tbody/tr[5]/td[2]/input[2]')\n",
    "calculate_button.click()"
   ]
  },
  {
   "cell_type": "code",
   "execution_count": 11,
   "id": "9f24a3c1-d359-4f2b-8884-fe06b2fde060",
   "metadata": {},
   "outputs": [],
   "source": [
    "checkbox = driver.find_element(\"xpath\", '//*[@id=\"ccmajorccsettingbox\"]')\n",
    "# if this checkbox is already checked then uncheck it by the help of the java script\n",
    "if checkbox.is_selected():\n",
    "    driver.execute_script(\"arguments[0].click()\", checkbox)"
   ]
  },
  {
   "cell_type": "code",
   "execution_count": 12,
   "id": "6c83abf2-c894-417e-ba17-8be198d9401b",
   "metadata": {},
   "outputs": [],
   "source": [
    "# change the from currency text to \"ZWL: Zimbabwean Dollar\"\n",
    "from_currency = Select(driver.find_element(\"id\", \"efrom\"))\n",
    "from_currency.select_by_value(\"ZWL\")"
   ]
  },
  {
   "cell_type": "code",
   "execution_count": 13,
   "id": "bed8ce2a-1228-41b0-b7de-07d7ec52b873",
   "metadata": {},
   "outputs": [],
   "source": [
    "# clear the textbox field and then insert value 1000\n",
    "amount_textbox = driver.find_element(\"id\", \"eamount\")\n",
    "amount_textbox.clear()\n",
    "amount_textbox.send_keys(\"1000\")"
   ]
  },
  {
   "cell_type": "code",
   "execution_count": 14,
   "id": "bc42f467-2c77-4e97-a78b-64682acebbe7",
   "metadata": {},
   "outputs": [],
   "source": [
    "# click on the calculate button to perform the conversion\n",
    "calculate_button = driver.find_element(\"xpath\", '//*[@id=\"standard\"]/tbody/tr[5]/td[2]/input[2]')\n",
    "calculate_button.click()"
   ]
  },
  {
   "cell_type": "code",
   "execution_count": 15,
   "id": "d81b7719-d39b-41d0-a727-21a95b528c41",
   "metadata": {},
   "outputs": [],
   "source": [
    "driver.quit()"
   ]
  },
  {
   "cell_type": "code",
   "execution_count": null,
   "id": "e7e48a68-9edf-47e4-875a-69ad9dec04ef",
   "metadata": {},
   "outputs": [],
   "source": []
  },
  {
   "cell_type": "code",
   "execution_count": null,
   "id": "459fc46a-f768-4696-acd2-70c7f5be6fa5",
   "metadata": {},
   "outputs": [],
   "source": []
  },
  {
   "cell_type": "code",
   "execution_count": null,
   "id": "4bd7cea9-4c91-489d-b223-545918b7a267",
   "metadata": {},
   "outputs": [],
   "source": []
  },
  {
   "cell_type": "code",
   "execution_count": null,
   "id": "8635a187-553b-42f5-b063-01b7fca1f477",
   "metadata": {},
   "outputs": [],
   "source": []
  },
  {
   "cell_type": "code",
   "execution_count": null,
   "id": "342b4270-4d28-4468-af29-5c18eb489464",
   "metadata": {},
   "outputs": [],
   "source": []
  },
  {
   "cell_type": "code",
   "execution_count": null,
   "id": "828d78f1-2f6b-47c8-8712-fccb50b888a4",
   "metadata": {},
   "outputs": [],
   "source": []
  },
  {
   "cell_type": "code",
   "execution_count": null,
   "id": "46f8546d-0c8a-4cc5-add5-af1ae07a0e09",
   "metadata": {},
   "outputs": [],
   "source": []
  },
  {
   "cell_type": "code",
   "execution_count": null,
   "id": "747793ab-6ac2-47bd-ab8e-ac062bcc8b22",
   "metadata": {},
   "outputs": [],
   "source": []
  },
  {
   "cell_type": "code",
   "execution_count": null,
   "id": "9062e934-3858-4cbe-85f3-20b8b72e4de8",
   "metadata": {},
   "outputs": [],
   "source": []
  },
  {
   "cell_type": "code",
   "execution_count": null,
   "id": "a2143805-ba21-43b5-aebd-a07260421227",
   "metadata": {},
   "outputs": [],
   "source": []
  },
  {
   "cell_type": "code",
   "execution_count": null,
   "id": "5707add4-8e6f-4c03-8bc1-f51b649f5cf7",
   "metadata": {},
   "outputs": [],
   "source": []
  },
  {
   "cell_type": "code",
   "execution_count": null,
   "id": "73d72563-fe23-4579-8dc2-655e14de8751",
   "metadata": {},
   "outputs": [],
   "source": []
  },
  {
   "cell_type": "code",
   "execution_count": null,
   "id": "6c4cb5af-c1e0-48a3-a2c8-990a67dc824a",
   "metadata": {},
   "outputs": [],
   "source": []
  },
  {
   "cell_type": "code",
   "execution_count": null,
   "id": "3a6217d7-4efa-496e-ac76-4ad30dba2098",
   "metadata": {},
   "outputs": [],
   "source": []
  },
  {
   "cell_type": "code",
   "execution_count": null,
   "id": "e6d3d5ee-baf6-4e86-a638-b17a3f2cb364",
   "metadata": {},
   "outputs": [],
   "source": []
  },
  {
   "cell_type": "code",
   "execution_count": null,
   "id": "a7604831-3f50-4c30-88c6-9a2966a937c1",
   "metadata": {},
   "outputs": [],
   "source": []
  },
  {
   "cell_type": "code",
   "execution_count": null,
   "id": "a9c44e97-0287-4c2a-97bd-2e73af1ece3b",
   "metadata": {},
   "outputs": [],
   "source": []
  },
  {
   "cell_type": "code",
   "execution_count": null,
   "id": "08d44234-bf77-4fed-a14c-00ec35e47ab2",
   "metadata": {},
   "outputs": [],
   "source": []
  }
 ],
 "metadata": {
  "kernelspec": {
   "display_name": "Python 3 (ipykernel)",
   "language": "python",
   "name": "python3"
  },
  "language_info": {
   "codemirror_mode": {
    "name": "ipython",
    "version": 3
   },
   "file_extension": ".py",
   "mimetype": "text/x-python",
   "name": "python",
   "nbconvert_exporter": "python",
   "pygments_lexer": "ipython3",
   "version": "3.10.9"
  }
 },
 "nbformat": 4,
 "nbformat_minor": 5
}
