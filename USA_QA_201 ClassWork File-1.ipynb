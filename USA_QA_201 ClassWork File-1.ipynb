{
 "cells": [
  {
   "cell_type": "code",
   "execution_count": 1,
   "id": "b6ac9232-959b-4359-bc5e-ae6f45e43ca0",
   "metadata": {},
   "outputs": [],
   "source": [
    "# This is a comment line\n",
    "# This is another comment line\n",
    "# A comment line in Python should be starting with # symbol"
   ]
  },
  {
   "cell_type": "code",
   "execution_count": 5,
   "id": "bb6ea1b9-0a2e-4b47-a42d-9f417a952a86",
   "metadata": {},
   "outputs": [
    {
     "name": "stdin",
     "output_type": "stream",
     "text": [
      "Please enter first integer:  300\n",
      "Please enter the second integer:  400\n"
     ]
    },
    {
     "name": "stdout",
     "output_type": "stream",
     "text": [
      "300 <class 'str'> 2861049775664\n",
      "400 <class 'str'> 2861049776048\n",
      "So the result is: 300400\n",
      "End of the program...\n"
     ]
    }
   ],
   "source": [
    "num1 = input(\"Please enter first integer: \")\n",
    "num2 = input(\"Please enter the second integer: \")\n",
    "print (num1, type(num1), id(num1))\n",
    "print (num2, type(num2), id(num2))\n",
    "result = num1 + num2  # string concatenation\n",
    "print (\"So the result is:\", result)\n",
    "print (\"End of the program...\")"
   ]
  },
  {
   "cell_type": "code",
   "execution_count": 32,
   "id": "c9214668-146c-4609-97f9-d9c4ac2f8f90",
   "metadata": {},
   "outputs": [
    {
     "name": "stdin",
     "output_type": "stream",
     "text": [
      "Please enter first integer:  100\n",
      "Please enter the second integer:  200\n"
     ]
    },
    {
     "name": "stdout",
     "output_type": "stream",
     "text": [
      "100 <class 'int'> 2422004190544\n",
      "200 <class 'int'> 2422004193744\n",
      "So the result is: 300\n",
      "End of the program...\n"
     ]
    }
   ],
   "source": [
    "num1 = int(input(\"Please enter first integer: \"))\n",
    "num2 = int(input(\"Please enter the second integer: \"))\n",
    "print (num1, type(num1), id(num1))\n",
    "print (num2, type(num2), id(num2))\n",
    "result = num1 + num2  # algebraic adition\n",
    "print (\"So the result is:\", result)\n",
    "print (\"End of the program...\")"
   ]
  },
  {
   "cell_type": "code",
   "execution_count": 10,
   "id": "5ac821fa-c2f8-4cbf-b207-d896b39ec8b4",
   "metadata": {},
   "outputs": [
    {
     "name": "stdin",
     "output_type": "stream",
     "text": [
      "Please enter first integer:  400\n",
      "Please enter the second integer:  500\n"
     ]
    }
   ],
   "source": [
    "num1 = int(input(\"Please enter first integer: \"))\n",
    "num2 = int(input(\"Please enter the second integer: \"))\n",
    "result = num1 + num2  # string concatenation"
   ]
  },
  {
   "cell_type": "code",
   "execution_count": 33,
   "id": "39605d15-a4d2-4ab2-84eb-1e5fe05c968c",
   "metadata": {},
   "outputs": [
    {
     "name": "stdout",
     "output_type": "stream",
     "text": [
      "So 100 + 200 = 300\n",
      "So 100 + 200 = 300\n",
      "So 100 + 200 = 300\n",
      "So 100 + 200 = 300\n",
      "So 100 + 200 = 300\n",
      "So 100 + 200 = 300\n",
      "So 100 + 200 = 300\n",
      "So 100 + 200 = 300\n",
      "So 100 + 200.000000 = 300\n",
      "So 100 +   200.00 = 300\n",
      "So 100 + 200 = 300\n"
     ]
    }
   ],
   "source": [
    "print (\"So\", num1, \"+\", num2, \"=\", result)\n",
    "print (\"So \" + str(num1) + \" + \" + str(num2) + \" = \" + str(result))\n",
    "print (\"So {} + {} = {}\".format(num1, num2, result))   # {} is called place holder\n",
    "print (\"So {0} + {1} = {2}\".format(num1, num2, result))   # indexed place holder\n",
    "print (\"So {2} + {1} = {0}\".format(result, num2, num1))   # indexed place holder\n",
    "print (\"So {fn} + {sn} = {tot}\".format(fn = num1, sn = num2, tot = result))   # labelled place holder\n",
    "print (\"So {fn} + {sn} = {tot}\".format(tot = result, sn = num2, fn = num1))   # labelled place holder\n",
    "print (\"So %d + %d = %d\"%(num1, num2, result))   # here %d stands for decimal format\n",
    "print (\"So %d + %f = %d\"%(num1, num2, result))   # here %f stands for float format\n",
    "print (\"So %d + %8.2f = %d\"%(num1, num2, result))   # here %f stands for float format\n",
    "print (f\"So {num1} + {num2} = {result}\")   # here f stands for smart formatting available from Python 2.7 version"
   ]
  },
  {
   "cell_type": "code",
   "execution_count": 27,
   "id": "d3819e79-b684-442b-9144-95654b660bf0",
   "metadata": {},
   "outputs": [
    {
     "name": "stdout",
     "output_type": "stream",
     "text": [
      "140\n",
      "60\n",
      "4000\n",
      "2.5\n",
      "2\n",
      "20\n",
      "100000000\n"
     ]
    }
   ],
   "source": [
    "# Arithmetic Operators\n",
    "print (100 + 40)   # addition\n",
    "print (100 - 40)   # subtraction\n",
    "print (100 * 40)   # multiplication\n",
    "print (100 / 40)   # float division\n",
    "print (100 // 40)  # integer division\n",
    "print (100 % 40)   # modulus or remainder of the division\n",
    "print (100 ** 4)   # exponentiation, to the power of"
   ]
  },
  {
   "cell_type": "code",
   "execution_count": 35,
   "id": "f57a04a5-f261-49e1-8686-588e305e02ef",
   "metadata": {},
   "outputs": [
    {
     "name": "stdin",
     "output_type": "stream",
     "text": [
      "Please enter the first integer:  100\n",
      "Please enter the second integer:  200\n",
      "Please enter the third integer:  300\n"
     ]
    },
    {
     "name": "stdout",
     "output_type": "stream",
     "text": [
      "The third number is the maximum number...\n",
      "So the maximum number is 300...\n",
      "End of the program...\n"
     ]
    }
   ],
   "source": [
    "# conditional statement\n",
    "# find the maximum of three user given numbers\n",
    "num1 = int(input(\"Please enter the first integer: \"))\n",
    "num2 = int(input(\"Please enter the second integer: \"))\n",
    "num3 = int(input(\"Please enter the third integer: \"))\n",
    "if (num1 > num2):\n",
    "    if (num1 > num3):\n",
    "        print (\"The first number is the maximum number...\")\n",
    "        print (f\"So the maximum number is {num1}...\")\n",
    "    else:\n",
    "        print (\"The third number is the maximum number...\")\n",
    "        print (f\"So the maximum number is {num3}...\")\n",
    "elif (num2 > num3):\n",
    "    print (\"The second number is the maximum number...\")\n",
    "    print (f\"So the maximum number is {num2}...\")\n",
    "else:\n",
    "    print (\"The third number is the maximum number...\")\n",
    "    print (f\"So the maximum number is {num3}...\")\n",
    "\n",
    "print (\"End of the program...\")               "
   ]
  },
  {
   "cell_type": "code",
   "execution_count": 42,
   "id": "7de2cc01-e088-4c94-92f7-827d8a48042a",
   "metadata": {},
   "outputs": [
    {
     "name": "stdin",
     "output_type": "stream",
     "text": [
      "Please enter the first integer:  300\n",
      "Please enter the second integer:  200\n",
      "Please enter the third integer:  100\n"
     ]
    },
    {
     "name": "stdout",
     "output_type": "stream",
     "text": [
      "The first number is the maximum number...\n",
      "So the maximum number is 300...\n",
      "End of the program...\n"
     ]
    }
   ],
   "source": [
    "# conditional statement\n",
    "# find the maximum of three user given numbers\n",
    "num1 = int(input(\"Please enter the first integer: \"))\n",
    "num2 = int(input(\"Please enter the second integer: \"))\n",
    "num3 = int(input(\"Please enter the third integer: \"))\n",
    "if (num1 > num2 and num1 > num3):\n",
    "    print (\"The first number is the maximum number...\")\n",
    "    print (f\"So the maximum number is {num1}...\")\n",
    "elif (num2 > num3):\n",
    "    print (\"The second number is the maximum number...\");\n",
    "    print (f\"So the maximum number is {num2}...\");\n",
    "else:\n",
    "    print (\"The third number is the maximum number...\")\n",
    "    print (f\"So the maximum number is {num3}...\")\n",
    "\n",
    "print (\"End of the program...\")     "
   ]
  },
  {
   "cell_type": "code",
   "execution_count": 41,
   "id": "e5dc86ef-99ac-4407-94c3-ff91454d2ec1",
   "metadata": {},
   "outputs": [
    {
     "name": "stdin",
     "output_type": "stream",
     "text": [
      "Please enter the first integer:  200\n",
      "Please enter the second integer:  300\n",
      "Please enter the third integer:  100\n"
     ]
    },
    {
     "name": "stdout",
     "output_type": "stream",
     "text": [
      "The second number is the maximum number...\n",
      "So the maximum number is 300...\n",
      "End of the program...\n"
     ]
    }
   ],
   "source": [
    "# conditional statement\n",
    "# find the maximum of three user given numbers\n",
    "num1 = int(input(\"Please enter the first integer: \"))\n",
    "num2 = int(input(\"Please enter the second integer: \"))\n",
    "num3 = int(input(\"Please enter the third integer: \"))\n",
    "if (num1 > num2 and num1 > num3): print (\"The first number is the maximum number...\"); print (f\"So the maximum number is {num1}...\")\n",
    "elif (num2 > num3):\n",
    "    print (\"The second number is the maximum number...\");\n",
    "    print (f\"So the maximum number is {num2}...\");\n",
    "else:\n",
    "    print (\"The third number is the maximum number...\")\n",
    "    print (f\"So the maximum number is {num3}...\")\n",
    "\n",
    "print (\"End of the program...\")    "
   ]
  },
  {
   "cell_type": "markdown",
   "id": "d9962cfc-9629-4a40-9937-da5847237c1a",
   "metadata": {},
   "source": [
    "### Loops in Python"
   ]
  },
  {
   "cell_type": "code",
   "execution_count": 4,
   "id": "3709e91c-a0de-4491-9ed9-e5e6c1088ceb",
   "metadata": {},
   "outputs": [
    {
     "name": "stdout",
     "output_type": "stream",
     "text": [
      "Executing for i = 0\n",
      "Executing for i = 1\n",
      "Executing for i = 2\n",
      "Executing for i = 3\n",
      "Executing for i = 4\n",
      "Executing for i = 5\n",
      "Executing for i = 6\n",
      "Executing for i = 7\n",
      "End of the program...\n"
     ]
    }
   ],
   "source": [
    "for i in range(8):\n",
    "    print (f\"Executing for i = {i}\")\n",
    "    \n",
    "print (\"End of the program...\")"
   ]
  },
  {
   "cell_type": "code",
   "execution_count": 3,
   "id": "7055c98c-6067-4978-9afe-cbb939966c0f",
   "metadata": {},
   "outputs": [
    {
     "name": "stdout",
     "output_type": "stream",
     "text": [
      "Executing for i = 0\n",
      "Executing for i = 1\n",
      "Executing for i = 2\n",
      "Executing for i = 3\n",
      "Executing for i = 4\n",
      "Executing for i = 5\n",
      "Executing for i = 6\n",
      "Executing for i = 7\n",
      "End of the program...\n"
     ]
    }
   ],
   "source": [
    "for i in range(0, 8, 1):\n",
    "    print (f\"Executing for i = {i}\")\n",
    "    \n",
    "print (\"End of the program...\")"
   ]
  },
  {
   "cell_type": "code",
   "execution_count": 5,
   "id": "d1afc23d-d952-42d5-aa18-badd3afc601f",
   "metadata": {},
   "outputs": [
    {
     "name": "stdout",
     "output_type": "stream",
     "text": [
      "Executing for i = 0\n",
      "Executing for i = 2\n",
      "Executing for i = 4\n",
      "Executing for i = 6\n",
      "Executing for i = 8\n",
      "End of the program...\n"
     ]
    }
   ],
   "source": [
    "for i in range(0, 10, 2):\n",
    "    print (f\"Executing for i = {i}\")\n",
    "    \n",
    "print (\"End of the program...\")"
   ]
  },
  {
   "cell_type": "code",
   "execution_count": 9,
   "id": "757f2b61-bab4-46cf-947c-6c1539cfd666",
   "metadata": {},
   "outputs": [
    {
     "name": "stdout",
     "output_type": "stream",
     "text": [
      "Executing for i = 10\n",
      "Executing for i = 8\n",
      "Executing for i = 6\n",
      "Executing for i = 4\n",
      "Executing for i = 2\n",
      "End of the program...\n"
     ]
    }
   ],
   "source": [
    "for i in range(10, 0, -2):\n",
    "    print (f\"Executing for i = {i}\")\n",
    "    \n",
    "print (\"End of the program...\")"
   ]
  },
  {
   "cell_type": "code",
   "execution_count": 8,
   "id": "e0025b10-2739-4522-91c5-d86381bcbbec",
   "metadata": {},
   "outputs": [
    {
     "name": "stdout",
     "output_type": "stream",
     "text": [
      "Executing for i = 1\n",
      "Executing for i = 2\n",
      "Executing for i = 3\n",
      "Executing for i = 4\n",
      "Executing for i = 5\n",
      "Executing for i = 6\n",
      "Executing for i = 7\n",
      "Executing for i = 8\n",
      "Else block is executing...\n",
      "Had a smooth execution...\n",
      "End of the program...\n"
     ]
    }
   ],
   "source": [
    "for i in range(1, 9):\n",
    "    print (f\"Executing for i = {i}\")\n",
    "else:\n",
    "    print (\"Else block is executing...\")\n",
    "    print (\"Had a smooth execution...\")\n",
    "print (\"End of the program...\")"
   ]
  },
  {
   "cell_type": "code",
   "execution_count": 11,
   "id": "2d619185-ec55-4a1e-84dd-309051572102",
   "metadata": {},
   "outputs": [
    {
     "name": "stdout",
     "output_type": "stream",
     "text": [
      "Executing for i = 1\n",
      "Executing for i = 2\n",
      "Executing for i = 3\n",
      "Executing for i = 4\n",
      "Executing for i = 5\n",
      "Executing for i = 6\n",
      "End of the program...\n"
     ]
    }
   ],
   "source": [
    "for i in range(1, 9):\n",
    "    print (f\"Executing for i = {i}\")\n",
    "    if (i == 6): break\n",
    "else:\n",
    "    print (\"Else block is executing...\")\n",
    "    print (\"Had a smooth execution...\")\n",
    "print (\"End of the program...\")"
   ]
  },
  {
   "cell_type": "code",
   "execution_count": 18,
   "id": "ed577368-3bb4-4449-94e0-57f5a6b6b198",
   "metadata": {},
   "outputs": [
    {
     "name": "stdout",
     "output_type": "stream",
     "text": [
      "Executing for i = 1\n",
      "Executing for i = 2\n",
      "Executing for i = 3\n",
      "Executing for i = 4\n",
      "Executing for i = 5\n",
      "Executing for i = 6\n",
      "Executing for i = 7\n",
      "Executing for i = 8\n",
      "For i = 8, we are breaking our the loop...\n",
      "End of the program...\n"
     ]
    }
   ],
   "source": [
    "for i in range(1, 9):\n",
    "    print (f\"Executing for i = {i}\")\n",
    "    if (i == 8): \n",
    "        print (f\"For i = {i}, we are breaking our the loop...\")\n",
    "        break\n",
    "else:\n",
    "    print (\"Else block is executing...\")\n",
    "    print (\"Had a smooth execution...\")\n",
    "print (\"End of the program...\")"
   ]
  },
  {
   "cell_type": "code",
   "execution_count": 17,
   "id": "fada75fb-f702-4f1e-ab42-4d744f9bd0cd",
   "metadata": {},
   "outputs": [
    {
     "name": "stdout",
     "output_type": "stream",
     "text": [
      "Executing for i = 1\n",
      "Executing for i = 2\n",
      "Executing for i = 3\n",
      "Executing for i = 4\n",
      "Executing for i = 5\n",
      "Executing for i = 6\n",
      "Executing for i = 7\n",
      "Executing for i = 8\n",
      "End of the program...\n"
     ]
    }
   ],
   "source": [
    "for i in range(1, 9):\n",
    "    print (f\"Executing for i = {i}\")\n",
    "    if (i != 8):\n",
    "        pass    # pass stands for statement placeholder\n",
    "    else:\n",
    "        break\n",
    "else:\n",
    "    print (\"Else block is executing...\")\n",
    "    print (\"Had a smooth execution...\")\n",
    "print (\"End of the program...\")"
   ]
  },
  {
   "cell_type": "code",
   "execution_count": 21,
   "id": "99ef4eb8-9323-414e-adad-a699730db7eb",
   "metadata": {},
   "outputs": [
    {
     "name": "stdout",
     "output_type": "stream",
     "text": [
      "Looping for i = 1...\n",
      "Looping for i = 2...\n",
      "Looping for i = 3...\n",
      "Looping for i = 4...\n",
      "Looping for i = 5...\n",
      "For i = 6 we are continuing the loop again...\n",
      "Looping for i = 7...\n",
      "For i = 8 we are continuing the loop again...\n",
      "Looping for i = 9...\n",
      "Looping for i = 10...\n",
      "Else block is executing...\n",
      "Had a smooth execution...\n",
      "End of the program...\n"
     ]
    }
   ],
   "source": [
    "for i in range(1, 11):\n",
    "    if (i == 6 or i == 8):\n",
    "        print (f\"For i = {i} we are continuing the loop again...\")\n",
    "        continue\n",
    "    print (f\"Looping for i = {i}...\")\n",
    "else:\n",
    "    print (\"Else block is executing...\")\n",
    "    print (\"Had a smooth execution...\")\n",
    "print (\"End of the program...\")"
   ]
  },
  {
   "cell_type": "code",
   "execution_count": 23,
   "id": "38147e44-1875-4099-8825-fb4fe9a886df",
   "metadata": {},
   "outputs": [
    {
     "name": "stdout",
     "output_type": "stream",
     "text": [
      "So 1 x 9 = 9...\n",
      "So 2 x 9 = 18...\n",
      "So 3 x 9 = 27...\n",
      "So 4 x 9 = 36...\n",
      "So 5 x 9 = 45...\n",
      "So 6 x 9 = 54...\n",
      "So 7 x 9 = 63...\n",
      "So 8 x 9 = 72...\n",
      "So 9 x 9 = 81...\n",
      "So 10 x 9 = 90...\n",
      "Else block is executing...\n",
      "End of the program...\n"
     ]
    }
   ],
   "source": [
    "i = 1\n",
    "num = 9\n",
    "while (i <= 10):\n",
    "    print (f\"So {i} x {num} = {i * num}...\")\n",
    "    # i += 1\n",
    "    i = i + 1\n",
    "else:\n",
    "    print (\"Else block is executing...\")\n",
    "print (\"End of the program...\")"
   ]
  },
  {
   "cell_type": "code",
   "execution_count": 25,
   "id": "b88815b6-e196-471b-b715-070ac5762c44",
   "metadata": {},
   "outputs": [
    {
     "name": "stdout",
     "output_type": "stream",
     "text": [
      "Visit Doctor...\n",
      "Good Morning...\n",
      "Day No. => 1 and Medicine No. => 1...\n",
      "Day No. => 1 and Medicine No. => 2...\n",
      "Day No. => 1 and Medicine No. => 3...\n",
      "Good Night...\n",
      "------------------------------------\n",
      "Good Morning...\n",
      "Day No. => 2 and Medicine No. => 1...\n",
      "Day No. => 2 and Medicine No. => 2...\n",
      "Day No. => 2 and Medicine No. => 3...\n",
      "Good Night...\n",
      "------------------------------------\n",
      "Good Morning...\n",
      "Day No. => 3 and Medicine No. => 1...\n",
      "Day No. => 3 and Medicine No. => 2...\n",
      "Day No. => 3 and Medicine No. => 3...\n",
      "Good Night...\n",
      "------------------------------------\n",
      "Good Morning...\n",
      "Day No. => 4 and Medicine No. => 1...\n",
      "Day No. => 4 and Medicine No. => 2...\n",
      "Day No. => 4 and Medicine No. => 3...\n",
      "Good Night...\n",
      "------------------------------------\n",
      "Good Morning...\n",
      "Day No. => 5 and Medicine No. => 1...\n",
      "Day No. => 5 and Medicine No. => 2...\n",
      "Day No. => 5 and Medicine No. => 3...\n",
      "Good Night...\n",
      "------------------------------------\n",
      "Thanks to Doctor...\n"
     ]
    }
   ],
   "source": [
    "print (\"Visit Doctor...\")   # 1 time\n",
    "for day in range(1, 6):\n",
    "    print (\"Good Morning...\")   # 5 times\n",
    "    for medi in range(1, 4):\n",
    "        print (f\"Day No. => {day} and Medicine No. => {medi}...\")   # 15 times\n",
    "    print (\"Good Night...\")   # 5 times\n",
    "    print (\"------------------------------------\")   # 5 times\n",
    "print (\"Thanks to Doctor...\")   # 1 time"
   ]
  },
  {
   "cell_type": "code",
   "execution_count": 26,
   "id": "64b73d25-c1dd-43e0-9290-9a5e3632e4f6",
   "metadata": {},
   "outputs": [
    {
     "name": "stdout",
     "output_type": "stream",
     "text": [
      "Visit Doctor...\n",
      "Good Morning...\n",
      "Day No. => 1 and Medicine No. => 1...\n",
      "Day No. => 1 and Medicine No. => 2...\n",
      "Day No. => 1 and Medicine No. => 3...\n",
      "Good Night...\n",
      "------------------------------------\n",
      "Good Morning...\n",
      "Day No. => 2 and Medicine No. => 1...\n",
      "Day No. => 2 and Medicine No. => 2...\n",
      "Day No. => 2 and Medicine No. => 3...\n",
      "Good Night...\n",
      "------------------------------------\n",
      "Good Morning...\n",
      "Day No. => 3 and Medicine No. => 1...\n",
      "Day No. => 3 and Medicine No. => 2...\n",
      "Day No. => 3 and Medicine No. => 3...\n",
      "Good Night...\n",
      "------------------------------------\n",
      "Good Morning...\n",
      "Day No. => 4 and Medicine No. => 1...\n",
      "Day No. => 4 and Medicine No. => 2...\n",
      "Day No. => 4 and Medicine No. => 3...\n",
      "Good Night...\n",
      "------------------------------------\n",
      "Good Morning...\n",
      "Day No. => 5 and Medicine No. => 1...\n",
      "Day No. => 5 and Medicine No. => 2...\n",
      "Day No. => 5 and Medicine No. => 3...\n",
      "Good Night...\n",
      "------------------------------------\n",
      "Thanks to Doctor...\n"
     ]
    }
   ],
   "source": [
    "print (\"Visit Doctor...\")   # 1 time\n",
    "day = 1\n",
    "while (day <= 5):\n",
    "    print (\"Good Morning...\")   # 5 times\n",
    "    medi = 1\n",
    "    while (medi <= 3):\n",
    "        print (f\"Day No. => {day} and Medicine No. => {medi}...\")   # 15 times\n",
    "        medi += 1\n",
    "    print (\"Good Night...\")   # 5 times\n",
    "    print (\"------------------------------------\")   # 5 times\n",
    "    day += 1\n",
    "print (\"Thanks to Doctor...\")   # 1 time"
   ]
  },
  {
   "cell_type": "code",
   "execution_count": 29,
   "id": "bee2434e-5ddd-45db-8435-d3a35c463b60",
   "metadata": {},
   "outputs": [
    {
     "name": "stdout",
     "output_type": "stream",
     "text": [
      "Hello Hello Hello \n",
      "Welcome Welcome Welcome Welcome Welcome \n"
     ]
    }
   ],
   "source": [
    "print (\"Hello \" * 3)\n",
    "print (\"Welcome \" * 5)"
   ]
  },
  {
   "cell_type": "code",
   "execution_count": null,
   "id": "b41516dd-b40d-4c37-b1ff-9d15463591f6",
   "metadata": {},
   "outputs": [],
   "source": [
    "Pattern Printing - 1\n",
    "--------------------\n",
    "\n",
    "n = 6           i   .   *\n",
    "             ---------------\n",
    ".....*          1   5   1       (n, i)\n",
    "....***         2   4   3  . => (n - i)\n",
    "...*****        3   3   5  \n",
    "..*******       4   2   7  * => (2 * i - 1)\n",
    ".*********      5   1   9\n",
    "***********     6   0  11\n",
    "             ---------------\n",
    "              Tracing Table"
   ]
  },
  {
   "cell_type": "code",
   "execution_count": 34,
   "id": "3c36c329-bfb8-4616-80c5-1995451a66a5",
   "metadata": {},
   "outputs": [
    {
     "name": "stdin",
     "output_type": "stream",
     "text": [
      "Please enter the number of layers in the pattern:  10\n"
     ]
    },
    {
     "name": "stdout",
     "output_type": "stream",
     "text": [
      ".........*\n",
      "........***\n",
      ".......*****\n",
      "......*******\n",
      ".....*********\n",
      "....***********\n",
      "...*************\n",
      "..***************\n",
      ".*****************\n",
      "*******************\n",
      "End of the program...\n"
     ]
    }
   ],
   "source": [
    "n = int(input(\"Please enter the number of layers in the pattern: \"))\n",
    "for i in range(1, n + 1):\n",
    "    print (\".\" * (n - i) + \"*\" * (2 * i - 1))\n",
    "print (\"End of the program...\")"
   ]
  },
  {
   "cell_type": "code",
   "execution_count": null,
   "id": "198f6e61-2046-4430-8253-032fcd06cdd2",
   "metadata": {},
   "outputs": [],
   "source": [
    "Pattern Printing - 2\n",
    "--------------------\n",
    "\n",
    "n = 6           i   .   *\n",
    "             ---------------\n",
    "***********     1   0  11       (n, i)\n",
    ".*********      2   1   9  . => (i - 1)\n",
    "..*******       3   2   7  \n",
    "...*****        4   3   5  * => (2 * (n - i) + 1)\n",
    "....***         5   4   3\n",
    ".....*          6   5   1\n",
    "             ---------------\n",
    "              Tracing Table"
   ]
  },
  {
   "cell_type": "code",
   "execution_count": 37,
   "id": "5395a51c-8840-4ea1-ab42-678d311f448e",
   "metadata": {},
   "outputs": [
    {
     "name": "stdin",
     "output_type": "stream",
     "text": [
      "Please enter the number of layers in the pattern:  6\n"
     ]
    },
    {
     "name": "stdout",
     "output_type": "stream",
     "text": [
      "***********\n",
      ".*********\n",
      "..*******\n",
      "...*****\n",
      "....***\n",
      ".....*\n",
      "End of the program...\n"
     ]
    }
   ],
   "source": [
    "n = int(input(\"Please enter the number of layers in the pattern: \"))\n",
    "for i in range(1, n + 1):\n",
    "    print (\".\" * (i - 1) + \"*\" * (2 * (n - i) + 1))\n",
    "print (\"End of the program...\")"
   ]
  },
  {
   "cell_type": "markdown",
   "id": "3263af53-a761-491b-a2f4-d22964e5e10f",
   "metadata": {},
   "source": [
    "### Exception Handling"
   ]
  },
  {
   "cell_type": "code",
   "execution_count": 39,
   "id": "63ea238a-c6c5-4759-b175-4513a72b717f",
   "metadata": {},
   "outputs": [
    {
     "name": "stdin",
     "output_type": "stream",
     "text": [
      "Please enter the first integer number:  100\n",
      "Please enter the second integer number:  0\n"
     ]
    },
    {
     "ename": "ZeroDivisionError",
     "evalue": "division by zero",
     "output_type": "error",
     "traceback": [
      "\u001b[1;31m---------------------------------------------------------------------------\u001b[0m",
      "\u001b[1;31mZeroDivisionError\u001b[0m                         Traceback (most recent call last)",
      "Cell \u001b[1;32mIn[39], line 3\u001b[0m\n\u001b[0;32m      1\u001b[0m num1 \u001b[38;5;241m=\u001b[39m \u001b[38;5;28mint\u001b[39m(\u001b[38;5;28minput\u001b[39m(\u001b[38;5;124m\"\u001b[39m\u001b[38;5;124mPlease enter the first integer number: \u001b[39m\u001b[38;5;124m\"\u001b[39m))\n\u001b[0;32m      2\u001b[0m num2 \u001b[38;5;241m=\u001b[39m \u001b[38;5;28mint\u001b[39m(\u001b[38;5;28minput\u001b[39m(\u001b[38;5;124m\"\u001b[39m\u001b[38;5;124mPlease enter the second integer number: \u001b[39m\u001b[38;5;124m\"\u001b[39m))\n\u001b[1;32m----> 3\u001b[0m result \u001b[38;5;241m=\u001b[39m \u001b[43mnum1\u001b[49m\u001b[43m \u001b[49m\u001b[38;5;241;43m/\u001b[39;49m\u001b[43m \u001b[49m\u001b[43mnum2\u001b[49m\n\u001b[0;32m      4\u001b[0m \u001b[38;5;28mprint\u001b[39m (\u001b[38;5;124mf\u001b[39m\u001b[38;5;124m\"\u001b[39m\u001b[38;5;124mSo \u001b[39m\u001b[38;5;132;01m{\u001b[39;00mnum1\u001b[38;5;132;01m}\u001b[39;00m\u001b[38;5;124m / \u001b[39m\u001b[38;5;132;01m{\u001b[39;00mnum2\u001b[38;5;132;01m}\u001b[39;00m\u001b[38;5;124m = \u001b[39m\u001b[38;5;132;01m{\u001b[39;00mresult\u001b[38;5;132;01m}\u001b[39;00m\u001b[38;5;124m...\u001b[39m\u001b[38;5;124m\"\u001b[39m)\n\u001b[0;32m      5\u001b[0m \u001b[38;5;28mprint\u001b[39m (\u001b[38;5;124m\"\u001b[39m\u001b[38;5;124mEnd of the program...\u001b[39m\u001b[38;5;124m\"\u001b[39m)\n",
      "\u001b[1;31mZeroDivisionError\u001b[0m: division by zero"
     ]
    }
   ],
   "source": [
    "num1 = int(input(\"Please enter the first integer number: \"))\n",
    "num2 = int(input(\"Please enter the second integer number: \"))\n",
    "result = num1 / num2\n",
    "print (f\"So {num1} / {num2} = {result}...\")\n",
    "print (\"End of the program...\")"
   ]
  },
  {
   "cell_type": "code",
   "execution_count": 43,
   "id": "0336fc5a-7cf6-4858-b423-c5ef3bdb3efb",
   "metadata": {},
   "outputs": [
    {
     "name": "stdin",
     "output_type": "stream",
     "text": [
      "Please enter the first integer number:  hundred\n"
     ]
    },
    {
     "ename": "ValueError",
     "evalue": "invalid literal for int() with base 10: 'hundred'",
     "output_type": "error",
     "traceback": [
      "\u001b[1;31m---------------------------------------------------------------------------\u001b[0m",
      "\u001b[1;31mValueError\u001b[0m                                Traceback (most recent call last)",
      "Cell \u001b[1;32mIn[43], line 2\u001b[0m\n\u001b[0;32m      1\u001b[0m \u001b[38;5;28;01mtry\u001b[39;00m:    \n\u001b[1;32m----> 2\u001b[0m     num1 \u001b[38;5;241m=\u001b[39m \u001b[38;5;28;43mint\u001b[39;49m\u001b[43m(\u001b[49m\u001b[38;5;28;43minput\u001b[39;49m\u001b[43m(\u001b[49m\u001b[38;5;124;43m\"\u001b[39;49m\u001b[38;5;124;43mPlease enter the first integer number: \u001b[39;49m\u001b[38;5;124;43m\"\u001b[39;49m\u001b[43m)\u001b[49m\u001b[43m)\u001b[49m\n\u001b[0;32m      3\u001b[0m     num2 \u001b[38;5;241m=\u001b[39m \u001b[38;5;28mint\u001b[39m(\u001b[38;5;28minput\u001b[39m(\u001b[38;5;124m\"\u001b[39m\u001b[38;5;124mPlease enter the second integer number: \u001b[39m\u001b[38;5;124m\"\u001b[39m))\n\u001b[0;32m      4\u001b[0m     result \u001b[38;5;241m=\u001b[39m num1 \u001b[38;5;241m/\u001b[39m num2\n",
      "\u001b[1;31mValueError\u001b[0m: invalid literal for int() with base 10: 'hundred'"
     ]
    }
   ],
   "source": [
    "try:    \n",
    "    num1 = int(input(\"Please enter the first integer number: \"))\n",
    "    num2 = int(input(\"Please enter the second integer number: \"))\n",
    "    result = num1 / num2\n",
    "    print (f\"So {num1} / {num2} = {result}...\")\n",
    "except ZeroDivisionError as zde:\n",
    "    print (\"ZeroDivisionError: Division by ZERO is Illegal...\")\n",
    "    print (\"ZeroDivisionError: Error Type:\", type(zde))\n",
    "    print (\"ZeroDivisionError: Error Message:\", zde)\n",
    "print (\"End of the program...\")"
   ]
  },
  {
   "cell_type": "code",
   "execution_count": 46,
   "id": "55ee0c06-345f-4384-b79d-293aa580d53e",
   "metadata": {},
   "outputs": [
    {
     "name": "stdin",
     "output_type": "stream",
     "text": [
      "Please enter the first integer number:  10.4\n"
     ]
    },
    {
     "name": "stdout",
     "output_type": "stream",
     "text": [
      "ValueError: Please provide INTEGER values only...\n",
      "ValueError: Error Type: <class 'ValueError'>\n",
      "ValueError: Error Message: invalid literal for int() with base 10: '10.4'\n",
      "End of the program...\n"
     ]
    }
   ],
   "source": [
    "try:    \n",
    "    num1 = int(input(\"Please enter the first integer number: \"))\n",
    "    num2 = int(input(\"Please enter the second integer number: \"))\n",
    "    result = num1 / num2\n",
    "    print (f\"So {num1} / {num2} = {result}...\")\n",
    "except ZeroDivisionError as zde:\n",
    "    print (\"ZeroDivisionError: Division by ZERO is Illegal...\")\n",
    "    print (\"ZeroDivisionError: Error Type:\", type(zde))\n",
    "    print (\"ZeroDivisionError: Error Message:\", zde)\n",
    "except ValueError as ve:\n",
    "    print (\"ValueError: Please provide INTEGER values only...\")\n",
    "    print (\"ValueError: Error Type:\", type(ve))\n",
    "    print (\"ValueError: Error Message:\", ve)\n",
    "print (\"End of the program...\")"
   ]
  },
  {
   "cell_type": "code",
   "execution_count": 48,
   "id": "436b8fc2-b012-4ae3-bbec-fe58685cd5fc",
   "metadata": {},
   "outputs": [
    {
     "name": "stdin",
     "output_type": "stream",
     "text": [
      "Please enter the first integer number:  100\n",
      "Please enter the second integer number:  0\n"
     ]
    },
    {
     "name": "stdout",
     "output_type": "stream",
     "text": [
      "Exception: Some ERROR has occurred...!!!\n",
      "Exception: Error Type: <class 'ZeroDivisionError'>\n",
      "Exception: Error Message: division by zero\n",
      "End of the program...\n"
     ]
    }
   ],
   "source": [
    "try:    \n",
    "    num1 = int(input(\"Please enter the first integer number: \"))\n",
    "    num2 = int(input(\"Please enter the second integer number: \"))\n",
    "    result = num1 / num2\n",
    "    print (f\"So {num1} / {num2} = {result}...\")\n",
    "except ZeroDivisionError as zde:\n",
    "    print (\"ZeroDivisionError: Division by ZERO is Illegal...\")\n",
    "    print (\"ZeroDivisionError: Error Type:\", type(zde))\n",
    "    print (\"ZeroDivisionError: Error Message:\", zde)\n",
    "except ValueError as ve:\n",
    "    print (\"ValueError: Please provide INTEGER values only...\")\n",
    "    print (\"ValueError: Error Type:\", type(ve))\n",
    "    print (\"ValueError: Error Message:\", ve)\n",
    "except Exception as ex:\n",
    "    print (\"Exception: Some ERROR has occurred...!!!\")\n",
    "    print (\"Exception: Error Type:\", type(ex))\n",
    "    print (\"Exception: Error Message:\", ex)\n",
    "print (\"End of the program...\")"
   ]
  },
  {
   "cell_type": "code",
   "execution_count": 53,
   "id": "53a619ea-5cb0-4fa7-b7c8-3d00e3394656",
   "metadata": {},
   "outputs": [
    {
     "name": "stdin",
     "output_type": "stream",
     "text": [
      "Please enter the first integer number:  100\n",
      "Please enter the second integer number:  30\n"
     ]
    },
    {
     "name": "stdout",
     "output_type": "stream",
     "text": [
      "So 100 / 30 = 3.3333333333333335...\n",
      "End of the program...\n"
     ]
    }
   ],
   "source": [
    "try:    \n",
    "    num1 = int(input(\"Please enter the first integer number: \"))\n",
    "    num2 = int(input(\"Please enter the second integer number: \"))\n",
    "    if (num1 < -100 or num2 < -100): raise NameError(\"Below-100\")\n",
    "    if (num1 > 100 or num2 > 100): raise NameError(\"Above+100\")\n",
    "    result = num1 / num2\n",
    "    print (f\"So {num1} / {num2} = {result}...\")\n",
    "except ZeroDivisionError as zde:\n",
    "    print (\"ZeroDivisionError: Division by ZERO is Illegal...\")\n",
    "    print (\"ZeroDivisionError: Error Type:\", type(zde))\n",
    "    print (\"ZeroDivisionError: Error Message:\", zde)\n",
    "except ValueError as ve:\n",
    "    print (\"ValueError: Please provide INTEGER values only...\")\n",
    "    print (\"ValueError: Error Type:\", type(ve))\n",
    "    print (\"ValueError: Error Message:\", ve)\n",
    "except NameError as ne:\n",
    "    print (\"NameError: Input value if out of range...\")\n",
    "    print (\"NameError: Error Type:\", type(ne))\n",
    "    print (\"NameError: Error Message:\", ne)\n",
    "    if (str(ne) == \"Below-100\"): print (\"NameError: Input value is BELLOW -100...\")\n",
    "    if (str(ne) == \"Above+100\"): print (\"NameError: Input value is ABOVE +100...\")\n",
    "except Exception as ex:\n",
    "    print (\"Exception: Some ERROR has occurred...!!!\")\n",
    "    print (\"Exception: Error Type:\", type(ex))\n",
    "    print (\"Exception: Error Message:\", ex)\n",
    "print (\"End of the program...\")"
   ]
  },
  {
   "cell_type": "code",
   "execution_count": 55,
   "id": "e124fee8-99a7-420c-93fa-86ff23a9bfc6",
   "metadata": {},
   "outputs": [
    {
     "name": "stdin",
     "output_type": "stream",
     "text": [
      "Please enter the first integer number:  hundred\n"
     ]
    },
    {
     "name": "stdout",
     "output_type": "stream",
     "text": [
      "ValueError: Please provide INTEGER values only...\n",
      "ValueError: Error Type: <class 'ValueError'>\n",
      "ValueError: Error Message: invalid literal for int() with base 10: 'hundred'\n",
      "Finally: FINALLY block executes always...\n",
      "Finally: FINALLY block should be the last block...\n",
      "End of the program...\n"
     ]
    }
   ],
   "source": [
    "try:    \n",
    "    num1 = int(input(\"Please enter the first integer number: \"))\n",
    "    num2 = int(input(\"Please enter the second integer number: \"))\n",
    "    if (num1 < -100 or num2 < -100): raise NameError(\"Below-100\")\n",
    "    if (num1 > 100 or num2 > 100): raise NameError(\"Above+100\")\n",
    "    result = num1 / num2\n",
    "    print (f\"So {num1} / {num2} = {result}...\")\n",
    "except ZeroDivisionError as zde:\n",
    "    print (\"ZeroDivisionError: Division by ZERO is Illegal...\")\n",
    "    print (\"ZeroDivisionError: Error Type:\", type(zde))\n",
    "    print (\"ZeroDivisionError: Error Message:\", zde)\n",
    "except ValueError as ve:\n",
    "    print (\"ValueError: Please provide INTEGER values only...\")\n",
    "    print (\"ValueError: Error Type:\", type(ve))\n",
    "    print (\"ValueError: Error Message:\", ve)\n",
    "except NameError as ne:\n",
    "    print (\"NameError: Input value if out of range...\")\n",
    "    print (\"NameError: Error Type:\", type(ne))\n",
    "    print (\"NameError: Error Message:\", ne)\n",
    "    if (str(ne) == \"Below-100\"): print (\"NameError: Input value is BELLOW -100...\")\n",
    "    if (str(ne) == \"Above+100\"): print (\"NameError: Input value is ABOVE +100...\")\n",
    "except Exception as ex:\n",
    "    print (\"Exception: Some ERROR has occurred...!!!\")\n",
    "    print (\"Exception: Error Type:\", type(ex))\n",
    "    print (\"Exception: Error Message:\", ex)\n",
    "else:\n",
    "    print (\"Else: ELSE block is executing...\")\n",
    "    print (\"Else: Had a smooth execution...\")\n",
    "finally:\n",
    "    print (\"Finally: FINALLY block executes always...\")\n",
    "    print (\"Finally: FINALLY block should be the last block...\")\n",
    "print (\"End of the program...\")"
   ]
  },
  {
   "cell_type": "code",
   "execution_count": 56,
   "id": "8cd9c1db-cc99-4ee5-af5a-e418bee0039a",
   "metadata": {},
   "outputs": [
    {
     "name": "stdin",
     "output_type": "stream",
     "text": [
      "Please enter the first integer number:  1000\n",
      "Please enter the second integer number:  2\n"
     ]
    },
    {
     "name": "stdout",
     "output_type": "stream",
     "text": [
      "NameError: Input value if out of range...\n",
      "NameError: Error Type: <class 'NameError'>\n",
      "NameError: Error Message: Above+100\n",
      "NameError: Input value is ABOVE +100...\n",
      "Finally: FINALLY block executes always...\n",
      "Finally: FINALLY block should be the last block...\n"
     ]
    },
    {
     "name": "stdin",
     "output_type": "stream",
     "text": [
      "Please enter the first integer number:  -1000\n",
      "Please enter the second integer number:  2\n"
     ]
    },
    {
     "name": "stdout",
     "output_type": "stream",
     "text": [
      "NameError: Input value if out of range...\n",
      "NameError: Error Type: <class 'NameError'>\n",
      "NameError: Error Message: Below-100\n",
      "NameError: Input value is BELLOW -100...\n",
      "Finally: FINALLY block executes always...\n",
      "Finally: FINALLY block should be the last block...\n"
     ]
    },
    {
     "name": "stdin",
     "output_type": "stream",
     "text": [
      "Please enter the first integer number:  100\n",
      "Please enter the second integer number:  0\n"
     ]
    },
    {
     "name": "stdout",
     "output_type": "stream",
     "text": [
      "ZeroDivisionError: Division by ZERO is Illegal...\n",
      "ZeroDivisionError: Error Type: <class 'ZeroDivisionError'>\n",
      "ZeroDivisionError: Error Message: division by zero\n",
      "Finally: FINALLY block executes always...\n",
      "Finally: FINALLY block should be the last block...\n"
     ]
    },
    {
     "name": "stdin",
     "output_type": "stream",
     "text": [
      "Please enter the first integer number:  100.5\n"
     ]
    },
    {
     "name": "stdout",
     "output_type": "stream",
     "text": [
      "ValueError: Please provide INTEGER values only...\n",
      "ValueError: Error Type: <class 'ValueError'>\n",
      "ValueError: Error Message: invalid literal for int() with base 10: '100.5'\n",
      "Finally: FINALLY block executes always...\n",
      "Finally: FINALLY block should be the last block...\n"
     ]
    },
    {
     "name": "stdin",
     "output_type": "stream",
     "text": [
      "Please enter the first integer number:  \n"
     ]
    },
    {
     "name": "stdout",
     "output_type": "stream",
     "text": [
      "ValueError: Please provide INTEGER values only...\n",
      "ValueError: Error Type: <class 'ValueError'>\n",
      "ValueError: Error Message: invalid literal for int() with base 10: ''\n",
      "Finally: FINALLY block executes always...\n",
      "Finally: FINALLY block should be the last block...\n"
     ]
    },
    {
     "name": "stdin",
     "output_type": "stream",
     "text": [
      "Please enter the first integer number:  hundred\n"
     ]
    },
    {
     "name": "stdout",
     "output_type": "stream",
     "text": [
      "ValueError: Please provide INTEGER values only...\n",
      "ValueError: Error Type: <class 'ValueError'>\n",
      "ValueError: Error Message: invalid literal for int() with base 10: 'hundred'\n",
      "Finally: FINALLY block executes always...\n",
      "Finally: FINALLY block should be the last block...\n"
     ]
    },
    {
     "name": "stdin",
     "output_type": "stream",
     "text": [
      "Please enter the first integer number:  40\n",
      "Please enter the second integer number:  8\n"
     ]
    },
    {
     "name": "stdout",
     "output_type": "stream",
     "text": [
      "So 40 / 8 = 5.0...\n",
      "Else: ELSE block is executing...\n",
      "Else: Had a smooth execution...\n",
      "Finally: FINALLY block executes always...\n",
      "Finally: FINALLY block should be the last block...\n",
      "End of the program...\n"
     ]
    }
   ],
   "source": [
    "while (True):\n",
    "    try:    \n",
    "        num1 = int(input(\"Please enter the first integer number: \"))\n",
    "        num2 = int(input(\"Please enter the second integer number: \"))\n",
    "        if (num1 < -100 or num2 < -100): raise NameError(\"Below-100\")\n",
    "        if (num1 > 100 or num2 > 100): raise NameError(\"Above+100\")\n",
    "        result = num1 / num2\n",
    "        print (f\"So {num1} / {num2} = {result}...\")\n",
    "    except ZeroDivisionError as zde:\n",
    "        print (\"ZeroDivisionError: Division by ZERO is Illegal...\")\n",
    "        print (\"ZeroDivisionError: Error Type:\", type(zde))\n",
    "        print (\"ZeroDivisionError: Error Message:\", zde)\n",
    "    except ValueError as ve:\n",
    "        print (\"ValueError: Please provide INTEGER values only...\")\n",
    "        print (\"ValueError: Error Type:\", type(ve))\n",
    "        print (\"ValueError: Error Message:\", ve)\n",
    "    except NameError as ne:\n",
    "        print (\"NameError: Input value if out of range...\")\n",
    "        print (\"NameError: Error Type:\", type(ne))\n",
    "        print (\"NameError: Error Message:\", ne)\n",
    "        if (str(ne) == \"Below-100\"): print (\"NameError: Input value is BELLOW -100...\")\n",
    "        if (str(ne) == \"Above+100\"): print (\"NameError: Input value is ABOVE +100...\")\n",
    "    except Exception as ex:\n",
    "        print (\"Exception: Some ERROR has occurred...!!!\")\n",
    "        print (\"Exception: Error Type:\", type(ex))\n",
    "        print (\"Exception: Error Message:\", ex)\n",
    "    else:\n",
    "        print (\"Else: ELSE block is executing...\")\n",
    "        print (\"Else: Had a smooth execution...\")\n",
    "        break\n",
    "    finally:\n",
    "        print (\"Finally: FINALLY block executes always...\")\n",
    "        print (\"Finally: FINALLY block should be the last block...\")\n",
    "print (\"End of the program...\")"
   ]
  },
  {
   "cell_type": "code",
   "execution_count": 56,
   "id": "277d033b-2ccb-4cb2-a667-91def23e1b6e",
   "metadata": {},
   "outputs": [
    {
     "name": "stdin",
     "output_type": "stream",
     "text": [
      "Please enter the first integer number:  1000\n",
      "Please enter the second integer number:  2\n"
     ]
    },
    {
     "name": "stdout",
     "output_type": "stream",
     "text": [
      "NameError: Input value if out of range...\n",
      "NameError: Error Type: <class 'NameError'>\n",
      "NameError: Error Message: Above+100\n",
      "NameError: Input value is ABOVE +100...\n",
      "Finally: FINALLY block executes always...\n",
      "Finally: FINALLY block should be the last block...\n"
     ]
    },
    {
     "name": "stdin",
     "output_type": "stream",
     "text": [
      "Please enter the first integer number:  -1000\n",
      "Please enter the second integer number:  2\n"
     ]
    },
    {
     "name": "stdout",
     "output_type": "stream",
     "text": [
      "NameError: Input value if out of range...\n",
      "NameError: Error Type: <class 'NameError'>\n",
      "NameError: Error Message: Below-100\n",
      "NameError: Input value is BELLOW -100...\n",
      "Finally: FINALLY block executes always...\n",
      "Finally: FINALLY block should be the last block...\n"
     ]
    },
    {
     "name": "stdin",
     "output_type": "stream",
     "text": [
      "Please enter the first integer number:  100\n",
      "Please enter the second integer number:  0\n"
     ]
    },
    {
     "name": "stdout",
     "output_type": "stream",
     "text": [
      "ZeroDivisionError: Division by ZERO is Illegal...\n",
      "ZeroDivisionError: Error Type: <class 'ZeroDivisionError'>\n",
      "ZeroDivisionError: Error Message: division by zero\n",
      "Finally: FINALLY block executes always...\n",
      "Finally: FINALLY block should be the last block...\n"
     ]
    },
    {
     "name": "stdin",
     "output_type": "stream",
     "text": [
      "Please enter the first integer number:  100.5\n"
     ]
    },
    {
     "name": "stdout",
     "output_type": "stream",
     "text": [
      "ValueError: Please provide INTEGER values only...\n",
      "ValueError: Error Type: <class 'ValueError'>\n",
      "ValueError: Error Message: invalid literal for int() with base 10: '100.5'\n",
      "Finally: FINALLY block executes always...\n",
      "Finally: FINALLY block should be the last block...\n"
     ]
    },
    {
     "name": "stdin",
     "output_type": "stream",
     "text": [
      "Please enter the first integer number:  \n"
     ]
    },
    {
     "name": "stdout",
     "output_type": "stream",
     "text": [
      "ValueError: Please provide INTEGER values only...\n",
      "ValueError: Error Type: <class 'ValueError'>\n",
      "ValueError: Error Message: invalid literal for int() with base 10: ''\n",
      "Finally: FINALLY block executes always...\n",
      "Finally: FINALLY block should be the last block...\n"
     ]
    },
    {
     "name": "stdin",
     "output_type": "stream",
     "text": [
      "Please enter the first integer number:  hundred\n"
     ]
    },
    {
     "name": "stdout",
     "output_type": "stream",
     "text": [
      "ValueError: Please provide INTEGER values only...\n",
      "ValueError: Error Type: <class 'ValueError'>\n",
      "ValueError: Error Message: invalid literal for int() with base 10: 'hundred'\n",
      "Finally: FINALLY block executes always...\n",
      "Finally: FINALLY block should be the last block...\n"
     ]
    },
    {
     "name": "stdin",
     "output_type": "stream",
     "text": [
      "Please enter the first integer number:  40\n",
      "Please enter the second integer number:  8\n"
     ]
    },
    {
     "name": "stdout",
     "output_type": "stream",
     "text": [
      "So 40 / 8 = 5.0...\n",
      "Else: ELSE block is executing...\n",
      "Else: Had a smooth execution...\n",
      "Finally: FINALLY block executes always...\n",
      "Finally: FINALLY block should be the last block...\n",
      "End of the program...\n"
     ]
    }
   ],
   "source": [
    "while (True):\n",
    "    try:    \n",
    "        num1 = int(input(\"Please enter the first integer number: \"))\n",
    "        num2 = int(input(\"Please enter the second integer number: \"))\n",
    "        if (num1 < -100 or num2 < -100): raise NameError(\"Below-100\")\n",
    "        if (num1 > 100 or num2 > 100): raise NameError(\"Above+100\")\n",
    "        result = num1 / num2\n",
    "        print (f\"So {num1} / {num2} = {result}...\")\n",
    "    except ZeroDivisionError as zde:\n",
    "        print (\"ZeroDivisionError: Division by ZERO is Illegal...\")\n",
    "        print (\"ZeroDivisionError: Error Type:\", type(zde))\n",
    "        print (\"ZeroDivisionError: Error Message:\", zde)\n",
    "    except ValueError as ve:\n",
    "        print (\"ValueError: Please provide INTEGER values only...\")\n",
    "        print (\"ValueError: Error Type:\", type(ve))\n",
    "        print (\"ValueError: Error Message:\", ve)\n",
    "    except NameError as ne:\n",
    "        print (\"NameError: Input value if out of range...\")\n",
    "        print (\"NameError: Error Type:\", type(ne))\n",
    "        print (\"NameError: Error Message:\", ne)\n",
    "        if (str(ne) == \"Below-100\"): print (\"NameError: Input value is BELLOW -100...\")\n",
    "        if (str(ne) == \"Above+100\"): print (\"NameError: Input value is ABOVE +100...\")\n",
    "    except Exception as ex:\n",
    "        print (\"Exception: Some ERROR has occurred...!!!\")\n",
    "        print (\"Exception: Error Type:\", type(ex))\n",
    "        print (\"Exception: Error Message:\", ex)\n",
    "    else:\n",
    "        print (\"Else: ELSE block is executing...\")\n",
    "        print (\"Else: Had a smooth execution...\")\n",
    "        break\n",
    "    finally:\n",
    "        print (\"Finally: FINALLY block executes always...\")\n",
    "        print (\"Finally: FINALLY block should be the last block...\")\n",
    "print (\"End of the program...\")"
   ]
  },
  {
   "cell_type": "code",
   "execution_count": 4,
   "id": "ebe71706-450b-4863-9108-5722fe2014f1",
   "metadata": {},
   "outputs": [
    {
     "name": "stdout",
     "output_type": "stream",
     "text": [
      "Even number...\n"
     ]
    }
   ],
   "source": [
    "num1 = 100\n",
    "if (num1 % 2 == 0):\n",
    "    print (\"Even number...\")\n",
    "else:\n",
    "    print (\"Odd number...\")"
   ]
  },
  {
   "cell_type": "markdown",
   "id": "00e9c5d7-cf2b-4af6-95c8-f0e0cf9f23f5",
   "metadata": {},
   "source": [
    "### User Define Function (UDF)"
   ]
  },
  {
   "cell_type": "code",
   "execution_count": 11,
   "id": "a586bebb-15aa-4ec8-9768-fba772d26f06",
   "metadata": {},
   "outputs": [
    {
     "name": "stdout",
     "output_type": "stream",
     "text": [
      "Welcome Welcome Welcome Welcome Welcome \n",
      "Welcome Welcome Welcome Welcome Welcome \n",
      "Welcome Welcome Welcome Welcome Welcome \n"
     ]
    }
   ],
   "source": [
    "def funct1():\n",
    "    print (\"Welcome \" * 5)\n",
    "    \n",
    "funct1()\n",
    "funct1()\n",
    "funct1()"
   ]
  },
  {
   "cell_type": "code",
   "execution_count": 14,
   "id": "7f9f91dd-d777-46c9-b90d-b6a358f6afc2",
   "metadata": {},
   "outputs": [
    {
     "name": "stdout",
     "output_type": "stream",
     "text": [
      "Good Morning. Good Morning. Good Morning. Good Morning. \n",
      "Hello. Hello. Hello. Hello. Hello. Hello. \n",
      "Hi !!! Hi !!! Hi !!! Hi !!! Hi !!! Hi !!! Hi !!! Hi !!! Hi !!! \n"
     ]
    }
   ],
   "source": [
    "def funct2(msg, times):   # positional parameters\n",
    "    print (msg * times)\n",
    "    \n",
    "funct2 (\"Good Morning. \", 4)   # positional arguments\n",
    "funct2 (\"Hello. \", 6)\n",
    "funct2 (\"Hi !!! \", 9)"
   ]
  },
  {
   "cell_type": "code",
   "execution_count": 17,
   "id": "6a8f17b0-636a-4996-a143-5780dac12a3f",
   "metadata": {},
   "outputs": [
    {
     "name": "stdout",
     "output_type": "stream",
     "text": [
      "Hello Hello Hello Hello Hello Hello \n",
      "Hi Hi \n",
      "Welcome Welcome Welcome Welcome Welcome \n"
     ]
    }
   ],
   "source": [
    "def funct3(msg, times):\n",
    "    return msg * times\n",
    "    \n",
    "result = funct3(\"Hello \", 6)\n",
    "print (result)\n",
    "result = funct3(\"Hi \", 2)\n",
    "print (result)\n",
    "print (funct3(\"Welcome \", 5))"
   ]
  },
  {
   "cell_type": "code",
   "execution_count": 27,
   "id": "b14063a0-418e-4943-a222-22bc7d5394f9",
   "metadata": {},
   "outputs": [
    {
     "name": "stdout",
     "output_type": "stream",
     "text": [
      "So par1 = 100, par2 = 200, par3 = 300...\n",
      "So par1 = 100, par2 = 200, par3 = 333...\n",
      "So par1 = 100, par2 = 222, par3 = 333...\n",
      "So par1 = 111, par2 = 222, par3 = 333...\n",
      "So par1 = 100, par2 = 222, par3 = 300...\n",
      "So par1 = 100, par2 = 222, par3 = 300...\n"
     ]
    }
   ],
   "source": [
    "# function with default arguments\n",
    "def funct4(par1 = 111, par2 = 222, par3 = 333):\n",
    "    print (f\"So par1 = {par1}, par2 = {par2}, par3 = {par3}...\")\n",
    "    \n",
    "funct4(100, 200, 300)\n",
    "funct4(100, 200)\n",
    "funct4(100)\n",
    "funct4()\n",
    "funct4(par1 = 100, par3 = 300)\n",
    "funct4(par3 = 300, par1 = 100)"
   ]
  },
  {
   "cell_type": "raw",
   "id": "9d90d300-8db3-4eb7-8643-1cd1186e139d",
   "metadata": {},
   "source": [
    "This is a note\n",
    "It can not be executed..."
   ]
  },
  {
   "cell_type": "markdown",
   "id": "1cebf275-b161-4d84-9e4a-dba19b42199f",
   "metadata": {},
   "source": [
    "<h1>Heading One</h1>\n",
    "<h2>Heading One</h2>\n",
    "<h3>Heading One</h3>\n",
    "<h4>Heading One</h4>\n",
    "<h5>Heading One</h5>\n",
    "<h6>Heading One</h6>"
   ]
  },
  {
   "cell_type": "markdown",
   "id": "d7c8bbbc-26de-43d4-a448-e32910843b81",
   "metadata": {},
   "source": [
    "# Heading One\n",
    "## Heading One\n",
    "### Heading One\n",
    "#### Heading One\n",
    "##### Heading One\n",
    "###### Heading One"
   ]
  },
  {
   "cell_type": "code",
   "execution_count": 28,
   "id": "812b9b0a-77a2-4901-9107-82ba705bea1f",
   "metadata": {},
   "outputs": [
    {
     "name": "stdout",
     "output_type": "stream",
     "text": [
      "300\n",
      "1000\n"
     ]
    }
   ],
   "source": [
    "def funct5(num1, num2 = None):\n",
    "    if (num2 == None):\n",
    "        return 2 * num1\n",
    "    else:\n",
    "        return num1 + num2\n",
    "    \n",
    "print (funct5(100, 200))\n",
    "print (funct5(500))"
   ]
  },
  {
   "cell_type": "code",
   "execution_count": 31,
   "id": "5b70aa5f-ebee-45bc-b90b-ac8d23ef7640",
   "metadata": {},
   "outputs": [
    {
     "name": "stdout",
     "output_type": "stream",
     "text": [
      "So total = 140, difference = 60, product = 4000 and quotient = 2.5...\n",
      "(140, 60, 4000, 2.5) <class 'tuple'>\n",
      "So total = 140, difference = 60, product = 4000 and quotient = 2.5...\n"
     ]
    }
   ],
   "source": [
    "def funct6(num1, num2):\n",
    "    total = num1 + num2\n",
    "    difference = num1 - num2\n",
    "    product = num1 * num2\n",
    "    quotient = num1 / num2\n",
    "    return total, difference, product, quotient\n",
    "\n",
    "tt, dd, pp, qq = funct6(100, 40)\n",
    "print (f\"So total = {tt}, difference = {dd}, product = {pp} and quotient = {qq}...\")\n",
    "result = funct6(100, 40)\n",
    "print (result, type(result))\n",
    "print (f\"So total = {result[0]}, difference = {result[1]}, product = {result[2]} and quotient = {result[3]}...\")"
   ]
  },
  {
   "cell_type": "code",
   "execution_count": 35,
   "id": "b5cd6a51-f730-4fcc-a437-9c57d81e555d",
   "metadata": {},
   "outputs": [
    {
     "name": "stdout",
     "output_type": "stream",
     "text": [
      "('Amitava', 'Developer', 65000) 3 <class 'tuple'> 2422121046720\n",
      "('Amitava', 'Developer', 65000, 'London') 4 <class 'tuple'> 2422121076896\n",
      "('Amitava', 'Developer', 65000, 'London', 'Masters') 5 <class 'tuple'> 2422120453584\n"
     ]
    }
   ],
   "source": [
    "# function with variable number of arguments\n",
    "def funct7(*arg):    # here *arg means forcefully defining arg as a tuple type of variable\n",
    "    print (arg, len(arg), type(arg), id(arg))\n",
    "    \n",
    "funct7(\"Amitava\", \"Developer\", 65000)\n",
    "funct7(\"Amitava\", \"Developer\", 65000, \"London\")\n",
    "funct7(\"Amitava\", \"Developer\", 65000, \"London\", \"Masters\")"
   ]
  },
  {
   "cell_type": "code",
   "execution_count": 45,
   "id": "91d6c01b-6d25-4ce7-b25c-b5ef204877b3",
   "metadata": {},
   "outputs": [
    {
     "name": "stdout",
     "output_type": "stream",
     "text": [
      "{'name': 'Amitava', 'job': 'Developer', 'salary': 65000} 3 <class 'dict'> 2422121123776\n",
      "{'name': 'Amitava', 'job': 'Developer', 'salary': 65000, 'location': 'London'} 4 <class 'dict'> 2422077929536\n",
      "{'name': 'Amitava', 'job': 'Developer', 'salary': 65000, 'location': 'London', 'qualification': 'Masters'} 5 <class 'dict'> 2422120831936\n",
      "<class 'function'>\n"
     ]
    }
   ],
   "source": [
    "def funct8(**kwarg):    # here **kwarg means forcefully defining kwarg as a dictionary type of variable, kw stands for key-word\n",
    "    print (kwarg, len(kwarg), type(kwarg), id(kwarg))\n",
    "    \n",
    "funct8(name=\"Amitava\", job=\"Developer\", salary=65000)\n",
    "funct8(name=\"Amitava\", job=\"Developer\", salary=65000, location=\"London\")\n",
    "funct8(name=\"Amitava\", job=\"Developer\", salary=65000, location=\"London\", qualification=\"Masters\")\n",
    "print (type(funct8))"
   ]
  },
  {
   "cell_type": "code",
   "execution_count": 37,
   "id": "d90ac9ee-5e50-4758-b72a-f16b98c6b876",
   "metadata": {},
   "outputs": [
    {
     "name": "stdout",
     "output_type": "stream",
     "text": [
      "('Amitava', 'Developer', 65000) 3 <class 'tuple'> 2422121126400\n",
      "{'location': 'London', 'qualification': 'Masters'} 2 <class 'dict'> 2422088666432\n",
      "('Amitava', 'Developer', 65000) 3 <class 'tuple'> 2422121126400\n",
      "{} 0 <class 'dict'> 2422088665728\n",
      "() 0 <class 'tuple'> 2422004203632\n",
      "{'location': 'London', 'qualification': 'Masters'} 2 <class 'dict'> 2422121152000\n"
     ]
    }
   ],
   "source": [
    "def funct9(*arg, **kwarg):\n",
    "    print (arg, len(arg), type(arg), id(arg))\n",
    "    print (kwarg, len(kwarg), type(kwarg), id(kwarg))\n",
    "    \n",
    "funct9(\"Amitava\", \"Developer\", 65000, location=\"London\", qualification=\"Masters\")\n",
    "funct9(\"Amitava\", \"Developer\", 65000 )\n",
    "funct9(location=\"London\", qualification=\"Masters\" )"
   ]
  },
  {
   "cell_type": "markdown",
   "id": "5a3b0b10-32d1-417f-82a9-dc2734b36562",
   "metadata": {},
   "source": [
    "### Recursive and Non-Recursive functions"
   ]
  },
  {
   "cell_type": "code",
   "execution_count": 39,
   "id": "04e25027-27c7-462c-8d51-5432a75cb225",
   "metadata": {},
   "outputs": [
    {
     "name": "stdout",
     "output_type": "stream",
     "text": [
      "120\n"
     ]
    }
   ],
   "source": [
    "# 5! = 5 * 4 * 3 * 2 * 1\n",
    "# 5! = 1 * 2 * 3 * 4 * 5\n",
    "# non-recursive function, iterative function\n",
    "def factorial_nr(n):\n",
    "    if (n == 0 or n == 1): return 1\n",
    "    fact = 1\n",
    "    for i in range(1, n + 1):   # iteration\n",
    "        fact = fact * i\n",
    "    return fact\n",
    "\n",
    "print (factorial_nr(5))"
   ]
  },
  {
   "cell_type": "code",
   "execution_count": 42,
   "id": "13cb0213-2056-4289-b0d2-44b7ffa5868b",
   "metadata": {},
   "outputs": [
    {
     "name": "stdout",
     "output_type": "stream",
     "text": [
      "120\n"
     ]
    }
   ],
   "source": [
    "# recursive function\n",
    "def factorial_r(n):\n",
    "    if (n == 0 or n == 1): return 1   # base case, that is for some inputs outputs are pre-known to us, where the recursion will terminate\n",
    "    return n * factorial_r(n - 1)     # recursive case, calling itself\n",
    "\n",
    "print (factorial_r(5))"
   ]
  },
  {
   "cell_type": "code",
   "execution_count": null,
   "id": "2df1313e-d8d3-495e-a005-0b8e6cd9e11e",
   "metadata": {},
   "outputs": [],
   "source": [
    "5! = 5 * 4!\n",
    "         4 * 3!\n",
    "             3 * 2!\n",
    "                 2 * 1!\n",
    "                     1\n",
    "                 2\n",
    "             6\n",
    "         24\n",
    "     120"
   ]
  },
  {
   "cell_type": "markdown",
   "id": "8d6f2ddd-f552-4691-a3b1-9152bcc8d0ba",
   "metadata": {},
   "source": [
    "### Lambda Function"
   ]
  },
  {
   "cell_type": "code",
   "execution_count": 47,
   "id": "fae38d0e-0f38-4d59-bf0b-391a6b7d47d8",
   "metadata": {},
   "outputs": [
    {
     "name": "stdout",
     "output_type": "stream",
     "text": [
      "10 100\n",
      "<class 'function'>\n"
     ]
    }
   ],
   "source": [
    "my_square = lambda  num: num * num\n",
    "n = 10\n",
    "print (n, my_square(n))\n",
    "print (type(my_square))"
   ]
  },
  {
   "cell_type": "code",
   "execution_count": null,
   "id": "7d3b48ac-4dac-4dc5-813b-4936cb9a2703",
   "metadata": {},
   "outputs": [],
   "source": []
  },
  {
   "cell_type": "code",
   "execution_count": null,
   "id": "8c9f21a6-f195-4984-8665-919d29e311b5",
   "metadata": {},
   "outputs": [],
   "source": []
  }
 ],
 "metadata": {
  "kernelspec": {
   "display_name": "Python 3 (ipykernel)",
   "language": "python",
   "name": "python3"
  },
  "language_info": {
   "codemirror_mode": {
    "name": "ipython",
    "version": 3
   },
   "file_extension": ".py",
   "mimetype": "text/x-python",
   "name": "python",
   "nbconvert_exporter": "python",
   "pygments_lexer": "ipython3",
   "version": "3.10.9"
  }
 },
 "nbformat": 4,
 "nbformat_minor": 5
}
