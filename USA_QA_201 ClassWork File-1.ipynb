{
 "cells": [
  {
   "cell_type": "code",
   "execution_count": 1,
   "id": "b6ac9232-959b-4359-bc5e-ae6f45e43ca0",
   "metadata": {},
   "outputs": [],
   "source": [
    "# This is a comment line\n",
    "# This is another comment line\n",
    "# A comment line in Python should be starting with # symbol"
   ]
  },
  {
   "cell_type": "code",
   "execution_count": 5,
   "id": "bb6ea1b9-0a2e-4b47-a42d-9f417a952a86",
   "metadata": {},
   "outputs": [
    {
     "name": "stdin",
     "output_type": "stream",
     "text": [
      "Please enter first integer:  300\n",
      "Please enter the second integer:  400\n"
     ]
    },
    {
     "name": "stdout",
     "output_type": "stream",
     "text": [
      "300 <class 'str'> 2861049775664\n",
      "400 <class 'str'> 2861049776048\n",
      "So the result is: 300400\n",
      "End of the program...\n"
     ]
    }
   ],
   "source": [
    "num1 = input(\"Please enter first integer: \")\n",
    "num2 = input(\"Please enter the second integer: \")\n",
    "print (num1, type(num1), id(num1))\n",
    "print (num2, type(num2), id(num2))\n",
    "result = num1 + num2  # string concatenation\n",
    "print (\"So the result is:\", result)\n",
    "print (\"End of the program...\")"
   ]
  },
  {
   "cell_type": "code",
   "execution_count": 32,
   "id": "c9214668-146c-4609-97f9-d9c4ac2f8f90",
   "metadata": {},
   "outputs": [
    {
     "name": "stdin",
     "output_type": "stream",
     "text": [
      "Please enter first integer:  100\n",
      "Please enter the second integer:  200\n"
     ]
    },
    {
     "name": "stdout",
     "output_type": "stream",
     "text": [
      "100 <class 'int'> 2422004190544\n",
      "200 <class 'int'> 2422004193744\n",
      "So the result is: 300\n",
      "End of the program...\n"
     ]
    }
   ],
   "source": [
    "num1 = int(input(\"Please enter first integer: \"))\n",
    "num2 = int(input(\"Please enter the second integer: \"))\n",
    "print (num1, type(num1), id(num1))\n",
    "print (num2, type(num2), id(num2))\n",
    "result = num1 + num2  # algebraic adition\n",
    "print (\"So the result is:\", result)\n",
    "print (\"End of the program...\")"
   ]
  },
  {
   "cell_type": "code",
   "execution_count": 10,
   "id": "5ac821fa-c2f8-4cbf-b207-d896b39ec8b4",
   "metadata": {},
   "outputs": [
    {
     "name": "stdin",
     "output_type": "stream",
     "text": [
      "Please enter first integer:  400\n",
      "Please enter the second integer:  500\n"
     ]
    }
   ],
   "source": [
    "num1 = int(input(\"Please enter first integer: \"))\n",
    "num2 = int(input(\"Please enter the second integer: \"))\n",
    "result = num1 + num2  # string concatenation"
   ]
  },
  {
   "cell_type": "code",
   "execution_count": 33,
   "id": "39605d15-a4d2-4ab2-84eb-1e5fe05c968c",
   "metadata": {},
   "outputs": [
    {
     "name": "stdout",
     "output_type": "stream",
     "text": [
      "So 100 + 200 = 300\n",
      "So 100 + 200 = 300\n",
      "So 100 + 200 = 300\n",
      "So 100 + 200 = 300\n",
      "So 100 + 200 = 300\n",
      "So 100 + 200 = 300\n",
      "So 100 + 200 = 300\n",
      "So 100 + 200 = 300\n",
      "So 100 + 200.000000 = 300\n",
      "So 100 +   200.00 = 300\n",
      "So 100 + 200 = 300\n"
     ]
    }
   ],
   "source": [
    "print (\"So\", num1, \"+\", num2, \"=\", result)\n",
    "print (\"So \" + str(num1) + \" + \" + str(num2) + \" = \" + str(result))\n",
    "print (\"So {} + {} = {}\".format(num1, num2, result))   # {} is called place holder\n",
    "print (\"So {0} + {1} = {2}\".format(num1, num2, result))   # indexed place holder\n",
    "print (\"So {2} + {1} = {0}\".format(result, num2, num1))   # indexed place holder\n",
    "print (\"So {fn} + {sn} = {tot}\".format(fn = num1, sn = num2, tot = result))   # labelled place holder\n",
    "print (\"So {fn} + {sn} = {tot}\".format(tot = result, sn = num2, fn = num1))   # labelled place holder\n",
    "print (\"So %d + %d = %d\"%(num1, num2, result))   # here %d stands for decimal format\n",
    "print (\"So %d + %f = %d\"%(num1, num2, result))   # here %f stands for float format\n",
    "print (\"So %d + %8.2f = %d\"%(num1, num2, result))   # here %f stands for float format\n",
    "print (f\"So {num1} + {num2} = {result}\")   # here f stands for smart formatting available from Python 2.7 version"
   ]
  },
  {
   "cell_type": "code",
   "execution_count": 27,
   "id": "d3819e79-b684-442b-9144-95654b660bf0",
   "metadata": {},
   "outputs": [
    {
     "name": "stdout",
     "output_type": "stream",
     "text": [
      "140\n",
      "60\n",
      "4000\n",
      "2.5\n",
      "2\n",
      "20\n",
      "100000000\n"
     ]
    }
   ],
   "source": [
    "# Arithmetic Operators\n",
    "print (100 + 40)   # addition\n",
    "print (100 - 40)   # subtraction\n",
    "print (100 * 40)   # multiplication\n",
    "print (100 / 40)   # float division\n",
    "print (100 // 40)  # integer division\n",
    "print (100 % 40)   # modulus or remainder of the division\n",
    "print (100 ** 4)   # exponentiation, to the power of"
   ]
  },
  {
   "cell_type": "code",
   "execution_count": 35,
   "id": "f57a04a5-f261-49e1-8686-588e305e02ef",
   "metadata": {},
   "outputs": [
    {
     "name": "stdin",
     "output_type": "stream",
     "text": [
      "Please enter the first integer:  100\n",
      "Please enter the second integer:  200\n",
      "Please enter the third integer:  300\n"
     ]
    },
    {
     "name": "stdout",
     "output_type": "stream",
     "text": [
      "The third number is the maximum number...\n",
      "So the maximum number is 300...\n",
      "End of the program...\n"
     ]
    }
   ],
   "source": [
    "# conditional statement\n",
    "# find the maximum of three user given numbers\n",
    "num1 = int(input(\"Please enter the first integer: \"))\n",
    "num2 = int(input(\"Please enter the second integer: \"))\n",
    "num3 = int(input(\"Please enter the third integer: \"))\n",
    "if (num1 > num2):\n",
    "    if (num1 > num3):\n",
    "        print (\"The first number is the maximum number...\")\n",
    "        print (f\"So the maximum number is {num1}...\")\n",
    "    else:\n",
    "        print (\"The third number is the maximum number...\")\n",
    "        print (f\"So the maximum number is {num3}...\")\n",
    "elif (num2 > num3):\n",
    "    print (\"The second number is the maximum number...\")\n",
    "    print (f\"So the maximum number is {num2}...\")\n",
    "else:\n",
    "    print (\"The third number is the maximum number...\")\n",
    "    print (f\"So the maximum number is {num3}...\")\n",
    "\n",
    "print (\"End of the program...\")               "
   ]
  },
  {
   "cell_type": "code",
   "execution_count": 42,
   "id": "7de2cc01-e088-4c94-92f7-827d8a48042a",
   "metadata": {},
   "outputs": [
    {
     "name": "stdin",
     "output_type": "stream",
     "text": [
      "Please enter the first integer:  300\n",
      "Please enter the second integer:  200\n",
      "Please enter the third integer:  100\n"
     ]
    },
    {
     "name": "stdout",
     "output_type": "stream",
     "text": [
      "The first number is the maximum number...\n",
      "So the maximum number is 300...\n",
      "End of the program...\n"
     ]
    }
   ],
   "source": [
    "# conditional statement\n",
    "# find the maximum of three user given numbers\n",
    "num1 = int(input(\"Please enter the first integer: \"))\n",
    "num2 = int(input(\"Please enter the second integer: \"))\n",
    "num3 = int(input(\"Please enter the third integer: \"))\n",
    "if (num1 > num2 and num1 > num3):\n",
    "    print (\"The first number is the maximum number...\")\n",
    "    print (f\"So the maximum number is {num1}...\")\n",
    "elif (num2 > num3):\n",
    "    print (\"The second number is the maximum number...\");\n",
    "    print (f\"So the maximum number is {num2}...\");\n",
    "else:\n",
    "    print (\"The third number is the maximum number...\")\n",
    "    print (f\"So the maximum number is {num3}...\")\n",
    "\n",
    "print (\"End of the program...\")     "
   ]
  },
  {
   "cell_type": "code",
   "execution_count": 41,
   "id": "e5dc86ef-99ac-4407-94c3-ff91454d2ec1",
   "metadata": {},
   "outputs": [
    {
     "name": "stdin",
     "output_type": "stream",
     "text": [
      "Please enter the first integer:  200\n",
      "Please enter the second integer:  300\n",
      "Please enter the third integer:  100\n"
     ]
    },
    {
     "name": "stdout",
     "output_type": "stream",
     "text": [
      "The second number is the maximum number...\n",
      "So the maximum number is 300...\n",
      "End of the program...\n"
     ]
    }
   ],
   "source": [
    "# conditional statement\n",
    "# find the maximum of three user given numbers\n",
    "num1 = int(input(\"Please enter the first integer: \"))\n",
    "num2 = int(input(\"Please enter the second integer: \"))\n",
    "num3 = int(input(\"Please enter the third integer: \"))\n",
    "if (num1 > num2 and num1 > num3): print (\"The first number is the maximum number...\"); print (f\"So the maximum number is {num1}...\")\n",
    "elif (num2 > num3):\n",
    "    print (\"The second number is the maximum number...\");\n",
    "    print (f\"So the maximum number is {num2}...\");\n",
    "else:\n",
    "    print (\"The third number is the maximum number...\")\n",
    "    print (f\"So the maximum number is {num3}...\")\n",
    "\n",
    "print (\"End of the program...\")    "
   ]
  },
  {
   "cell_type": "markdown",
   "id": "d9962cfc-9629-4a40-9937-da5847237c1a",
   "metadata": {},
   "source": [
    "### Loops in Python"
   ]
  },
  {
   "cell_type": "code",
   "execution_count": 4,
   "id": "3709e91c-a0de-4491-9ed9-e5e6c1088ceb",
   "metadata": {},
   "outputs": [
    {
     "name": "stdout",
     "output_type": "stream",
     "text": [
      "Executing for i = 0\n",
      "Executing for i = 1\n",
      "Executing for i = 2\n",
      "Executing for i = 3\n",
      "Executing for i = 4\n",
      "Executing for i = 5\n",
      "Executing for i = 6\n",
      "Executing for i = 7\n",
      "End of the program...\n"
     ]
    }
   ],
   "source": [
    "for i in range(8):\n",
    "    print (f\"Executing for i = {i}\")\n",
    "    \n",
    "print (\"End of the program...\")"
   ]
  },
  {
   "cell_type": "code",
   "execution_count": 3,
   "id": "7055c98c-6067-4978-9afe-cbb939966c0f",
   "metadata": {},
   "outputs": [
    {
     "name": "stdout",
     "output_type": "stream",
     "text": [
      "Executing for i = 0\n",
      "Executing for i = 1\n",
      "Executing for i = 2\n",
      "Executing for i = 3\n",
      "Executing for i = 4\n",
      "Executing for i = 5\n",
      "Executing for i = 6\n",
      "Executing for i = 7\n",
      "End of the program...\n"
     ]
    }
   ],
   "source": [
    "for i in range(0, 8, 1):\n",
    "    print (f\"Executing for i = {i}\")\n",
    "    \n",
    "print (\"End of the program...\")"
   ]
  },
  {
   "cell_type": "code",
   "execution_count": 5,
   "id": "d1afc23d-d952-42d5-aa18-badd3afc601f",
   "metadata": {},
   "outputs": [
    {
     "name": "stdout",
     "output_type": "stream",
     "text": [
      "Executing for i = 0\n",
      "Executing for i = 2\n",
      "Executing for i = 4\n",
      "Executing for i = 6\n",
      "Executing for i = 8\n",
      "End of the program...\n"
     ]
    }
   ],
   "source": [
    "for i in range(0, 10, 2):\n",
    "    print (f\"Executing for i = {i}\")\n",
    "    \n",
    "print (\"End of the program...\")"
   ]
  },
  {
   "cell_type": "code",
   "execution_count": 9,
   "id": "757f2b61-bab4-46cf-947c-6c1539cfd666",
   "metadata": {},
   "outputs": [
    {
     "name": "stdout",
     "output_type": "stream",
     "text": [
      "Executing for i = 10\n",
      "Executing for i = 8\n",
      "Executing for i = 6\n",
      "Executing for i = 4\n",
      "Executing for i = 2\n",
      "End of the program...\n"
     ]
    }
   ],
   "source": [
    "for i in range(10, 0, -2):\n",
    "    print (f\"Executing for i = {i}\")\n",
    "    \n",
    "print (\"End of the program...\")"
   ]
  },
  {
   "cell_type": "code",
   "execution_count": 8,
   "id": "e0025b10-2739-4522-91c5-d86381bcbbec",
   "metadata": {},
   "outputs": [
    {
     "name": "stdout",
     "output_type": "stream",
     "text": [
      "Executing for i = 1\n",
      "Executing for i = 2\n",
      "Executing for i = 3\n",
      "Executing for i = 4\n",
      "Executing for i = 5\n",
      "Executing for i = 6\n",
      "Executing for i = 7\n",
      "Executing for i = 8\n",
      "Else block is executing...\n",
      "Had a smooth execution...\n",
      "End of the program...\n"
     ]
    }
   ],
   "source": [
    "for i in range(1, 9):\n",
    "    print (f\"Executing for i = {i}\")\n",
    "else:\n",
    "    print (\"Else block is executing...\")\n",
    "    print (\"Had a smooth execution...\")\n",
    "print (\"End of the program...\")"
   ]
  },
  {
   "cell_type": "code",
   "execution_count": 11,
   "id": "2d619185-ec55-4a1e-84dd-309051572102",
   "metadata": {},
   "outputs": [
    {
     "name": "stdout",
     "output_type": "stream",
     "text": [
      "Executing for i = 1\n",
      "Executing for i = 2\n",
      "Executing for i = 3\n",
      "Executing for i = 4\n",
      "Executing for i = 5\n",
      "Executing for i = 6\n",
      "End of the program...\n"
     ]
    }
   ],
   "source": [
    "for i in range(1, 9):\n",
    "    print (f\"Executing for i = {i}\")\n",
    "    if (i == 6): break\n",
    "else:\n",
    "    print (\"Else block is executing...\")\n",
    "    print (\"Had a smooth execution...\")\n",
    "print (\"End of the program...\")"
   ]
  },
  {
   "cell_type": "code",
   "execution_count": 18,
   "id": "ed577368-3bb4-4449-94e0-57f5a6b6b198",
   "metadata": {},
   "outputs": [
    {
     "name": "stdout",
     "output_type": "stream",
     "text": [
      "Executing for i = 1\n",
      "Executing for i = 2\n",
      "Executing for i = 3\n",
      "Executing for i = 4\n",
      "Executing for i = 5\n",
      "Executing for i = 6\n",
      "Executing for i = 7\n",
      "Executing for i = 8\n",
      "For i = 8, we are breaking our the loop...\n",
      "End of the program...\n"
     ]
    }
   ],
   "source": [
    "for i in range(1, 9):\n",
    "    print (f\"Executing for i = {i}\")\n",
    "    if (i == 8): \n",
    "        print (f\"For i = {i}, we are breaking our the loop...\")\n",
    "        break\n",
    "else:\n",
    "    print (\"Else block is executing...\")\n",
    "    print (\"Had a smooth execution...\")\n",
    "print (\"End of the program...\")"
   ]
  },
  {
   "cell_type": "code",
   "execution_count": 17,
   "id": "fada75fb-f702-4f1e-ab42-4d744f9bd0cd",
   "metadata": {},
   "outputs": [
    {
     "name": "stdout",
     "output_type": "stream",
     "text": [
      "Executing for i = 1\n",
      "Executing for i = 2\n",
      "Executing for i = 3\n",
      "Executing for i = 4\n",
      "Executing for i = 5\n",
      "Executing for i = 6\n",
      "Executing for i = 7\n",
      "Executing for i = 8\n",
      "End of the program...\n"
     ]
    }
   ],
   "source": [
    "for i in range(1, 9):\n",
    "    print (f\"Executing for i = {i}\")\n",
    "    if (i != 8):\n",
    "        pass    # pass stands for statement placeholder\n",
    "    else:\n",
    "        break\n",
    "else:\n",
    "    print (\"Else block is executing...\")\n",
    "    print (\"Had a smooth execution...\")\n",
    "print (\"End of the program...\")"
   ]
  },
  {
   "cell_type": "code",
   "execution_count": 21,
   "id": "99ef4eb8-9323-414e-adad-a699730db7eb",
   "metadata": {},
   "outputs": [
    {
     "name": "stdout",
     "output_type": "stream",
     "text": [
      "Looping for i = 1...\n",
      "Looping for i = 2...\n",
      "Looping for i = 3...\n",
      "Looping for i = 4...\n",
      "Looping for i = 5...\n",
      "For i = 6 we are continuing the loop again...\n",
      "Looping for i = 7...\n",
      "For i = 8 we are continuing the loop again...\n",
      "Looping for i = 9...\n",
      "Looping for i = 10...\n",
      "Else block is executing...\n",
      "Had a smooth execution...\n",
      "End of the program...\n"
     ]
    }
   ],
   "source": [
    "for i in range(1, 11):\n",
    "    if (i == 6 or i == 8):\n",
    "        print (f\"For i = {i} we are continuing the loop again...\")\n",
    "        continue\n",
    "    print (f\"Looping for i = {i}...\")\n",
    "else:\n",
    "    print (\"Else block is executing...\")\n",
    "    print (\"Had a smooth execution...\")\n",
    "print (\"End of the program...\")"
   ]
  },
  {
   "cell_type": "code",
   "execution_count": 23,
   "id": "38147e44-1875-4099-8825-fb4fe9a886df",
   "metadata": {},
   "outputs": [
    {
     "name": "stdout",
     "output_type": "stream",
     "text": [
      "So 1 x 9 = 9...\n",
      "So 2 x 9 = 18...\n",
      "So 3 x 9 = 27...\n",
      "So 4 x 9 = 36...\n",
      "So 5 x 9 = 45...\n",
      "So 6 x 9 = 54...\n",
      "So 7 x 9 = 63...\n",
      "So 8 x 9 = 72...\n",
      "So 9 x 9 = 81...\n",
      "So 10 x 9 = 90...\n",
      "Else block is executing...\n",
      "End of the program...\n"
     ]
    }
   ],
   "source": [
    "i = 1\n",
    "num = 9\n",
    "while (i <= 10):\n",
    "    print (f\"So {i} x {num} = {i * num}...\")\n",
    "    # i += 1\n",
    "    i = i + 1\n",
    "else:\n",
    "    print (\"Else block is executing...\")\n",
    "print (\"End of the program...\")"
   ]
  },
  {
   "cell_type": "code",
   "execution_count": 25,
   "id": "b88815b6-e196-471b-b715-070ac5762c44",
   "metadata": {},
   "outputs": [
    {
     "name": "stdout",
     "output_type": "stream",
     "text": [
      "Visit Doctor...\n",
      "Good Morning...\n",
      "Day No. => 1 and Medicine No. => 1...\n",
      "Day No. => 1 and Medicine No. => 2...\n",
      "Day No. => 1 and Medicine No. => 3...\n",
      "Good Night...\n",
      "------------------------------------\n",
      "Good Morning...\n",
      "Day No. => 2 and Medicine No. => 1...\n",
      "Day No. => 2 and Medicine No. => 2...\n",
      "Day No. => 2 and Medicine No. => 3...\n",
      "Good Night...\n",
      "------------------------------------\n",
      "Good Morning...\n",
      "Day No. => 3 and Medicine No. => 1...\n",
      "Day No. => 3 and Medicine No. => 2...\n",
      "Day No. => 3 and Medicine No. => 3...\n",
      "Good Night...\n",
      "------------------------------------\n",
      "Good Morning...\n",
      "Day No. => 4 and Medicine No. => 1...\n",
      "Day No. => 4 and Medicine No. => 2...\n",
      "Day No. => 4 and Medicine No. => 3...\n",
      "Good Night...\n",
      "------------------------------------\n",
      "Good Morning...\n",
      "Day No. => 5 and Medicine No. => 1...\n",
      "Day No. => 5 and Medicine No. => 2...\n",
      "Day No. => 5 and Medicine No. => 3...\n",
      "Good Night...\n",
      "------------------------------------\n",
      "Thanks to Doctor...\n"
     ]
    }
   ],
   "source": [
    "print (\"Visit Doctor...\")   # 1 time\n",
    "for day in range(1, 6):\n",
    "    print (\"Good Morning...\")   # 5 times\n",
    "    for medi in range(1, 4):\n",
    "        print (f\"Day No. => {day} and Medicine No. => {medi}...\")   # 15 times\n",
    "    print (\"Good Night...\")   # 5 times\n",
    "    print (\"------------------------------------\")   # 5 times\n",
    "print (\"Thanks to Doctor...\")   # 1 time"
   ]
  },
  {
   "cell_type": "code",
   "execution_count": 26,
   "id": "64b73d25-c1dd-43e0-9290-9a5e3632e4f6",
   "metadata": {},
   "outputs": [
    {
     "name": "stdout",
     "output_type": "stream",
     "text": [
      "Visit Doctor...\n",
      "Good Morning...\n",
      "Day No. => 1 and Medicine No. => 1...\n",
      "Day No. => 1 and Medicine No. => 2...\n",
      "Day No. => 1 and Medicine No. => 3...\n",
      "Good Night...\n",
      "------------------------------------\n",
      "Good Morning...\n",
      "Day No. => 2 and Medicine No. => 1...\n",
      "Day No. => 2 and Medicine No. => 2...\n",
      "Day No. => 2 and Medicine No. => 3...\n",
      "Good Night...\n",
      "------------------------------------\n",
      "Good Morning...\n",
      "Day No. => 3 and Medicine No. => 1...\n",
      "Day No. => 3 and Medicine No. => 2...\n",
      "Day No. => 3 and Medicine No. => 3...\n",
      "Good Night...\n",
      "------------------------------------\n",
      "Good Morning...\n",
      "Day No. => 4 and Medicine No. => 1...\n",
      "Day No. => 4 and Medicine No. => 2...\n",
      "Day No. => 4 and Medicine No. => 3...\n",
      "Good Night...\n",
      "------------------------------------\n",
      "Good Morning...\n",
      "Day No. => 5 and Medicine No. => 1...\n",
      "Day No. => 5 and Medicine No. => 2...\n",
      "Day No. => 5 and Medicine No. => 3...\n",
      "Good Night...\n",
      "------------------------------------\n",
      "Thanks to Doctor...\n"
     ]
    }
   ],
   "source": [
    "print (\"Visit Doctor...\")   # 1 time\n",
    "day = 1\n",
    "while (day <= 5):\n",
    "    print (\"Good Morning...\")   # 5 times\n",
    "    medi = 1\n",
    "    while (medi <= 3):\n",
    "        print (f\"Day No. => {day} and Medicine No. => {medi}...\")   # 15 times\n",
    "        medi += 1\n",
    "    print (\"Good Night...\")   # 5 times\n",
    "    print (\"------------------------------------\")   # 5 times\n",
    "    day += 1\n",
    "print (\"Thanks to Doctor...\")   # 1 time"
   ]
  },
  {
   "cell_type": "code",
   "execution_count": 29,
   "id": "bee2434e-5ddd-45db-8435-d3a35c463b60",
   "metadata": {},
   "outputs": [
    {
     "name": "stdout",
     "output_type": "stream",
     "text": [
      "Hello Hello Hello \n",
      "Welcome Welcome Welcome Welcome Welcome \n"
     ]
    }
   ],
   "source": [
    "print (\"Hello \" * 3)\n",
    "print (\"Welcome \" * 5)"
   ]
  },
  {
   "cell_type": "code",
   "execution_count": null,
   "id": "b41516dd-b40d-4c37-b1ff-9d15463591f6",
   "metadata": {},
   "outputs": [],
   "source": [
    "Pattern Printing - 1\n",
    "--------------------\n",
    "\n",
    "n = 6           i   .   *\n",
    "             ---------------\n",
    ".....*          1   5   1       (n, i)\n",
    "....***         2   4   3  . => (n - i)\n",
    "...*****        3   3   5  \n",
    "..*******       4   2   7  * => (2 * i - 1)\n",
    ".*********      5   1   9\n",
    "***********     6   0  11\n",
    "             ---------------\n",
    "              Tracing Table"
   ]
  },
  {
   "cell_type": "code",
   "execution_count": 34,
   "id": "3c36c329-bfb8-4616-80c5-1995451a66a5",
   "metadata": {},
   "outputs": [
    {
     "name": "stdin",
     "output_type": "stream",
     "text": [
      "Please enter the number of layers in the pattern:  10\n"
     ]
    },
    {
     "name": "stdout",
     "output_type": "stream",
     "text": [
      ".........*\n",
      "........***\n",
      ".......*****\n",
      "......*******\n",
      ".....*********\n",
      "....***********\n",
      "...*************\n",
      "..***************\n",
      ".*****************\n",
      "*******************\n",
      "End of the program...\n"
     ]
    }
   ],
   "source": [
    "n = int(input(\"Please enter the number of layers in the pattern: \"))\n",
    "for i in range(1, n + 1):\n",
    "    print (\".\" * (n - i) + \"*\" * (2 * i - 1))\n",
    "print (\"End of the program...\")"
   ]
  },
  {
   "cell_type": "code",
   "execution_count": null,
   "id": "198f6e61-2046-4430-8253-032fcd06cdd2",
   "metadata": {},
   "outputs": [],
   "source": [
    "Pattern Printing - 2\n",
    "--------------------\n",
    "\n",
    "n = 6           i   .   *\n",
    "             ---------------\n",
    "***********     1   0  11       (n, i)\n",
    ".*********      2   1   9  . => (i - 1)\n",
    "..*******       3   2   7  \n",
    "...*****        4   3   5  * => (2 * (n - i) + 1)\n",
    "....***         5   4   3\n",
    ".....*          6   5   1\n",
    "             ---------------\n",
    "              Tracing Table"
   ]
  },
  {
   "cell_type": "code",
   "execution_count": 37,
   "id": "5395a51c-8840-4ea1-ab42-678d311f448e",
   "metadata": {},
   "outputs": [
    {
     "name": "stdin",
     "output_type": "stream",
     "text": [
      "Please enter the number of layers in the pattern:  6\n"
     ]
    },
    {
     "name": "stdout",
     "output_type": "stream",
     "text": [
      "***********\n",
      ".*********\n",
      "..*******\n",
      "...*****\n",
      "....***\n",
      ".....*\n",
      "End of the program...\n"
     ]
    }
   ],
   "source": [
    "n = int(input(\"Please enter the number of layers in the pattern: \"))\n",
    "for i in range(1, n + 1):\n",
    "    print (\".\" * (i - 1) + \"*\" * (2 * (n - i) + 1))\n",
    "print (\"End of the program...\")"
   ]
  },
  {
   "cell_type": "markdown",
   "id": "3263af53-a761-491b-a2f4-d22964e5e10f",
   "metadata": {},
   "source": [
    "### Exception Handling"
   ]
  },
  {
   "cell_type": "code",
   "execution_count": 39,
   "id": "63ea238a-c6c5-4759-b175-4513a72b717f",
   "metadata": {},
   "outputs": [
    {
     "name": "stdin",
     "output_type": "stream",
     "text": [
      "Please enter the first integer number:  100\n",
      "Please enter the second integer number:  0\n"
     ]
    },
    {
     "ename": "ZeroDivisionError",
     "evalue": "division by zero",
     "output_type": "error",
     "traceback": [
      "\u001b[1;31m---------------------------------------------------------------------------\u001b[0m",
      "\u001b[1;31mZeroDivisionError\u001b[0m                         Traceback (most recent call last)",
      "Cell \u001b[1;32mIn[39], line 3\u001b[0m\n\u001b[0;32m      1\u001b[0m num1 \u001b[38;5;241m=\u001b[39m \u001b[38;5;28mint\u001b[39m(\u001b[38;5;28minput\u001b[39m(\u001b[38;5;124m\"\u001b[39m\u001b[38;5;124mPlease enter the first integer number: \u001b[39m\u001b[38;5;124m\"\u001b[39m))\n\u001b[0;32m      2\u001b[0m num2 \u001b[38;5;241m=\u001b[39m \u001b[38;5;28mint\u001b[39m(\u001b[38;5;28minput\u001b[39m(\u001b[38;5;124m\"\u001b[39m\u001b[38;5;124mPlease enter the second integer number: \u001b[39m\u001b[38;5;124m\"\u001b[39m))\n\u001b[1;32m----> 3\u001b[0m result \u001b[38;5;241m=\u001b[39m \u001b[43mnum1\u001b[49m\u001b[43m \u001b[49m\u001b[38;5;241;43m/\u001b[39;49m\u001b[43m \u001b[49m\u001b[43mnum2\u001b[49m\n\u001b[0;32m      4\u001b[0m \u001b[38;5;28mprint\u001b[39m (\u001b[38;5;124mf\u001b[39m\u001b[38;5;124m\"\u001b[39m\u001b[38;5;124mSo \u001b[39m\u001b[38;5;132;01m{\u001b[39;00mnum1\u001b[38;5;132;01m}\u001b[39;00m\u001b[38;5;124m / \u001b[39m\u001b[38;5;132;01m{\u001b[39;00mnum2\u001b[38;5;132;01m}\u001b[39;00m\u001b[38;5;124m = \u001b[39m\u001b[38;5;132;01m{\u001b[39;00mresult\u001b[38;5;132;01m}\u001b[39;00m\u001b[38;5;124m...\u001b[39m\u001b[38;5;124m\"\u001b[39m)\n\u001b[0;32m      5\u001b[0m \u001b[38;5;28mprint\u001b[39m (\u001b[38;5;124m\"\u001b[39m\u001b[38;5;124mEnd of the program...\u001b[39m\u001b[38;5;124m\"\u001b[39m)\n",
      "\u001b[1;31mZeroDivisionError\u001b[0m: division by zero"
     ]
    }
   ],
   "source": [
    "num1 = int(input(\"Please enter the first integer number: \"))\n",
    "num2 = int(input(\"Please enter the second integer number: \"))\n",
    "result = num1 / num2\n",
    "print (f\"So {num1} / {num2} = {result}...\")\n",
    "print (\"End of the program...\")"
   ]
  },
  {
   "cell_type": "code",
   "execution_count": 43,
   "id": "0336fc5a-7cf6-4858-b423-c5ef3bdb3efb",
   "metadata": {},
   "outputs": [
    {
     "name": "stdin",
     "output_type": "stream",
     "text": [
      "Please enter the first integer number:  hundred\n"
     ]
    },
    {
     "ename": "ValueError",
     "evalue": "invalid literal for int() with base 10: 'hundred'",
     "output_type": "error",
     "traceback": [
      "\u001b[1;31m---------------------------------------------------------------------------\u001b[0m",
      "\u001b[1;31mValueError\u001b[0m                                Traceback (most recent call last)",
      "Cell \u001b[1;32mIn[43], line 2\u001b[0m\n\u001b[0;32m      1\u001b[0m \u001b[38;5;28;01mtry\u001b[39;00m:    \n\u001b[1;32m----> 2\u001b[0m     num1 \u001b[38;5;241m=\u001b[39m \u001b[38;5;28;43mint\u001b[39;49m\u001b[43m(\u001b[49m\u001b[38;5;28;43minput\u001b[39;49m\u001b[43m(\u001b[49m\u001b[38;5;124;43m\"\u001b[39;49m\u001b[38;5;124;43mPlease enter the first integer number: \u001b[39;49m\u001b[38;5;124;43m\"\u001b[39;49m\u001b[43m)\u001b[49m\u001b[43m)\u001b[49m\n\u001b[0;32m      3\u001b[0m     num2 \u001b[38;5;241m=\u001b[39m \u001b[38;5;28mint\u001b[39m(\u001b[38;5;28minput\u001b[39m(\u001b[38;5;124m\"\u001b[39m\u001b[38;5;124mPlease enter the second integer number: \u001b[39m\u001b[38;5;124m\"\u001b[39m))\n\u001b[0;32m      4\u001b[0m     result \u001b[38;5;241m=\u001b[39m num1 \u001b[38;5;241m/\u001b[39m num2\n",
      "\u001b[1;31mValueError\u001b[0m: invalid literal for int() with base 10: 'hundred'"
     ]
    }
   ],
   "source": [
    "try:    \n",
    "    num1 = int(input(\"Please enter the first integer number: \"))\n",
    "    num2 = int(input(\"Please enter the second integer number: \"))\n",
    "    result = num1 / num2\n",
    "    print (f\"So {num1} / {num2} = {result}...\")\n",
    "except ZeroDivisionError as zde:\n",
    "    print (\"ZeroDivisionError: Division by ZERO is Illegal...\")\n",
    "    print (\"ZeroDivisionError: Error Type:\", type(zde))\n",
    "    print (\"ZeroDivisionError: Error Message:\", zde)\n",
    "print (\"End of the program...\")"
   ]
  },
  {
   "cell_type": "code",
   "execution_count": 46,
   "id": "55ee0c06-345f-4384-b79d-293aa580d53e",
   "metadata": {},
   "outputs": [
    {
     "name": "stdin",
     "output_type": "stream",
     "text": [
      "Please enter the first integer number:  10.4\n"
     ]
    },
    {
     "name": "stdout",
     "output_type": "stream",
     "text": [
      "ValueError: Please provide INTEGER values only...\n",
      "ValueError: Error Type: <class 'ValueError'>\n",
      "ValueError: Error Message: invalid literal for int() with base 10: '10.4'\n",
      "End of the program...\n"
     ]
    }
   ],
   "source": [
    "try:    \n",
    "    num1 = int(input(\"Please enter the first integer number: \"))\n",
    "    num2 = int(input(\"Please enter the second integer number: \"))\n",
    "    result = num1 / num2\n",
    "    print (f\"So {num1} / {num2} = {result}...\")\n",
    "except ZeroDivisionError as zde:\n",
    "    print (\"ZeroDivisionError: Division by ZERO is Illegal...\")\n",
    "    print (\"ZeroDivisionError: Error Type:\", type(zde))\n",
    "    print (\"ZeroDivisionError: Error Message:\", zde)\n",
    "except ValueError as ve:\n",
    "    print (\"ValueError: Please provide INTEGER values only...\")\n",
    "    print (\"ValueError: Error Type:\", type(ve))\n",
    "    print (\"ValueError: Error Message:\", ve)\n",
    "print (\"End of the program...\")"
   ]
  },
  {
   "cell_type": "code",
   "execution_count": 48,
   "id": "436b8fc2-b012-4ae3-bbec-fe58685cd5fc",
   "metadata": {},
   "outputs": [
    {
     "name": "stdin",
     "output_type": "stream",
     "text": [
      "Please enter the first integer number:  100\n",
      "Please enter the second integer number:  0\n"
     ]
    },
    {
     "name": "stdout",
     "output_type": "stream",
     "text": [
      "Exception: Some ERROR has occurred...!!!\n",
      "Exception: Error Type: <class 'ZeroDivisionError'>\n",
      "Exception: Error Message: division by zero\n",
      "End of the program...\n"
     ]
    }
   ],
   "source": [
    "try:    \n",
    "    num1 = int(input(\"Please enter the first integer number: \"))\n",
    "    num2 = int(input(\"Please enter the second integer number: \"))\n",
    "    result = num1 / num2\n",
    "    print (f\"So {num1} / {num2} = {result}...\")\n",
    "except ZeroDivisionError as zde:\n",
    "    print (\"ZeroDivisionError: Division by ZERO is Illegal...\")\n",
    "    print (\"ZeroDivisionError: Error Type:\", type(zde))\n",
    "    print (\"ZeroDivisionError: Error Message:\", zde)\n",
    "except ValueError as ve:\n",
    "    print (\"ValueError: Please provide INTEGER values only...\")\n",
    "    print (\"ValueError: Error Type:\", type(ve))\n",
    "    print (\"ValueError: Error Message:\", ve)\n",
    "except Exception as ex:\n",
    "    print (\"Exception: Some ERROR has occurred...!!!\")\n",
    "    print (\"Exception: Error Type:\", type(ex))\n",
    "    print (\"Exception: Error Message:\", ex)\n",
    "print (\"End of the program...\")"
   ]
  },
  {
   "cell_type": "code",
   "execution_count": 53,
   "id": "53a619ea-5cb0-4fa7-b7c8-3d00e3394656",
   "metadata": {},
   "outputs": [
    {
     "name": "stdin",
     "output_type": "stream",
     "text": [
      "Please enter the first integer number:  100\n",
      "Please enter the second integer number:  30\n"
     ]
    },
    {
     "name": "stdout",
     "output_type": "stream",
     "text": [
      "So 100 / 30 = 3.3333333333333335...\n",
      "End of the program...\n"
     ]
    }
   ],
   "source": [
    "try:    \n",
    "    num1 = int(input(\"Please enter the first integer number: \"))\n",
    "    num2 = int(input(\"Please enter the second integer number: \"))\n",
    "    if (num1 < -100 or num2 < -100): raise NameError(\"Below-100\")\n",
    "    if (num1 > 100 or num2 > 100): raise NameError(\"Above+100\")\n",
    "    result = num1 / num2\n",
    "    print (f\"So {num1} / {num2} = {result}...\")\n",
    "except ZeroDivisionError as zde:\n",
    "    print (\"ZeroDivisionError: Division by ZERO is Illegal...\")\n",
    "    print (\"ZeroDivisionError: Error Type:\", type(zde))\n",
    "    print (\"ZeroDivisionError: Error Message:\", zde)\n",
    "except ValueError as ve:\n",
    "    print (\"ValueError: Please provide INTEGER values only...\")\n",
    "    print (\"ValueError: Error Type:\", type(ve))\n",
    "    print (\"ValueError: Error Message:\", ve)\n",
    "except NameError as ne:\n",
    "    print (\"NameError: Input value if out of range...\")\n",
    "    print (\"NameError: Error Type:\", type(ne))\n",
    "    print (\"NameError: Error Message:\", ne)\n",
    "    if (str(ne) == \"Below-100\"): print (\"NameError: Input value is BELLOW -100...\")\n",
    "    if (str(ne) == \"Above+100\"): print (\"NameError: Input value is ABOVE +100...\")\n",
    "except Exception as ex:\n",
    "    print (\"Exception: Some ERROR has occurred...!!!\")\n",
    "    print (\"Exception: Error Type:\", type(ex))\n",
    "    print (\"Exception: Error Message:\", ex)\n",
    "print (\"End of the program...\")"
   ]
  },
  {
   "cell_type": "code",
   "execution_count": 55,
   "id": "e124fee8-99a7-420c-93fa-86ff23a9bfc6",
   "metadata": {},
   "outputs": [
    {
     "name": "stdin",
     "output_type": "stream",
     "text": [
      "Please enter the first integer number:  hundred\n"
     ]
    },
    {
     "name": "stdout",
     "output_type": "stream",
     "text": [
      "ValueError: Please provide INTEGER values only...\n",
      "ValueError: Error Type: <class 'ValueError'>\n",
      "ValueError: Error Message: invalid literal for int() with base 10: 'hundred'\n",
      "Finally: FINALLY block executes always...\n",
      "Finally: FINALLY block should be the last block...\n",
      "End of the program...\n"
     ]
    }
   ],
   "source": [
    "try:    \n",
    "    num1 = int(input(\"Please enter the first integer number: \"))\n",
    "    num2 = int(input(\"Please enter the second integer number: \"))\n",
    "    if (num1 < -100 or num2 < -100): raise NameError(\"Below-100\")\n",
    "    if (num1 > 100 or num2 > 100): raise NameError(\"Above+100\")\n",
    "    result = num1 / num2\n",
    "    print (f\"So {num1} / {num2} = {result}...\")\n",
    "except ZeroDivisionError as zde:\n",
    "    print (\"ZeroDivisionError: Division by ZERO is Illegal...\")\n",
    "    print (\"ZeroDivisionError: Error Type:\", type(zde))\n",
    "    print (\"ZeroDivisionError: Error Message:\", zde)\n",
    "except ValueError as ve:\n",
    "    print (\"ValueError: Please provide INTEGER values only...\")\n",
    "    print (\"ValueError: Error Type:\", type(ve))\n",
    "    print (\"ValueError: Error Message:\", ve)\n",
    "except NameError as ne:\n",
    "    print (\"NameError: Input value if out of range...\")\n",
    "    print (\"NameError: Error Type:\", type(ne))\n",
    "    print (\"NameError: Error Message:\", ne)\n",
    "    if (str(ne) == \"Below-100\"): print (\"NameError: Input value is BELLOW -100...\")\n",
    "    if (str(ne) == \"Above+100\"): print (\"NameError: Input value is ABOVE +100...\")\n",
    "except Exception as ex:\n",
    "    print (\"Exception: Some ERROR has occurred...!!!\")\n",
    "    print (\"Exception: Error Type:\", type(ex))\n",
    "    print (\"Exception: Error Message:\", ex)\n",
    "else:\n",
    "    print (\"Else: ELSE block is executing...\")\n",
    "    print (\"Else: Had a smooth execution...\")\n",
    "finally:\n",
    "    print (\"Finally: FINALLY block executes always...\")\n",
    "    print (\"Finally: FINALLY block should be the last block...\")\n",
    "print (\"End of the program...\")"
   ]
  },
  {
   "cell_type": "code",
   "execution_count": 56,
   "id": "8cd9c1db-cc99-4ee5-af5a-e418bee0039a",
   "metadata": {},
   "outputs": [
    {
     "name": "stdin",
     "output_type": "stream",
     "text": [
      "Please enter the first integer number:  1000\n",
      "Please enter the second integer number:  2\n"
     ]
    },
    {
     "name": "stdout",
     "output_type": "stream",
     "text": [
      "NameError: Input value if out of range...\n",
      "NameError: Error Type: <class 'NameError'>\n",
      "NameError: Error Message: Above+100\n",
      "NameError: Input value is ABOVE +100...\n",
      "Finally: FINALLY block executes always...\n",
      "Finally: FINALLY block should be the last block...\n"
     ]
    },
    {
     "name": "stdin",
     "output_type": "stream",
     "text": [
      "Please enter the first integer number:  -1000\n",
      "Please enter the second integer number:  2\n"
     ]
    },
    {
     "name": "stdout",
     "output_type": "stream",
     "text": [
      "NameError: Input value if out of range...\n",
      "NameError: Error Type: <class 'NameError'>\n",
      "NameError: Error Message: Below-100\n",
      "NameError: Input value is BELLOW -100...\n",
      "Finally: FINALLY block executes always...\n",
      "Finally: FINALLY block should be the last block...\n"
     ]
    },
    {
     "name": "stdin",
     "output_type": "stream",
     "text": [
      "Please enter the first integer number:  100\n",
      "Please enter the second integer number:  0\n"
     ]
    },
    {
     "name": "stdout",
     "output_type": "stream",
     "text": [
      "ZeroDivisionError: Division by ZERO is Illegal...\n",
      "ZeroDivisionError: Error Type: <class 'ZeroDivisionError'>\n",
      "ZeroDivisionError: Error Message: division by zero\n",
      "Finally: FINALLY block executes always...\n",
      "Finally: FINALLY block should be the last block...\n"
     ]
    },
    {
     "name": "stdin",
     "output_type": "stream",
     "text": [
      "Please enter the first integer number:  100.5\n"
     ]
    },
    {
     "name": "stdout",
     "output_type": "stream",
     "text": [
      "ValueError: Please provide INTEGER values only...\n",
      "ValueError: Error Type: <class 'ValueError'>\n",
      "ValueError: Error Message: invalid literal for int() with base 10: '100.5'\n",
      "Finally: FINALLY block executes always...\n",
      "Finally: FINALLY block should be the last block...\n"
     ]
    },
    {
     "name": "stdin",
     "output_type": "stream",
     "text": [
      "Please enter the first integer number:  \n"
     ]
    },
    {
     "name": "stdout",
     "output_type": "stream",
     "text": [
      "ValueError: Please provide INTEGER values only...\n",
      "ValueError: Error Type: <class 'ValueError'>\n",
      "ValueError: Error Message: invalid literal for int() with base 10: ''\n",
      "Finally: FINALLY block executes always...\n",
      "Finally: FINALLY block should be the last block...\n"
     ]
    },
    {
     "name": "stdin",
     "output_type": "stream",
     "text": [
      "Please enter the first integer number:  hundred\n"
     ]
    },
    {
     "name": "stdout",
     "output_type": "stream",
     "text": [
      "ValueError: Please provide INTEGER values only...\n",
      "ValueError: Error Type: <class 'ValueError'>\n",
      "ValueError: Error Message: invalid literal for int() with base 10: 'hundred'\n",
      "Finally: FINALLY block executes always...\n",
      "Finally: FINALLY block should be the last block...\n"
     ]
    },
    {
     "name": "stdin",
     "output_type": "stream",
     "text": [
      "Please enter the first integer number:  40\n",
      "Please enter the second integer number:  8\n"
     ]
    },
    {
     "name": "stdout",
     "output_type": "stream",
     "text": [
      "So 40 / 8 = 5.0...\n",
      "Else: ELSE block is executing...\n",
      "Else: Had a smooth execution...\n",
      "Finally: FINALLY block executes always...\n",
      "Finally: FINALLY block should be the last block...\n",
      "End of the program...\n"
     ]
    }
   ],
   "source": [
    "while (True):\n",
    "    try:    \n",
    "        num1 = int(input(\"Please enter the first integer number: \"))\n",
    "        num2 = int(input(\"Please enter the second integer number: \"))\n",
    "        if (num1 < -100 or num2 < -100): raise NameError(\"Below-100\")\n",
    "        if (num1 > 100 or num2 > 100): raise NameError(\"Above+100\")\n",
    "        result = num1 / num2\n",
    "        print (f\"So {num1} / {num2} = {result}...\")\n",
    "    except ZeroDivisionError as zde:\n",
    "        print (\"ZeroDivisionError: Division by ZERO is Illegal...\")\n",
    "        print (\"ZeroDivisionError: Error Type:\", type(zde))\n",
    "        print (\"ZeroDivisionError: Error Message:\", zde)\n",
    "    except ValueError as ve:\n",
    "        print (\"ValueError: Please provide INTEGER values only...\")\n",
    "        print (\"ValueError: Error Type:\", type(ve))\n",
    "        print (\"ValueError: Error Message:\", ve)\n",
    "    except NameError as ne:\n",
    "        print (\"NameError: Input value if out of range...\")\n",
    "        print (\"NameError: Error Type:\", type(ne))\n",
    "        print (\"NameError: Error Message:\", ne)\n",
    "        if (str(ne) == \"Below-100\"): print (\"NameError: Input value is BELLOW -100...\")\n",
    "        if (str(ne) == \"Above+100\"): print (\"NameError: Input value is ABOVE +100...\")\n",
    "    except Exception as ex:\n",
    "        print (\"Exception: Some ERROR has occurred...!!!\")\n",
    "        print (\"Exception: Error Type:\", type(ex))\n",
    "        print (\"Exception: Error Message:\", ex)\n",
    "    else:\n",
    "        print (\"Else: ELSE block is executing...\")\n",
    "        print (\"Else: Had a smooth execution...\")\n",
    "        break\n",
    "    finally:\n",
    "        print (\"Finally: FINALLY block executes always...\")\n",
    "        print (\"Finally: FINALLY block should be the last block...\")\n",
    "print (\"End of the program...\")"
   ]
  },
  {
   "cell_type": "code",
   "execution_count": 56,
   "id": "277d033b-2ccb-4cb2-a667-91def23e1b6e",
   "metadata": {},
   "outputs": [
    {
     "name": "stdin",
     "output_type": "stream",
     "text": [
      "Please enter the first integer number:  1000\n",
      "Please enter the second integer number:  2\n"
     ]
    },
    {
     "name": "stdout",
     "output_type": "stream",
     "text": [
      "NameError: Input value if out of range...\n",
      "NameError: Error Type: <class 'NameError'>\n",
      "NameError: Error Message: Above+100\n",
      "NameError: Input value is ABOVE +100...\n",
      "Finally: FINALLY block executes always...\n",
      "Finally: FINALLY block should be the last block...\n"
     ]
    },
    {
     "name": "stdin",
     "output_type": "stream",
     "text": [
      "Please enter the first integer number:  -1000\n",
      "Please enter the second integer number:  2\n"
     ]
    },
    {
     "name": "stdout",
     "output_type": "stream",
     "text": [
      "NameError: Input value if out of range...\n",
      "NameError: Error Type: <class 'NameError'>\n",
      "NameError: Error Message: Below-100\n",
      "NameError: Input value is BELLOW -100...\n",
      "Finally: FINALLY block executes always...\n",
      "Finally: FINALLY block should be the last block...\n"
     ]
    },
    {
     "name": "stdin",
     "output_type": "stream",
     "text": [
      "Please enter the first integer number:  100\n",
      "Please enter the second integer number:  0\n"
     ]
    },
    {
     "name": "stdout",
     "output_type": "stream",
     "text": [
      "ZeroDivisionError: Division by ZERO is Illegal...\n",
      "ZeroDivisionError: Error Type: <class 'ZeroDivisionError'>\n",
      "ZeroDivisionError: Error Message: division by zero\n",
      "Finally: FINALLY block executes always...\n",
      "Finally: FINALLY block should be the last block...\n"
     ]
    },
    {
     "name": "stdin",
     "output_type": "stream",
     "text": [
      "Please enter the first integer number:  100.5\n"
     ]
    },
    {
     "name": "stdout",
     "output_type": "stream",
     "text": [
      "ValueError: Please provide INTEGER values only...\n",
      "ValueError: Error Type: <class 'ValueError'>\n",
      "ValueError: Error Message: invalid literal for int() with base 10: '100.5'\n",
      "Finally: FINALLY block executes always...\n",
      "Finally: FINALLY block should be the last block...\n"
     ]
    },
    {
     "name": "stdin",
     "output_type": "stream",
     "text": [
      "Please enter the first integer number:  \n"
     ]
    },
    {
     "name": "stdout",
     "output_type": "stream",
     "text": [
      "ValueError: Please provide INTEGER values only...\n",
      "ValueError: Error Type: <class 'ValueError'>\n",
      "ValueError: Error Message: invalid literal for int() with base 10: ''\n",
      "Finally: FINALLY block executes always...\n",
      "Finally: FINALLY block should be the last block...\n"
     ]
    },
    {
     "name": "stdin",
     "output_type": "stream",
     "text": [
      "Please enter the first integer number:  hundred\n"
     ]
    },
    {
     "name": "stdout",
     "output_type": "stream",
     "text": [
      "ValueError: Please provide INTEGER values only...\n",
      "ValueError: Error Type: <class 'ValueError'>\n",
      "ValueError: Error Message: invalid literal for int() with base 10: 'hundred'\n",
      "Finally: FINALLY block executes always...\n",
      "Finally: FINALLY block should be the last block...\n"
     ]
    },
    {
     "name": "stdin",
     "output_type": "stream",
     "text": [
      "Please enter the first integer number:  40\n",
      "Please enter the second integer number:  8\n"
     ]
    },
    {
     "name": "stdout",
     "output_type": "stream",
     "text": [
      "So 40 / 8 = 5.0...\n",
      "Else: ELSE block is executing...\n",
      "Else: Had a smooth execution...\n",
      "Finally: FINALLY block executes always...\n",
      "Finally: FINALLY block should be the last block...\n",
      "End of the program...\n"
     ]
    }
   ],
   "source": [
    "while (True):\n",
    "    try:    \n",
    "        num1 = int(input(\"Please enter the first integer number: \"))\n",
    "        num2 = int(input(\"Please enter the second integer number: \"))\n",
    "        if (num1 < -100 or num2 < -100): raise NameError(\"Below-100\")\n",
    "        if (num1 > 100 or num2 > 100): raise NameError(\"Above+100\")\n",
    "        result = num1 / num2\n",
    "        print (f\"So {num1} / {num2} = {result}...\")\n",
    "    except ZeroDivisionError as zde:\n",
    "        print (\"ZeroDivisionError: Division by ZERO is Illegal...\")\n",
    "        print (\"ZeroDivisionError: Error Type:\", type(zde))\n",
    "        print (\"ZeroDivisionError: Error Message:\", zde)\n",
    "    except ValueError as ve:\n",
    "        print (\"ValueError: Please provide INTEGER values only...\")\n",
    "        print (\"ValueError: Error Type:\", type(ve))\n",
    "        print (\"ValueError: Error Message:\", ve)\n",
    "    except NameError as ne:\n",
    "        print (\"NameError: Input value if out of range...\")\n",
    "        print (\"NameError: Error Type:\", type(ne))\n",
    "        print (\"NameError: Error Message:\", ne)\n",
    "        if (str(ne) == \"Below-100\"): print (\"NameError: Input value is BELLOW -100...\")\n",
    "        if (str(ne) == \"Above+100\"): print (\"NameError: Input value is ABOVE +100...\")\n",
    "    except Exception as ex:\n",
    "        print (\"Exception: Some ERROR has occurred...!!!\")\n",
    "        print (\"Exception: Error Type:\", type(ex))\n",
    "        print (\"Exception: Error Message:\", ex)\n",
    "    else:\n",
    "        print (\"Else: ELSE block is executing...\")\n",
    "        print (\"Else: Had a smooth execution...\")\n",
    "        break\n",
    "    finally:\n",
    "        print (\"Finally: FINALLY block executes always...\")\n",
    "        print (\"Finally: FINALLY block should be the last block...\")\n",
    "print (\"End of the program...\")"
   ]
  },
  {
   "cell_type": "code",
   "execution_count": 4,
   "id": "ebe71706-450b-4863-9108-5722fe2014f1",
   "metadata": {},
   "outputs": [
    {
     "name": "stdout",
     "output_type": "stream",
     "text": [
      "Even number...\n"
     ]
    }
   ],
   "source": [
    "num1 = 100\n",
    "if (num1 % 2 == 0):\n",
    "    print (\"Even number...\")\n",
    "else:\n",
    "    print (\"Odd number...\")"
   ]
  },
  {
   "cell_type": "markdown",
   "id": "00e9c5d7-cf2b-4af6-95c8-f0e0cf9f23f5",
   "metadata": {},
   "source": [
    "### User Define Function (UDF)"
   ]
  },
  {
   "cell_type": "code",
   "execution_count": 11,
   "id": "a586bebb-15aa-4ec8-9768-fba772d26f06",
   "metadata": {},
   "outputs": [
    {
     "name": "stdout",
     "output_type": "stream",
     "text": [
      "Welcome Welcome Welcome Welcome Welcome \n",
      "Welcome Welcome Welcome Welcome Welcome \n",
      "Welcome Welcome Welcome Welcome Welcome \n"
     ]
    }
   ],
   "source": [
    "def funct1():\n",
    "    print (\"Welcome \" * 5)\n",
    "    \n",
    "funct1()\n",
    "funct1()\n",
    "funct1()"
   ]
  },
  {
   "cell_type": "code",
   "execution_count": 14,
   "id": "7f9f91dd-d777-46c9-b90d-b6a358f6afc2",
   "metadata": {},
   "outputs": [
    {
     "name": "stdout",
     "output_type": "stream",
     "text": [
      "Good Morning. Good Morning. Good Morning. Good Morning. \n",
      "Hello. Hello. Hello. Hello. Hello. Hello. \n",
      "Hi !!! Hi !!! Hi !!! Hi !!! Hi !!! Hi !!! Hi !!! Hi !!! Hi !!! \n"
     ]
    }
   ],
   "source": [
    "def funct2(msg, times):   # positional parameters\n",
    "    print (msg * times)\n",
    "    \n",
    "funct2 (\"Good Morning. \", 4)   # positional arguments\n",
    "funct2 (\"Hello. \", 6)\n",
    "funct2 (\"Hi !!! \", 9)"
   ]
  },
  {
   "cell_type": "code",
   "execution_count": 17,
   "id": "6a8f17b0-636a-4996-a143-5780dac12a3f",
   "metadata": {},
   "outputs": [
    {
     "name": "stdout",
     "output_type": "stream",
     "text": [
      "Hello Hello Hello Hello Hello Hello \n",
      "Hi Hi \n",
      "Welcome Welcome Welcome Welcome Welcome \n"
     ]
    }
   ],
   "source": [
    "def funct3(msg, times):\n",
    "    return msg * times\n",
    "    \n",
    "result = funct3(\"Hello \", 6)\n",
    "print (result)\n",
    "result = funct3(\"Hi \", 2)\n",
    "print (result)\n",
    "print (funct3(\"Welcome \", 5))"
   ]
  },
  {
   "cell_type": "code",
   "execution_count": 27,
   "id": "b14063a0-418e-4943-a222-22bc7d5394f9",
   "metadata": {},
   "outputs": [
    {
     "name": "stdout",
     "output_type": "stream",
     "text": [
      "So par1 = 100, par2 = 200, par3 = 300...\n",
      "So par1 = 100, par2 = 200, par3 = 333...\n",
      "So par1 = 100, par2 = 222, par3 = 333...\n",
      "So par1 = 111, par2 = 222, par3 = 333...\n",
      "So par1 = 100, par2 = 222, par3 = 300...\n",
      "So par1 = 100, par2 = 222, par3 = 300...\n"
     ]
    }
   ],
   "source": [
    "# function with default arguments\n",
    "def funct4(par1 = 111, par2 = 222, par3 = 333):\n",
    "    print (f\"So par1 = {par1}, par2 = {par2}, par3 = {par3}...\")\n",
    "    \n",
    "funct4(100, 200, 300)\n",
    "funct4(100, 200)\n",
    "funct4(100)\n",
    "funct4()\n",
    "funct4(par1 = 100, par3 = 300)\n",
    "funct4(par3 = 300, par1 = 100)"
   ]
  },
  {
   "cell_type": "raw",
   "id": "9d90d300-8db3-4eb7-8643-1cd1186e139d",
   "metadata": {},
   "source": [
    "This is a note\n",
    "It can not be executed..."
   ]
  },
  {
   "cell_type": "markdown",
   "id": "1cebf275-b161-4d84-9e4a-dba19b42199f",
   "metadata": {},
   "source": [
    "<h1>Heading One</h1>\n",
    "<h2>Heading One</h2>\n",
    "<h3>Heading One</h3>\n",
    "<h4>Heading One</h4>\n",
    "<h5>Heading One</h5>\n",
    "<h6>Heading One</h6>"
   ]
  },
  {
   "cell_type": "markdown",
   "id": "d7c8bbbc-26de-43d4-a448-e32910843b81",
   "metadata": {},
   "source": [
    "# Heading One\n",
    "## Heading One\n",
    "### Heading One\n",
    "#### Heading One\n",
    "##### Heading One\n",
    "###### Heading One"
   ]
  },
  {
   "cell_type": "code",
   "execution_count": 28,
   "id": "812b9b0a-77a2-4901-9107-82ba705bea1f",
   "metadata": {},
   "outputs": [
    {
     "name": "stdout",
     "output_type": "stream",
     "text": [
      "300\n",
      "1000\n"
     ]
    }
   ],
   "source": [
    "def funct5(num1, num2 = None):\n",
    "    if (num2 == None):\n",
    "        return 2 * num1\n",
    "    else:\n",
    "        return num1 + num2\n",
    "    \n",
    "print (funct5(100, 200))\n",
    "print (funct5(500))"
   ]
  },
  {
   "cell_type": "code",
   "execution_count": 31,
   "id": "5b70aa5f-ebee-45bc-b90b-ac8d23ef7640",
   "metadata": {},
   "outputs": [
    {
     "name": "stdout",
     "output_type": "stream",
     "text": [
      "So total = 140, difference = 60, product = 4000 and quotient = 2.5...\n",
      "(140, 60, 4000, 2.5) <class 'tuple'>\n",
      "So total = 140, difference = 60, product = 4000 and quotient = 2.5...\n"
     ]
    }
   ],
   "source": [
    "def funct6(num1, num2):\n",
    "    total = num1 + num2\n",
    "    difference = num1 - num2\n",
    "    product = num1 * num2\n",
    "    quotient = num1 / num2\n",
    "    return total, difference, product, quotient\n",
    "\n",
    "tt, dd, pp, qq = funct6(100, 40)\n",
    "print (f\"So total = {tt}, difference = {dd}, product = {pp} and quotient = {qq}...\")\n",
    "result = funct6(100, 40)\n",
    "print (result, type(result))\n",
    "print (f\"So total = {result[0]}, difference = {result[1]}, product = {result[2]} and quotient = {result[3]}...\")"
   ]
  },
  {
   "cell_type": "code",
   "execution_count": 35,
   "id": "b5cd6a51-f730-4fcc-a437-9c57d81e555d",
   "metadata": {},
   "outputs": [
    {
     "name": "stdout",
     "output_type": "stream",
     "text": [
      "('Amitava', 'Developer', 65000) 3 <class 'tuple'> 2422121046720\n",
      "('Amitava', 'Developer', 65000, 'London') 4 <class 'tuple'> 2422121076896\n",
      "('Amitava', 'Developer', 65000, 'London', 'Masters') 5 <class 'tuple'> 2422120453584\n"
     ]
    }
   ],
   "source": [
    "# function with variable number of arguments\n",
    "def funct7(*arg):    # here *arg means forcefully defining arg as a tuple type of variable\n",
    "    print (arg, len(arg), type(arg), id(arg))\n",
    "    \n",
    "funct7(\"Amitava\", \"Developer\", 65000)\n",
    "funct7(\"Amitava\", \"Developer\", 65000, \"London\")\n",
    "funct7(\"Amitava\", \"Developer\", 65000, \"London\", \"Masters\")"
   ]
  },
  {
   "cell_type": "code",
   "execution_count": 45,
   "id": "91d6c01b-6d25-4ce7-b25c-b5ef204877b3",
   "metadata": {},
   "outputs": [
    {
     "name": "stdout",
     "output_type": "stream",
     "text": [
      "{'name': 'Amitava', 'job': 'Developer', 'salary': 65000} 3 <class 'dict'> 2422121123776\n",
      "{'name': 'Amitava', 'job': 'Developer', 'salary': 65000, 'location': 'London'} 4 <class 'dict'> 2422077929536\n",
      "{'name': 'Amitava', 'job': 'Developer', 'salary': 65000, 'location': 'London', 'qualification': 'Masters'} 5 <class 'dict'> 2422120831936\n",
      "<class 'function'>\n"
     ]
    }
   ],
   "source": [
    "def funct8(**kwarg):    # here **kwarg means forcefully defining kwarg as a dictionary type of variable, kw stands for key-word\n",
    "    print (kwarg, len(kwarg), type(kwarg), id(kwarg))\n",
    "    \n",
    "funct8(name=\"Amitava\", job=\"Developer\", salary=65000)\n",
    "funct8(name=\"Amitava\", job=\"Developer\", salary=65000, location=\"London\")\n",
    "funct8(name=\"Amitava\", job=\"Developer\", salary=65000, location=\"London\", qualification=\"Masters\")\n",
    "print (type(funct8))"
   ]
  },
  {
   "cell_type": "code",
   "execution_count": 37,
   "id": "d90ac9ee-5e50-4758-b72a-f16b98c6b876",
   "metadata": {},
   "outputs": [
    {
     "name": "stdout",
     "output_type": "stream",
     "text": [
      "('Amitava', 'Developer', 65000) 3 <class 'tuple'> 2422121126400\n",
      "{'location': 'London', 'qualification': 'Masters'} 2 <class 'dict'> 2422088666432\n",
      "('Amitava', 'Developer', 65000) 3 <class 'tuple'> 2422121126400\n",
      "{} 0 <class 'dict'> 2422088665728\n",
      "() 0 <class 'tuple'> 2422004203632\n",
      "{'location': 'London', 'qualification': 'Masters'} 2 <class 'dict'> 2422121152000\n"
     ]
    }
   ],
   "source": [
    "def funct9(*arg, **kwarg):\n",
    "    print (arg, len(arg), type(arg), id(arg))\n",
    "    print (kwarg, len(kwarg), type(kwarg), id(kwarg))\n",
    "    \n",
    "funct9(\"Amitava\", \"Developer\", 65000, location=\"London\", qualification=\"Masters\")\n",
    "funct9(\"Amitava\", \"Developer\", 65000 )\n",
    "funct9(location=\"London\", qualification=\"Masters\" )"
   ]
  },
  {
   "cell_type": "markdown",
   "id": "5a3b0b10-32d1-417f-82a9-dc2734b36562",
   "metadata": {},
   "source": [
    "### Recursive and Non-Recursive functions"
   ]
  },
  {
   "cell_type": "code",
   "execution_count": 39,
   "id": "04e25027-27c7-462c-8d51-5432a75cb225",
   "metadata": {},
   "outputs": [
    {
     "name": "stdout",
     "output_type": "stream",
     "text": [
      "120\n"
     ]
    }
   ],
   "source": [
    "# 5! = 5 * 4 * 3 * 2 * 1\n",
    "# 5! = 1 * 2 * 3 * 4 * 5\n",
    "# non-recursive function, iterative function\n",
    "def factorial_nr(n):\n",
    "    if (n == 0 or n == 1): return 1\n",
    "    fact = 1\n",
    "    for i in range(1, n + 1):   # iteration\n",
    "        fact = fact * i\n",
    "    return fact\n",
    "\n",
    "print (factorial_nr(5))"
   ]
  },
  {
   "cell_type": "code",
   "execution_count": 42,
   "id": "13cb0213-2056-4289-b0d2-44b7ffa5868b",
   "metadata": {},
   "outputs": [
    {
     "name": "stdout",
     "output_type": "stream",
     "text": [
      "120\n"
     ]
    }
   ],
   "source": [
    "# recursive function\n",
    "def factorial_r(n):\n",
    "    if (n == 0 or n == 1): return 1   # base case, that is for some inputs outputs are pre-known to us, where the recursion will terminate\n",
    "    return n * factorial_r(n - 1)     # recursive case, calling itself\n",
    "\n",
    "print (factorial_r(5))"
   ]
  },
  {
   "cell_type": "code",
   "execution_count": null,
   "id": "2df1313e-d8d3-495e-a005-0b8e6cd9e11e",
   "metadata": {},
   "outputs": [],
   "source": [
    "5! = 5 * 4!\n",
    "         4 * 3!\n",
    "             3 * 2!\n",
    "                 2 * 1!\n",
    "                     1\n",
    "                 2\n",
    "             6\n",
    "         24\n",
    "     120"
   ]
  },
  {
   "cell_type": "markdown",
   "id": "8d6f2ddd-f552-4691-a3b1-9152bcc8d0ba",
   "metadata": {},
   "source": [
    "### Lambda Function"
   ]
  },
  {
   "cell_type": "code",
   "execution_count": 47,
   "id": "fae38d0e-0f38-4d59-bf0b-391a6b7d47d8",
   "metadata": {},
   "outputs": [
    {
     "name": "stdout",
     "output_type": "stream",
     "text": [
      "10 100\n",
      "<class 'function'>\n"
     ]
    }
   ],
   "source": [
    "my_square = lambda  num: num * num\n",
    "n = 10\n",
    "print (n, my_square(n))\n",
    "print (type(my_square))"
   ]
  },
  {
   "cell_type": "markdown",
   "id": "c4b00f51-738d-4ba1-8d93-14063a35202e",
   "metadata": {},
   "source": [
    "### String Processing"
   ]
  },
  {
   "cell_type": "code",
   "execution_count": null,
   "id": "8c9f21a6-f195-4984-8665-919d29e311b5",
   "metadata": {},
   "outputs": [],
   "source": [
    "index left to right ->  0   1   2   3   4   5   6   7   8   9\n",
    "               mystr =  u   n   i   v   e   r   s   i   t   y\n",
    "index right to left ->-10  -9  -8  -7  -6  -5  -4  -3  -2  -1 "
   ]
  },
  {
   "cell_type": "code",
   "execution_count": 4,
   "id": "a2e0d744-7a96-4d6a-a3e9-f7b49d8ec812",
   "metadata": {},
   "outputs": [
    {
     "name": "stdout",
     "output_type": "stream",
     "text": [
      "university 10 <class 'str'> 2068368745008\n",
      "v v i i r r\n",
      "ver ver ver ver\n"
     ]
    }
   ],
   "source": [
    "mystr = \"university\"\n",
    "print (mystr, len(mystr), type(mystr), id(mystr))\n",
    "print (mystr[3], mystr[-7], mystr[7], mystr[-3], mystr[5], mystr[-5]) # indexing\n",
    "print (mystr[3:6], mystr[-7:-4], mystr[3:-4], mystr[-7:6])"
   ]
  },
  {
   "cell_type": "code",
   "execution_count": 10,
   "id": "fe7326ef-d23c-4c81-a687-d1754373d9a0",
   "metadata": {},
   "outputs": [
    {
     "name": "stdout",
     "output_type": "stream",
     "text": [
      "caLCuTTa unIVerSitY 19 <class 'str'> 2068396761904\n",
      "CALCUTTA UNIVERSITY\n",
      "calcutta university\n",
      "CAlcUttA UNivERsITy\n",
      "Calcutta University\n",
      "Calcutta university\n"
     ]
    }
   ],
   "source": [
    "mystr = \"caLCuTTa unIVerSitY\"\n",
    "print (mystr, len(mystr), type(mystr), id(mystr))\n",
    "print (mystr.upper())\n",
    "print (mystr.lower())\n",
    "print (mystr.swapcase())\n",
    "print (mystr.title())\n",
    "print (mystr.capitalize())"
   ]
  },
  {
   "cell_type": "code",
   "execution_count": null,
   "id": "1b008213-11cb-479c-a06e-3c1f7613b542",
   "metadata": {},
   "outputs": [],
   "source": [
    "help(str)"
   ]
  },
  {
   "cell_type": "code",
   "execution_count": 17,
   "id": "d6fba411-0dcb-428d-b9a4-09a41631630a",
   "metadata": {},
   "outputs": [
    {
     "name": "stdout",
     "output_type": "stream",
     "text": [
      "4 4 11 -1\n",
      "4 4 11\n"
     ]
    },
    {
     "ename": "ValueError",
     "evalue": "substring not found",
     "output_type": "error",
     "traceback": [
      "\u001b[1;31m---------------------------------------------------------------------------\u001b[0m",
      "\u001b[1;31mValueError\u001b[0m                                Traceback (most recent call last)",
      "Cell \u001b[1;32mIn[17], line 5\u001b[0m\n\u001b[0;32m      2\u001b[0m \u001b[38;5;28mprint\u001b[39m (mystr\u001b[38;5;241m.\u001b[39mfind(\u001b[38;5;124m\"\u001b[39m\u001b[38;5;124mity\u001b[39m\u001b[38;5;124m\"\u001b[39m), mystr\u001b[38;5;241m.\u001b[39mfind(\u001b[38;5;124m\"\u001b[39m\u001b[38;5;124mi\u001b[39m\u001b[38;5;124m\"\u001b[39m, \u001b[38;5;241m3\u001b[39m), mystr\u001b[38;5;241m.\u001b[39mfind(\u001b[38;5;124m\"\u001b[39m\u001b[38;5;124mi\u001b[39m\u001b[38;5;124m\"\u001b[39m, \u001b[38;5;241m5\u001b[39m), mystr\u001b[38;5;241m.\u001b[39mfind(\u001b[38;5;124m\"\u001b[39m\u001b[38;5;124mins\u001b[39m\u001b[38;5;124m\"\u001b[39m, \u001b[38;5;241m11\u001b[39m, \u001b[38;5;241m13\u001b[39m))\n\u001b[0;32m      4\u001b[0m \u001b[38;5;28mprint\u001b[39m (mystr\u001b[38;5;241m.\u001b[39mindex(\u001b[38;5;124m\"\u001b[39m\u001b[38;5;124mity\u001b[39m\u001b[38;5;124m\"\u001b[39m), mystr\u001b[38;5;241m.\u001b[39mindex(\u001b[38;5;124m\"\u001b[39m\u001b[38;5;124mi\u001b[39m\u001b[38;5;124m\"\u001b[39m, \u001b[38;5;241m3\u001b[39m), mystr\u001b[38;5;241m.\u001b[39mindex(\u001b[38;5;124m\"\u001b[39m\u001b[38;5;124mi\u001b[39m\u001b[38;5;124m\"\u001b[39m, \u001b[38;5;241m5\u001b[39m))\n\u001b[1;32m----> 5\u001b[0m \u001b[38;5;28mprint\u001b[39m (\u001b[43mmystr\u001b[49m\u001b[38;5;241;43m.\u001b[39;49m\u001b[43mindex\u001b[49m\u001b[43m(\u001b[49m\u001b[38;5;124;43m\"\u001b[39;49m\u001b[38;5;124;43mins\u001b[39;49m\u001b[38;5;124;43m\"\u001b[39;49m\u001b[43m,\u001b[49m\u001b[43m \u001b[49m\u001b[38;5;241;43m11\u001b[39;49m\u001b[43m,\u001b[49m\u001b[43m \u001b[49m\u001b[38;5;241;43m13\u001b[39;49m\u001b[43m)\u001b[49m)\n",
      "\u001b[1;31mValueError\u001b[0m: substring not found"
     ]
    }
   ],
   "source": [
    "mystr = \"charity begins at home\"\n",
    "print (mystr.find(\"ity\"), mystr.find(\"i\", 3), mystr.find(\"i\", 5), mystr.find(\"ins\", 11, 13))\n",
    "\n",
    "print (mystr.index(\"ity\"), mystr.index(\"i\", 3), mystr.index(\"i\", 5))\n",
    "print (mystr.index(\"ins\", 11, 13))"
   ]
  },
  {
   "cell_type": "code",
   "execution_count": 18,
   "id": "c5069577-6cbc-4ab0-bebe-f4a8562bbd51",
   "metadata": {},
   "outputs": [
    {
     "name": "stdout",
     "output_type": "stream",
     "text": [
      "4 4 11\n",
      "Unsuccessful Searching...\n",
      "Error type: <class 'ValueError'>\n",
      "error message: substring not found\n"
     ]
    }
   ],
   "source": [
    "mystr = \"charity begins at home\"\n",
    "try:\n",
    "    print (mystr.index(\"ity\"), mystr.index(\"i\", 3), mystr.index(\"i\", 5))\n",
    "    print (mystr.index(\"ins\", 11, 13))\n",
    "except ValueError as ve:\n",
    "    print (\"Unsuccessful Searching...\")\n",
    "    print (\"Error type:\", type(ve))\n",
    "    print (\"error message:\", ve)"
   ]
  },
  {
   "cell_type": "code",
   "execution_count": 20,
   "id": "7d0e5a10-1221-489c-8ea6-8b102151e7b0",
   "metadata": {},
   "outputs": [
    {
     "name": "stdout",
     "output_type": "stream",
     "text": [
      "    calcutta    university      31 <class 'str'> 2068369009248\n",
      "calcutta    university 22\n",
      "calcutta    university      27\n",
      "    calcutta    university 26\n"
     ]
    }
   ],
   "source": [
    "mystr = \"    calcutta    university     \"\n",
    "print (mystr, len(mystr), type(mystr), id(mystr))\n",
    "print (mystr.strip(), len(mystr.strip()))\n",
    "print (mystr.lstrip(), len(mystr.lstrip()))\n",
    "print (mystr.rstrip(), len(mystr.rstrip()))"
   ]
  },
  {
   "cell_type": "code",
   "execution_count": 21,
   "id": "91e57ab9-ac74-4cdf-a9d4-990834f26a02",
   "metadata": {},
   "outputs": [
    {
     "name": "stdout",
     "output_type": "stream",
     "text": [
      "@##@calcutta@#@@university@@##@ 31 <class 'str'> 2068410741056\n",
      "calcutta@#@@university 22\n",
      "calcutta@#@@university@@##@ 27\n",
      "@##@calcutta@#@@university 26\n"
     ]
    }
   ],
   "source": [
    "mystr = \"@##@calcutta@#@@university@@##@\"\n",
    "print (mystr, len(mystr), type(mystr), id(mystr))\n",
    "print (mystr.strip(\"#@\"), len(mystr.strip(\"#@\")))\n",
    "print (mystr.lstrip(\"#@\"), len(mystr.lstrip(\"#@\")))\n",
    "print (mystr.rstrip(\"#@\"), len(mystr.rstrip(\"#@\")))"
   ]
  },
  {
   "cell_type": "code",
   "execution_count": 23,
   "id": "7fd02210-f19e-4408-9368-557e1fd49f9c",
   "metadata": {},
   "outputs": [
    {
     "name": "stdout",
     "output_type": "stream",
     "text": [
      "True False True True\n",
      "True False True\n"
     ]
    }
   ],
   "source": [
    "mystr = \"charity begins at home\"\n",
    "print (mystr.startswith(\"cha\"), mystr.startswith(\"beg\"), mystr.startswith(\"beg\", 8),\n",
    "       mystr.startswith(\"beg\", 8, 20))\n",
    "print (mystr.endswith(\"ome\"), mystr.endswith(\"gins\"), mystr.endswith(\"gins\", 0, 14))"
   ]
  },
  {
   "cell_type": "code",
   "execution_count": 24,
   "id": "87dba662-5df0-469d-a8d6-db9aa2a1ca61",
   "metadata": {},
   "outputs": [
    {
     "name": "stdout",
     "output_type": "stream",
     "text": [
      "s\n",
      "c\n",
      "h\n",
      "o\n",
      "o\n",
      "l\n"
     ]
    }
   ],
   "source": [
    "# reading character by character from a string\n",
    "mystr = \"school\"\n",
    "for ch in mystr:\n",
    "    print (ch)"
   ]
  },
  {
   "cell_type": "code",
   "execution_count": 25,
   "id": "d14afa08-cf45-4ae4-8fd9-f555af5a169b",
   "metadata": {},
   "outputs": [
    {
     "name": "stdout",
     "output_type": "stream",
     "text": [
      "s\n",
      "c\n",
      "h\n",
      "o\n",
      "o\n",
      "l\n"
     ]
    }
   ],
   "source": [
    "mystr = \"school\"\n",
    "for i in range(len(mystr)):\n",
    "    print (mystr[i])"
   ]
  },
  {
   "cell_type": "code",
   "execution_count": 29,
   "id": "305e6bb9-c48e-4a40-891c-3e696683ec2d",
   "metadata": {},
   "outputs": [
    {
     "name": "stdout",
     "output_type": "stream",
     "text": [
      "charity begins at home 22 <class 'str'> 2068403029376\n",
      "['charity', 'begins', 'at', 'home']\n",
      "['charity', 'begins', 'at', 'home']\n",
      "['char', 'ty beg', 'ns at home']\n",
      "['charity begins at home']\n"
     ]
    }
   ],
   "source": [
    "mystr = \"charity begins at home\"\n",
    "print (mystr, len(mystr), type(mystr), id(mystr))\n",
    "list1 = mystr.split()\n",
    "print (list1)\n",
    "list1 = mystr.split(\" \")\n",
    "print (list1)\n",
    "list1 = mystr.split(\"i\")\n",
    "print (list1)\n",
    "list1 = mystr.split(\"x\")\n",
    "print (list1)"
   ]
  },
  {
   "cell_type": "code",
   "execution_count": 30,
   "id": "f8b4f40d-52df-4bc3-991b-5ec670c8132f",
   "metadata": {},
   "outputs": [
    {
     "name": "stdout",
     "output_type": "stream",
     "text": [
      "['charity', 'begins', 'at', 'home'] 4 <class 'list'> 2068411118272\n",
      "charity begins at home\n",
      "charity - begins - at - home\n",
      "charity, begins, at, home\n"
     ]
    }
   ],
   "source": [
    "list1 = ['charity', 'begins', 'at', 'home']\n",
    "print (list1, len(list1), type(list1), id(list1))\n",
    "mystr = \" \".join(list1)\n",
    "print (mystr)\n",
    "mystr = \" - \".join(list1)\n",
    "print (mystr)\n",
    "mystr = \", \".join(list1)\n",
    "print (mystr)"
   ]
  },
  {
   "cell_type": "code",
   "execution_count": 34,
   "id": "effa7348-7563-4aa6-9570-43149efae824",
   "metadata": {},
   "outputs": [
    {
     "name": "stdout",
     "output_type": "stream",
     "text": [
      "university True False True\n",
      "1234 False True True\n",
      "university1234 False False True\n",
      "university-1234 False False False\n"
     ]
    }
   ],
   "source": [
    "mystr = \"university\"\n",
    "print (mystr, mystr.isalpha(), mystr.isnumeric(), mystr.isalnum())\n",
    "mystr = \"1234\"\n",
    "print (mystr, mystr.isalpha(), mystr.isnumeric(), mystr.isalnum())\n",
    "mystr = \"university1234\"\n",
    "print (mystr, mystr.isalpha(), mystr.isnumeric(), mystr.isalnum())\n",
    "mystr = \"university-1234\"\n",
    "print (mystr, mystr.isalpha(), mystr.isnumeric(), mystr.isalnum())"
   ]
  },
  {
   "cell_type": "code",
   "execution_count": 35,
   "id": "f031f01d-a73d-46fb-8de0-e421521ef8cd",
   "metadata": {},
   "outputs": [
    {
     "name": "stdout",
     "output_type": "stream",
     "text": [
      "2 1 0\n",
      "unxversxty\n",
      "university\n",
      "unxversxty\n"
     ]
    }
   ],
   "source": [
    "mystr = \"university\"\n",
    "print (mystr.count(\"i\"), mystr.count(\"v\"), mystr.count(\"I\"))\n",
    "print (mystr.replace(\"i\", \"x\"))\n",
    "print (mystr)\n",
    "mystr = mystr.replace(\"i\", \"x\")\n",
    "print (mystr)"
   ]
  },
  {
   "cell_type": "code",
   "execution_count": 37,
   "id": "7cab38af-90d1-4903-b7e1-3cd606a30485",
   "metadata": {},
   "outputs": [
    {
     "name": "stdout",
     "output_type": "stream",
     "text": [
      "mississippi <class 'str'> 11\n",
      "['m', 'i', 's', 's', 'i', 's', 's', 'i', 'p', 'p', 'i'] 11\n",
      "('m', 'i', 's', 's', 'i', 's', 's', 'i', 'p', 'p', 'i') 11\n",
      "{'p', 's', 'i', 'm'} 4\n",
      "frozenset({'p', 's', 'i', 'm'}) 4\n"
     ]
    }
   ],
   "source": [
    "mystr = \"mississippi\"\n",
    "print (mystr, type(mystr), len(mystr))\n",
    "print (list(mystr), len(list(mystr)))\n",
    "print (tuple(mystr), len(tuple(mystr)))\n",
    "print (set(mystr), len(set(mystr)))\n",
    "print (frozenset(mystr), len(frozenset(mystr)))"
   ]
  },
  {
   "cell_type": "code",
   "execution_count": null,
   "id": "837509de-3647-4bac-a8ea-19057436469b",
   "metadata": {},
   "outputs": [],
   "source": [
    "Class Assignment:\n",
    "-----------------\n",
    "Take a sentence from the user as input. The sentence may contain upper case and lower case \n",
    "characters and special characters. Find the number of vowels and consonants in the given sentence."
   ]
  },
  {
   "cell_type": "code",
   "execution_count": 39,
   "id": "c4a076b3-6069-4eb3-8de0-b6508dd2111d",
   "metadata": {},
   "outputs": [
    {
     "name": "stdin",
     "output_type": "stream",
     "text": [
      "Please enter a string:  CHaRItY beGinS at HomE\n"
     ]
    },
    {
     "name": "stdout",
     "output_type": "stream",
     "text": [
      "So string CHaRItY beGinS at HomE has vowel count = 7 and cosonant count = 12...\n",
      "End of the program...\n"
     ]
    }
   ],
   "source": [
    "mystr = input(\"Please enter a string: \")\n",
    "vcount = ccount = 0\n",
    "for ch in mystr.lower():\n",
    "    if (ch.isalpha()):\n",
    "        if (ch in \"aeiou\"): vcount += 1\n",
    "        else: ccount += 1\n",
    "print (f\"So string {mystr} has vowel count = {vcount} and cosonant count = {ccount}...\")\n",
    "print (\"End of the program...\")"
   ]
  },
  {
   "cell_type": "markdown",
   "id": "6c05bb1b-73ea-4607-ae86-67b609aa0b6b",
   "metadata": {},
   "source": [
    "### List Processing"
   ]
  },
  {
   "cell_type": "code",
   "execution_count": 1,
   "id": "5fde698f-ea9f-4e80-a46b-4366276a1416",
   "metadata": {},
   "outputs": [
    {
     "name": "stdout",
     "output_type": "stream",
     "text": [
      "[100, 400, 300, 200, 700] 5 <class 'list'> 2094061208896\n",
      "700 100\n",
      "1700 340.0\n"
     ]
    }
   ],
   "source": [
    "list1 = [100, 400, 300, 200, 700]\n",
    "print (list1, len(list1), type(list1), id(list1))\n",
    "print (max(list1), min(list1))\n",
    "print (sum(list1), sum(list1) / len(list1))"
   ]
  },
  {
   "cell_type": "code",
   "execution_count": 2,
   "id": "68f687ee",
   "metadata": {},
   "outputs": [
    {
     "name": "stdout",
     "output_type": "stream",
     "text": [
      "[100, 400, True, 300, 200, False, 700] 7 <class 'list'> 2094061210560\n",
      "700 False\n",
      "1701 243.0\n"
     ]
    }
   ],
   "source": [
    "list1 = [100, 400, True, 300, 200, False, 700]\n",
    "print (list1, len(list1), type(list1), id(list1))\n",
    "print (max(list1), min(list1))\n",
    "print (sum(list1), sum(list1) / len(list1))"
   ]
  },
  {
   "cell_type": "code",
   "execution_count": 6,
   "id": "172b2722",
   "metadata": {},
   "outputs": [
    {
     "name": "stdout",
     "output_type": "stream",
     "text": [
      "['sunday', 'Monday', 'friday', 'saturday', 'tuesday'] 5 <class 'list'> 2094061208192\n",
      "tuesday Monday\n"
     ]
    }
   ],
   "source": [
    "list1 = [\"sunday\", \"Monday\", 'friday', 'saturday', 'tuesday']\n",
    "print (list1, len(list1), type(list1), id(list1))\n",
    "print (max(list1), min(list1))\n",
    "# print (sum(list1), sum(list1) / len(list1))"
   ]
  },
  {
   "cell_type": "code",
   "execution_count": 9,
   "id": "991b6770",
   "metadata": {},
   "outputs": [
    {
     "name": "stdout",
     "output_type": "stream",
     "text": [
      "[100, 400, True, 'Tuesday', 300, 'Wednesday', 200, False, 700] 9 <class 'list'> 2094089970304\n"
     ]
    }
   ],
   "source": [
    "list1 = [100, 400, True, \"Tuesday\", 300, \"Wednesday\", 200, False, 700]\n",
    "print (list1, len(list1), type(list1), id(list1))\n",
    "# print (max(list1), min(list1))\n",
    "# print (sum(list1), sum(list1) / len(list1))"
   ]
  },
  {
   "cell_type": "code",
   "execution_count": 10,
   "id": "734a5b29-c61c-4234-b771-09bb5bc56228",
   "metadata": {},
   "outputs": [
    {
     "name": "stdout",
     "output_type": "stream",
     "text": [
      "['Monday', 'Tuesday', 'Wednesday', 'Thursday', 'Friday'] 5 <class 'list'> 2094089967360\n",
      "Wednesday Wednesday Thursday Thursday\n",
      "nes nes\n"
     ]
    }
   ],
   "source": [
    "# Indexing and slicing\n",
    "# L ro R ->  0         1          2            3           4\n",
    "list1 =    [\"Monday\", \"Tuesday\", \"Wednesday\", \"Thursday\", \"Friday\"]\n",
    "# R to L -> -5        -4         -3           -2          -1\n",
    "print (list1, len(list1), type(list1), id(list1))\n",
    "print (list1[2], list1[-3], list1[3], list1[-2])\n",
    "print (list1[2][3:6], list1[-3][-6:-3])"
   ]
  },
  {
   "cell_type": "code",
   "execution_count": 11,
   "id": "b152f9d2-eb62-4795-a015-6065c50b8945",
   "metadata": {},
   "outputs": [
    {
     "name": "stdout",
     "output_type": "stream",
     "text": [
      "['Monday', 'Tuesday', 'Wednesday', 'Thursday', 'Friday']\n",
      "['Mango', 'Pineapple', 'Guava', 'Lime']\n",
      "['Monday', 'Tuesday', 'Wednesday', 'Thursday', 'Friday', 'Mango', 'Pineapple', 'Guava', 'Lime']\n",
      "['Monday', 'Tuesday', 'Wednesday', 'Thursday', 'Friday', 'Mango', 'Pineapple', 'Guava', 'Lime']\n",
      "['Mango', 'Pineapple', 'Guava', 'Lime']\n"
     ]
    }
   ],
   "source": [
    "list1 = [\"Monday\", \"Tuesday\", \"Wednesday\", \"Thursday\", \"Friday\"]\n",
    "list2 = [\"Mango\", \"Pineapple\", \"Guava\", \"Lime\"]\n",
    "print (list1)\n",
    "print (list2)\n",
    "list3 = list1 + list2    # list concatenation\n",
    "print (list3)\n",
    "list1.extend(list2)      # list concatenation\n",
    "print (list1)\n",
    "print (list2)"
   ]
  },
  {
   "cell_type": "code",
   "execution_count": 12,
   "id": "a6b6ce01-8d69-4f2e-aba3-760d63ba20ee",
   "metadata": {},
   "outputs": [
    {
     "name": "stdout",
     "output_type": "stream",
     "text": [
      "['Monday', 'Tuesday', 'Wednesday', 'Thursday', 'Friday']\n",
      "['Mango', 'Pineapple', 'Guava', 'Lime']\n",
      "[['Monday', 'Tuesday', 'Wednesday', 'Thursday', 'Friday'], ['Mango', 'Pineapple', 'Guava', 'Lime']]\n",
      "5 4\n",
      "['Pineapple', 'Guava'] ['Wednesday', 'Thursday'] nes\n"
     ]
    }
   ],
   "source": [
    "list1 = [\"Monday\", \"Tuesday\", \"Wednesday\", \"Thursday\", \"Friday\"]\n",
    "list2 = [\"Mango\", \"Pineapple\", \"Guava\", \"Lime\"]\n",
    "print (list1)\n",
    "print (list2)\n",
    "list3 = [list1, list2]      # list of lists\n",
    "print (list3)\n",
    "print (len(list3[0]), len(list3[1]))\n",
    "print (list3[1][1:3], list3[0][2:4], list3[0][2][3:6])"
   ]
  },
  {
   "cell_type": "code",
   "execution_count": 14,
   "id": "9557707c",
   "metadata": {},
   "outputs": [
    {
     "name": "stdout",
     "output_type": "stream",
     "text": [
      "['Mango', 'Pineapple', 'Coconut', 'Banana', 'Lime'] 5\n",
      "['Mango', 'Pineapple', 'Coconut', 'Banana', 'Lime', 'Guava'] 6\n",
      "['Mango', 'Pineapple', 'Coconut', 'Banana', 'Lime', 'Guava', 'Pineapple'] 7\n",
      "['Mango', 'Pineapple', 'Coconut', 'Banana', 'Lime', 'Guava', 'Pineapple', 'Orange'] 8\n"
     ]
    }
   ],
   "source": [
    "# insert operation on list\n",
    "list1 = ['Mango', 'Pineapple', 'Coconut', 'Banana', 'Lime']\n",
    "print (list1, len(list1))\n",
    "list1.append(\"Guava\")\n",
    "print (list1, len(list1))\n",
    "list1.append(\"Pineapple\")\n",
    "print (list1, len(list1))\n",
    "list1.append(\"Orange\")\n",
    "print (list1, len(list1))"
   ]
  },
  {
   "cell_type": "code",
   "execution_count": 16,
   "id": "2ba375cd-7549-4124-b1ed-525022d2c636",
   "metadata": {},
   "outputs": [
    {
     "name": "stdout",
     "output_type": "stream",
     "text": [
      "['Mango', 'Pineapple', 'Coconut', 'Banana', 'Lime'] 5\n",
      "['Mango', 'Lemon', 'Pineapple', 'Coconut', 'Banana', 'Lime'] 6\n",
      "['Mango', 'Lemon', 'Pineapple', 'Orange', 'Coconut', 'Banana', 'Lime'] 7\n",
      "['Mango', 'Lemon', 'Apple', 'Pineapple', 'Orange', 'Coconut', 'Banana', 'Lime'] 8\n"
     ]
    }
   ],
   "source": [
    "# insert operation on list\n",
    "list1 = ['Mango', 'Pineapple', 'Coconut', 'Banana', 'Lime']\n",
    "print (list1, len(list1))\n",
    "list1.insert(1, \"Lemon\")\n",
    "print (list1, len(list1))\n",
    "list1.insert(3, \"Orange\")\n",
    "print (list1, len(list1))\n",
    "list1.insert(2, \"Apple\")\n",
    "print (list1, len(list1))"
   ]
  },
  {
   "cell_type": "code",
   "execution_count": 17,
   "id": "7e805f0d",
   "metadata": {},
   "outputs": [
    {
     "name": "stdout",
     "output_type": "stream",
     "text": [
      "['Mango', 'Pineapple', 'Coconut', 'Banana', 'Lime'] 5\n",
      "['Himsagar', 'Pineapple', 'Coconut', 'Banana', 'Lime'] 5\n"
     ]
    }
   ],
   "source": [
    "# update operation on list\n",
    "list1 = ['Mango', 'Pineapple', 'Coconut', 'Banana', 'Lime']\n",
    "print (list1, len(list1))\n",
    "list1[0] = \"Himsagar\"\n",
    "print (list1, len(list1))"
   ]
  },
  {
   "cell_type": "code",
   "execution_count": 19,
   "id": "c45de617",
   "metadata": {},
   "outputs": [
    {
     "name": "stdout",
     "output_type": "stream",
     "text": [
      "['Mango', 'Lemon', 'Apple', 'Pineapple', 'Orange', 'Coconut', 'Pineapple', 'Lime'] 8\n",
      "['Mango', 'Lemon', 'Apple', 'Orange', 'Coconut', 'Pineapple', 'Lime'] 7\n",
      "['Mango', 'Lemon', 'Orange', 'Coconut', 'Pineapple', 'Lime'] 6\n",
      "['Mango', 'Lemon', 'Orange', 'Coconut', 'Pineapple'] 5\n"
     ]
    }
   ],
   "source": [
    "# deletion operation on list\n",
    "list1 = ['Mango', 'Lemon', 'Apple', 'Pineapple', 'Orange', 'Coconut', 'Pineapple', 'Lime']\n",
    "print (list1, len(list1))\n",
    "list1.remove(\"Pineapple\")\n",
    "print (list1, len(list1))\n",
    "list1.remove(\"Apple\")\n",
    "print (list1, len(list1))\n",
    "list1.remove(\"Lime\")\n",
    "print (list1, len(list1))"
   ]
  },
  {
   "cell_type": "code",
   "execution_count": 20,
   "id": "f18af1b5",
   "metadata": {},
   "outputs": [
    {
     "name": "stdout",
     "output_type": "stream",
     "text": [
      "['Mango', 'Lemon', 'Apple', 'Pineapple', 'Orange', 'Coconut', 'Pineapple', 'Lime'] 8\n",
      "Lime\n",
      "['Mango', 'Lemon', 'Apple', 'Pineapple', 'Orange', 'Coconut', 'Pineapple'] 7\n",
      "Pineapple\n",
      "['Mango', 'Lemon', 'Apple', 'Pineapple', 'Orange', 'Coconut'] 6\n",
      "Coconut\n",
      "['Mango', 'Lemon', 'Apple', 'Pineapple', 'Orange'] 5\n"
     ]
    }
   ],
   "source": [
    "list1 = ['Mango', 'Lemon', 'Apple', 'Pineapple', 'Orange', 'Coconut', 'Pineapple', 'Lime']\n",
    "print (list1, len(list1))\n",
    "print (list1.pop())\n",
    "print (list1, len(list1))\n",
    "print (list1.pop())\n",
    "print (list1, len(list1))\n",
    "print (list1.pop())\n",
    "print (list1, len(list1))"
   ]
  },
  {
   "cell_type": "code",
   "execution_count": 21,
   "id": "ca41d584",
   "metadata": {},
   "outputs": [
    {
     "name": "stdout",
     "output_type": "stream",
     "text": [
      "['Mango', 'Lemon', 'Apple', 'Pineapple', 'Orange', 'Coconut', 'Pineapple', 'Lime'] 8\n",
      "Apple\n",
      "['Mango', 'Lemon', 'Pineapple', 'Orange', 'Coconut', 'Pineapple', 'Lime'] 7\n",
      "Mango\n",
      "['Lemon', 'Pineapple', 'Orange', 'Coconut', 'Pineapple', 'Lime'] 6\n",
      "Coconut\n",
      "['Lemon', 'Pineapple', 'Orange', 'Pineapple', 'Lime'] 5\n"
     ]
    }
   ],
   "source": [
    "list1 = ['Mango', 'Lemon', 'Apple', 'Pineapple', 'Orange', 'Coconut', 'Pineapple', 'Lime']\n",
    "print (list1, len(list1))\n",
    "print (list1.pop(2))\n",
    "print (list1, len(list1))\n",
    "print (list1.pop(0))\n",
    "print (list1, len(list1))\n",
    "print (list1.pop(3))\n",
    "print (list1, len(list1))"
   ]
  },
  {
   "cell_type": "code",
   "execution_count": 22,
   "id": "3449b7bf",
   "metadata": {},
   "outputs": [
    {
     "name": "stdout",
     "output_type": "stream",
     "text": [
      "['Mango', 'Lemon', 'Apple', 'Pineapple', 'Orange', 'Coconut', 'Pineapple', 'Lime'] 8\n",
      "[] 0\n"
     ]
    }
   ],
   "source": [
    "list1 = ['Mango', 'Lemon', 'Apple', 'Pineapple', 'Orange', 'Coconut', 'Pineapple', 'Lime']\n",
    "print (list1, len(list1))\n",
    "list1.clear()\n",
    "print (list1, len(list1))"
   ]
  },
  {
   "cell_type": "code",
   "execution_count": 23,
   "id": "34861e77",
   "metadata": {},
   "outputs": [
    {
     "name": "stdout",
     "output_type": "stream",
     "text": [
      "['Mango', 'Lemon', 'Apple', 'Pineapple', 'Orange', 'Coconut', 'Pineapple', 'Lime'] 8\n",
      "['Mango', 'Lemon', 'Pineapple', 'Orange', 'Coconut', 'Pineapple', 'Lime'] 7\n"
     ]
    }
   ],
   "source": [
    "list1 = ['Mango', 'Lemon', 'Apple', 'Pineapple', 'Orange', 'Coconut', 'Pineapple', 'Lime']\n",
    "print (list1, len(list1))\n",
    "del list1[2]\n",
    "print (list1, len(list1))"
   ]
  },
  {
   "cell_type": "code",
   "execution_count": 24,
   "id": "d321c86a",
   "metadata": {},
   "outputs": [
    {
     "name": "stdout",
     "output_type": "stream",
     "text": [
      "['Mango', 'Lemon', 'Apple', 'Pineapple', 'Orange', 'Coconut', 'Pineapple', 'Lime'] 8\n"
     ]
    },
    {
     "ename": "NameError",
     "evalue": "name 'list1' is not defined",
     "output_type": "error",
     "traceback": [
      "\u001b[1;31m---------------------------------------------------------------------------\u001b[0m",
      "\u001b[1;31mNameError\u001b[0m                                 Traceback (most recent call last)",
      "Cell \u001b[1;32mIn[24], line 4\u001b[0m\n\u001b[0;32m      2\u001b[0m \u001b[38;5;28mprint\u001b[39m (list1, \u001b[38;5;28mlen\u001b[39m(list1))\n\u001b[0;32m      3\u001b[0m \u001b[38;5;28;01mdel\u001b[39;00m list1\n\u001b[1;32m----> 4\u001b[0m \u001b[38;5;28mprint\u001b[39m (\u001b[43mlist1\u001b[49m, \u001b[38;5;28mlen\u001b[39m(list1))\n",
      "\u001b[1;31mNameError\u001b[0m: name 'list1' is not defined"
     ]
    }
   ],
   "source": [
    "list1 = ['Mango', 'Lemon', 'Apple', 'Pineapple', 'Orange', 'Coconut', 'Pineapple', 'Lime']\n",
    "print (list1, len(list1))\n",
    "del list1\n",
    "print (list1, len(list1))"
   ]
  },
  {
   "cell_type": "code",
   "execution_count": 25,
   "id": "2de42f96",
   "metadata": {},
   "outputs": [
    {
     "name": "stdout",
     "output_type": "stream",
     "text": [
      "['Mango', 'Pineapple', 'Coconut', 'Banana', 'Lime'] 5\n",
      "['Lime', 'Banana', 'Coconut', 'Pineapple', 'Mango'] 5\n"
     ]
    }
   ],
   "source": [
    "# reverse of a list\n",
    "list1 = ['Mango', 'Pineapple', 'Coconut', 'Banana', 'Lime']\n",
    "print (list1, len(list1))\n",
    "list1.reverse()\n",
    "print (list1, len(list1))"
   ]
  },
  {
   "cell_type": "code",
   "execution_count": 26,
   "id": "c0eb38bd",
   "metadata": {},
   "outputs": [
    {
     "name": "stdout",
     "output_type": "stream",
     "text": [
      "['Mango', 'Pineapple', 'Coconut', 'Banana', 'Lime'] 5\n",
      "['Banana', 'Coconut', 'Lime', 'Mango', 'Pineapple'] 5\n",
      "['Pineapple', 'Mango', 'Lime', 'Coconut', 'Banana'] 5\n"
     ]
    }
   ],
   "source": [
    "# sorting of a list\n",
    "list1 = ['Mango', 'Pineapple', 'Coconut', 'Banana', 'Lime']\n",
    "print (list1, len(list1))\n",
    "list1.sort()\n",
    "print (list1, len(list1))\n",
    "list1.sort(reverse = True)\n",
    "print (list1, len(list1))"
   ]
  },
  {
   "cell_type": "code",
   "execution_count": 27,
   "id": "6f752d53",
   "metadata": {},
   "outputs": [
    {
     "name": "stdout",
     "output_type": "stream",
     "text": [
      "['Mango', 'Pineapple', 'Coconut', 'Banana', 'Lime'] 5\n",
      "['Banana', 'Coconut', 'Lime', 'Mango', 'Pineapple'] 5\n",
      "['Pineapple', 'Mango', 'Lime', 'Coconut', 'Banana'] 5\n"
     ]
    }
   ],
   "source": [
    "list1 = ['Mango', 'Pineapple', 'Coconut', 'Banana', 'Lime']\n",
    "print (list1, len(list1))\n",
    "list1 = sorted(list1)\n",
    "print (list1, len(list1))\n",
    "list1 = sorted(list1, reverse = True)\n",
    "print (list1, len(list1))"
   ]
  },
  {
   "cell_type": "code",
   "execution_count": 28,
   "id": "15476c8b",
   "metadata": {},
   "outputs": [
    {
     "name": "stdout",
     "output_type": "stream",
     "text": [
      "True False\n",
      "True True\n",
      "False False\n"
     ]
    }
   ],
   "source": [
    "list1 = [True, False, True, True]\n",
    "print (any(list1), all(list1))\n",
    "\n",
    "list1 = [True, True, True, True]\n",
    "print (any(list1), all(list1))\n",
    "\n",
    "list1 = [False, False, False, False]\n",
    "print (any(list1), all(list1))"
   ]
  },
  {
   "cell_type": "code",
   "execution_count": 30,
   "id": "2e20ebf2",
   "metadata": {},
   "outputs": [
    {
     "name": "stdout",
     "output_type": "stream",
     "text": [
      "['Mango', 'Pineapple', 'Coconut', 'Banana', 'Pineapple', 'Coconut', 'Banana', 'Lime'] 8\n",
      "2\n",
      "0\n",
      "1\n",
      "4\n"
     ]
    }
   ],
   "source": [
    "list1 = ['Mango', 'Pineapple', 'Coconut', 'Banana', 'Pineapple', 'Coconut', 'Banana', 'Lime']\n",
    "print (list1, len(list1))\n",
    "print (list1.count('Pineapple'))\n",
    "print (list1.count('pineapple'))\n",
    "print (list1.index(\"Pineapple\"))\n",
    "print (list1.index(\"Pineapple\", 2))"
   ]
  },
  {
   "cell_type": "markdown",
   "id": "efbab9de-d646-4fb5-93fb-c1939a6df24d",
   "metadata": {},
   "source": [
    "### Tuple Processing"
   ]
  },
  {
   "cell_type": "code",
   "execution_count": 38,
   "id": "b825001e-48c3-49cc-ba94-24b02d459f9b",
   "metadata": {},
   "outputs": [
    {
     "name": "stdout",
     "output_type": "stream",
     "text": [
      "(100, 400, 300, 200, 700) 5 <class 'tuple'> 2094090377296\n",
      "700 100\n",
      "1700 340.0\n"
     ]
    }
   ],
   "source": [
    "tuple1 = (100, 400, 300, 200, 700)\n",
    "print (tuple1, len(tuple1), type(tuple1), id(tuple1))\n",
    "print (max(tuple1), min(tuple1))\n",
    "print (sum(tuple1), sum(tuple1) / len(tuple1))"
   ]
  },
  {
   "cell_type": "code",
   "execution_count": 39,
   "id": "d1f09db5-c02d-412f-b747-47dfcd7a2779",
   "metadata": {},
   "outputs": [
    {
     "name": "stdout",
     "output_type": "stream",
     "text": [
      "(100, 400, True, 300, 200, False, 700) 7 <class 'tuple'> 2094090341536\n",
      "700 False\n",
      "1701 243.0\n"
     ]
    }
   ],
   "source": [
    "tuple1 = (100, 400, True, 300, 200, False, 700)\n",
    "print (tuple1, len(tuple1), type(tuple1), id(tuple1))\n",
    "print (max(tuple1), min(tuple1))\n",
    "print (sum(tuple1), sum(tuple1) / len(tuple1))"
   ]
  },
  {
   "cell_type": "code",
   "execution_count": 40,
   "id": "0cf81d2b-6d9f-46db-b982-35847b37f94b",
   "metadata": {},
   "outputs": [
    {
     "name": "stdout",
     "output_type": "stream",
     "text": [
      "('sunday', 'monday', 'friday', 'saturday', 'Tuesday') 5 <class 'tuple'> 2094090380816\n",
      "sunday Tuesday\n"
     ]
    }
   ],
   "source": [
    "tuple1 = (\"sunday\", \"monday\", 'friday', 'saturday', 'Tuesday')\n",
    "print (tuple1, len(tuple1), type(tuple1), id(tuple1))\n",
    "print (max(tuple1), min(tuple1))\n",
    "# print (sum(tuple1), sum(tuple1) / len(tuple1))"
   ]
  },
  {
   "cell_type": "code",
   "execution_count": 41,
   "id": "f11d4660-d771-4d9f-9a4b-1df95e73f743",
   "metadata": {},
   "outputs": [
    {
     "name": "stdout",
     "output_type": "stream",
     "text": [
      "(100, 400, True, 'Tuesday', 300, 'Wednesday', 200, False, 700) 9 <class 'tuple'> 2094090604352\n"
     ]
    }
   ],
   "source": [
    "tuple1 = (100, 400, True, \"Tuesday\", 300, \"Wednesday\", 200, False, 700)\n",
    "print (tuple1, len(tuple1), type(tuple1), id(tuple1))\n",
    "# print (max(tuple1), min(tuple1))\n",
    "# print (sum(tuple1), sum(tuple1) / len(tuple1))"
   ]
  },
  {
   "cell_type": "code",
   "execution_count": 37,
   "id": "92eed64c",
   "metadata": {},
   "outputs": [
    {
     "name": "stdout",
     "output_type": "stream",
     "text": [
      "Wednesday Wednesday Thursday Thursday\n",
      "nes nes\n"
     ]
    }
   ],
   "source": [
    "# Indexing and slicing\n",
    "# L ro R ->   0         1          2            3           4\n",
    "tuple1 =    (\"Monday\", \"Tuesday\", \"Wednesday\", \"Thursday\", \"Friday\")\n",
    "# R to L ->  -5        -4         -3           -2          -1\n",
    "print (tuple1[2], tuple1[-3], tuple1[3], tuple1[-2])\n",
    "print (tuple1[2][3:6], tuple1[-3][-6:-3])"
   ]
  },
  {
   "cell_type": "code",
   "execution_count": 42,
   "id": "8d938e92",
   "metadata": {},
   "outputs": [
    {
     "name": "stdout",
     "output_type": "stream",
     "text": [
      "('Monday', 'Tuesday', 'Wednesday', 'Thursday', 'Friday') 5\n",
      "('Mango', 'Pineapple', 'Guava', 'Lime') 4\n",
      "('Monday', 'Tuesday', 'Wednesday', 'Thursday', 'Friday', 'Mango', 'Pineapple', 'Guava', 'Lime') 9\n",
      "(('Monday', 'Tuesday', 'Wednesday', 'Thursday', 'Friday'), ('Mango', 'Pineapple', 'Guava', 'Lime')) 2\n"
     ]
    }
   ],
   "source": [
    "tuple1 = (\"Monday\", \"Tuesday\", \"Wednesday\", \"Thursday\", \"Friday\")\n",
    "tuple2 = (\"Mango\", \"Pineapple\", \"Guava\", \"Lime\")\n",
    "print (tuple1, len(tuple1))\n",
    "print (tuple2, len(tuple2))\n",
    "tuple3 = tuple1 + tuple2      # tuple concatenation\n",
    "print (tuple3, len(tuple3))\n",
    "tuple3 = (tuple1, tuple2)     # tuple of tuples\n",
    "print (tuple3, len(tuple3))"
   ]
  },
  {
   "cell_type": "code",
   "execution_count": 43,
   "id": "a0ce8b26",
   "metadata": {},
   "outputs": [
    {
     "name": "stdout",
     "output_type": "stream",
     "text": [
      "10 <class 'int'>\n",
      "(10,) <class 'tuple'>\n"
     ]
    }
   ],
   "source": [
    "var1 = (10)\n",
    "print (var1, type(var1))\n",
    "var1 = (10,)   # singleton representation of a tuple\n",
    "print (var1, type(var1))"
   ]
  },
  {
   "cell_type": "code",
   "execution_count": 46,
   "id": "8abd8a2a",
   "metadata": {},
   "outputs": [
    {
     "name": "stdout",
     "output_type": "stream",
     "text": [
      "('Monday', 'Tuesday', 'Wednesday', 'Thursday', 'Friday') 5 2094090083344 <class 'tuple'>\n",
      "['Monday', 'Tuesday', 'Wednesday', 'Thursday', 'Friday'] 5 2094090230272 <class 'list'>\n",
      "['Monday', 'Saturday', 'Wednesday', 'Thursday', 'Friday'] 5 2094090230272 <class 'list'>\n",
      "('Monday', 'Saturday', 'Wednesday', 'Thursday', 'Friday') 5 2094090377376 <class 'tuple'>\n"
     ]
    }
   ],
   "source": [
    "# update operation on a tuple\n",
    "tuple1 = (\"Monday\", \"Tuesday\", \"Wednesday\", \"Thursday\", \"Friday\")\n",
    "print (tuple1, len(tuple1), id(tuple1), type(tuple1))\n",
    "# tuple1[1] = 'Saturday'\n",
    "list1 = list(tuple1)\n",
    "print (list1, len(list1), id(list1), type(list1))\n",
    "list1[1] = 'Saturday'\n",
    "print (list1, len(list1), id(list1), type(list1))\n",
    "tuple1 = tuple(list1)\n",
    "print (tuple1, len(tuple1), id(tuple1), type(tuple1))"
   ]
  },
  {
   "cell_type": "code",
   "execution_count": 47,
   "id": "c4e83034-6c59-460a-bc93-86ccf94deff7",
   "metadata": {},
   "outputs": [
    {
     "name": "stdout",
     "output_type": "stream",
     "text": [
      "('Monday', 'Tuesday', 'Wednesday', 'Thursday', 'Friday') 5 2094090083344 <class 'tuple'>\n",
      "('Friday', 'Monday', 'Thursday', 'Tuesday', 'Wednesday') 5 2094090377376 <class 'tuple'>\n"
     ]
    }
   ],
   "source": [
    "# sorting on a tuple\n",
    "tuple1 = (\"Monday\", \"Tuesday\", \"Wednesday\", \"Thursday\", \"Friday\")\n",
    "print (tuple1, len(tuple1), id(tuple1), type(tuple1))\n",
    "tuple2 = tuple(sorted(tuple1))\n",
    "print (tuple2, len(tuple2), id(tuple2), type(tuple2))"
   ]
  },
  {
   "cell_type": "code",
   "execution_count": 48,
   "id": "bbb6697a",
   "metadata": {},
   "outputs": [
    {
     "name": "stdout",
     "output_type": "stream",
     "text": [
      "True False\n",
      "True True\n",
      "False False\n"
     ]
    }
   ],
   "source": [
    "tuple1 = (True, False, True, True); print (any(tuple1), all(tuple1))\n",
    "tuple1 = (True, True, True, True); print (any(tuple1), all(tuple1))\n",
    "tuple1 = (False, False, False, False); print (any(tuple1), all(tuple1))"
   ]
  },
  {
   "cell_type": "code",
   "execution_count": 49,
   "id": "e3aefc1d",
   "metadata": {},
   "outputs": [
    {
     "name": "stdout",
     "output_type": "stream",
     "text": [
      "2 0\n"
     ]
    }
   ],
   "source": [
    "tuple1 = ('Mango', 'Pineapple', 'Coconut', 'Banana', 'Pineapple', 'Coconut', 'Banana', 'Lime')\n",
    "print (tuple1.count('Pineapple'), tuple1.count('Lemon'))"
   ]
  },
  {
   "cell_type": "code",
   "execution_count": 51,
   "id": "e496a28b",
   "metadata": {},
   "outputs": [
    {
     "name": "stdout",
     "output_type": "stream",
     "text": [
      "1\n",
      "1 4\n"
     ]
    },
    {
     "ename": "ValueError",
     "evalue": "tuple.index(x): x not in tuple",
     "output_type": "error",
     "traceback": [
      "\u001b[1;31m---------------------------------------------------------------------------\u001b[0m",
      "\u001b[1;31mValueError\u001b[0m                                Traceback (most recent call last)",
      "Cell \u001b[1;32mIn[51], line 4\u001b[0m\n\u001b[0;32m      2\u001b[0m \u001b[38;5;28mprint\u001b[39m (tuple1\u001b[38;5;241m.\u001b[39mindex(\u001b[38;5;124m\"\u001b[39m\u001b[38;5;124mPineapple\u001b[39m\u001b[38;5;124m\"\u001b[39m))\n\u001b[0;32m      3\u001b[0m \u001b[38;5;28mprint\u001b[39m (tuple1\u001b[38;5;241m.\u001b[39mindex(\u001b[38;5;124m\"\u001b[39m\u001b[38;5;124mPineapple\u001b[39m\u001b[38;5;124m\"\u001b[39m, \u001b[38;5;241m0\u001b[39m), tuple1\u001b[38;5;241m.\u001b[39mindex(\u001b[38;5;124m\"\u001b[39m\u001b[38;5;124mPineapple\u001b[39m\u001b[38;5;124m\"\u001b[39m, \u001b[38;5;241m2\u001b[39m))\n\u001b[1;32m----> 4\u001b[0m \u001b[38;5;28mprint\u001b[39m (\u001b[43mtuple1\u001b[49m\u001b[38;5;241;43m.\u001b[39;49m\u001b[43mindex\u001b[49m\u001b[43m(\u001b[49m\u001b[38;5;124;43m\"\u001b[39;49m\u001b[38;5;124;43mPineapple\u001b[39;49m\u001b[38;5;124;43m\"\u001b[39;49m\u001b[43m,\u001b[49m\u001b[43m \u001b[49m\u001b[38;5;241;43m5\u001b[39;49m\u001b[43m)\u001b[49m)\n",
      "\u001b[1;31mValueError\u001b[0m: tuple.index(x): x not in tuple"
     ]
    }
   ],
   "source": [
    "tuple1 = ('Mango', 'Pineapple', 'Coconut', 'Banana', 'Pineapple', 'Coconut', 'Banana', 'Lime')\n",
    "print (tuple1.index(\"Pineapple\"))\n",
    "print (tuple1.index(\"Pineapple\", 0), tuple1.index(\"Pineapple\", 2))\n",
    "print (tuple1.index(\"Pineapple\", 5))"
   ]
  },
  {
   "cell_type": "code",
   "execution_count": null,
   "id": "e151fd0b",
   "metadata": {},
   "outputs": [],
   "source": []
  },
  {
   "cell_type": "markdown",
   "id": "d81686fd-7c67-4c53-9bc3-d7928e3e02f5",
   "metadata": {},
   "source": [
    "### Dictionary Processing"
   ]
  },
  {
   "cell_type": "code",
   "execution_count": null,
   "id": "ebf37561-6f45-4655-856f-9207373b4126",
   "metadata": {},
   "outputs": [],
   "source": []
  },
  {
   "cell_type": "code",
   "execution_count": null,
   "id": "fb503fdd-3653-4e8e-b0a4-5716e813a3ca",
   "metadata": {},
   "outputs": [],
   "source": []
  },
  {
   "cell_type": "code",
   "execution_count": null,
   "id": "3b5ab704-7712-4d21-83c8-0cf82e80e9bd",
   "metadata": {},
   "outputs": [],
   "source": []
  },
  {
   "cell_type": "code",
   "execution_count": null,
   "id": "605bc4d3-4f30-47fd-9099-6e501f02c525",
   "metadata": {},
   "outputs": [],
   "source": []
  },
  {
   "cell_type": "markdown",
   "id": "bc86b422-8bc3-4297-bf71-93e862898d09",
   "metadata": {},
   "source": [
    "### Set Processing"
   ]
  },
  {
   "cell_type": "code",
   "execution_count": null,
   "id": "b837ec53-6778-4099-b96a-b49da56d0a1e",
   "metadata": {},
   "outputs": [],
   "source": []
  },
  {
   "cell_type": "code",
   "execution_count": null,
   "id": "7699d1e3-6106-463d-bc86-5500a20814c1",
   "metadata": {},
   "outputs": [],
   "source": []
  },
  {
   "cell_type": "code",
   "execution_count": null,
   "id": "d7e8ddd6-5ceb-40a6-9b14-3c83bafa056a",
   "metadata": {},
   "outputs": [],
   "source": []
  },
  {
   "cell_type": "code",
   "execution_count": null,
   "id": "ad311a12-79fe-4d0c-9a53-4cb9681eed6d",
   "metadata": {},
   "outputs": [],
   "source": []
  },
  {
   "cell_type": "markdown",
   "id": "d6a26c50-27b2-4599-935f-8b59f88029e2",
   "metadata": {},
   "source": [
    "### Frozen Set Processing"
   ]
  },
  {
   "cell_type": "code",
   "execution_count": null,
   "id": "64d18a36-2451-4344-ab06-30a210179922",
   "metadata": {},
   "outputs": [],
   "source": []
  },
  {
   "cell_type": "code",
   "execution_count": null,
   "id": "2f794a82-8fd6-4236-9475-f7d14d35c1e7",
   "metadata": {},
   "outputs": [],
   "source": []
  },
  {
   "cell_type": "code",
   "execution_count": null,
   "id": "81467b16-7446-45c9-ac3d-6197a1636993",
   "metadata": {},
   "outputs": [],
   "source": []
  },
  {
   "cell_type": "code",
   "execution_count": null,
   "id": "3b43207e-3d46-47b7-8a93-31c831d43c02",
   "metadata": {},
   "outputs": [],
   "source": []
  },
  {
   "cell_type": "code",
   "execution_count": null,
   "id": "bbf5e1a7-e098-4629-911e-56a7bacc0163",
   "metadata": {},
   "outputs": [],
   "source": []
  }
 ],
 "metadata": {
  "kernelspec": {
   "display_name": "Python 3 (ipykernel)",
   "language": "python",
   "name": "python3"
  },
  "language_info": {
   "codemirror_mode": {
    "name": "ipython",
    "version": 3
   },
   "file_extension": ".py",
   "mimetype": "text/x-python",
   "name": "python",
   "nbconvert_exporter": "python",
   "pygments_lexer": "ipython3",
   "version": "3.10.9"
  }
 },
 "nbformat": 4,
 "nbformat_minor": 5
}
