{
 "cells": [
  {
   "cell_type": "code",
   "execution_count": 1,
   "id": "b6ac9232-959b-4359-bc5e-ae6f45e43ca0",
   "metadata": {},
   "outputs": [],
   "source": [
    "# This is a comment line\n",
    "# This is another comment line\n",
    "# A comment line in Python should be starting with # symbol"
   ]
  },
  {
   "cell_type": "code",
   "execution_count": 5,
   "id": "bb6ea1b9-0a2e-4b47-a42d-9f417a952a86",
   "metadata": {},
   "outputs": [
    {
     "name": "stdin",
     "output_type": "stream",
     "text": [
      "Please enter first integer:  300\n",
      "Please enter the second integer:  400\n"
     ]
    },
    {
     "name": "stdout",
     "output_type": "stream",
     "text": [
      "300 <class 'str'> 2861049775664\n",
      "400 <class 'str'> 2861049776048\n",
      "So the result is: 300400\n",
      "End of the program...\n"
     ]
    }
   ],
   "source": [
    "num1 = input(\"Please enter first integer: \")\n",
    "num2 = input(\"Please enter the second integer: \")\n",
    "print (num1, type(num1), id(num1))\n",
    "print (num2, type(num2), id(num2))\n",
    "result = num1 + num2  # string concatenation\n",
    "print (\"So the result is:\", result)\n",
    "print (\"End of the program...\")"
   ]
  },
  {
   "cell_type": "code",
   "execution_count": 9,
   "id": "c9214668-146c-4609-97f9-d9c4ac2f8f90",
   "metadata": {},
   "outputs": [
    {
     "name": "stdin",
     "output_type": "stream",
     "text": [
      "Please enter first integer:  100\n",
      "Please enter the second integer:  200\n"
     ]
    },
    {
     "name": "stdout",
     "output_type": "stream",
     "text": [
      "100 <class 'int'> 2860963138896\n",
      "200 <class 'int'> 2860963142096\n",
      "So the result is: 300\n",
      "End of the program...\n"
     ]
    }
   ],
   "source": [
    "num1 = int(input(\"Please enter first integer: \"))\n",
    "num2 = int(input(\"Please enter the second integer: \"))\n",
    "print (num1, type(num1), id(num1))\n",
    "print (num2, type(num2), id(num2))\n",
    "result = num1 + num2  # algebraic adition\n",
    "print (\"So the result is:\", result)\n",
    "print (\"End of the program...\")"
   ]
  },
  {
   "cell_type": "code",
   "execution_count": 10,
   "id": "5ac821fa-c2f8-4cbf-b207-d896b39ec8b4",
   "metadata": {},
   "outputs": [
    {
     "name": "stdin",
     "output_type": "stream",
     "text": [
      "Please enter first integer:  400\n",
      "Please enter the second integer:  500\n"
     ]
    }
   ],
   "source": [
    "num1 = int(input(\"Please enter first integer: \"))\n",
    "num2 = int(input(\"Please enter the second integer: \"))\n",
    "result = num1 + num2  # string concatenation"
   ]
  },
  {
   "cell_type": "code",
   "execution_count": 26,
   "id": "39605d15-a4d2-4ab2-84eb-1e5fe05c968c",
   "metadata": {},
   "outputs": [
    {
     "name": "stdout",
     "output_type": "stream",
     "text": [
      "So 400 + 500 = 900\n",
      "So 400 + 500 = 900\n",
      "So 400 + 500 = 900\n",
      "So 400 + 500 = 900\n",
      "So 400 + 500 = 900\n",
      "So 400 + 500 = 900\n",
      "So 400 + 500 = 900\n",
      "So 400 + 500 = 900\n",
      "So 400 + 500.000000 = 900\n",
      "So 400 +   500.00 = 900\n",
      "So 400 + 500 = 900\n"
     ]
    }
   ],
   "source": [
    "print (\"So\", num1, \"+\", num2, \"=\", result)\n",
    "print (\"So \" + str(num1) + \" + \" + str(num2) + \" = \" + str(result))\n",
    "print (\"So {} + {} = {}\".format(num1, num2, result))   # {} is called place holder\n",
    "print (\"So {0} + {1} = {2}\".format(num1, num2, result))   # indexed place holder\n",
    "print (\"So {2} + {1} = {0}\".format(result, num2, num1))   # indexed place holder\n",
    "print (\"So {fn} + {sn} = {tot}\".format(fn = num1, sn = num2, tot = result))   # labelled place holder\n",
    "print (\"So {fn} + {sn} = {tot}\".format(tot = result, sn = num2, fn = num1))   # labelled place holder\n",
    "print (\"So %d + %d = %d\"%(num1, num2, result))   # here %d stands for decimal format\n",
    "print (\"So %d + %f = %d\"%(num1, num2, result))   # here %f stands for float format\n",
    "print (\"So %d + %8.2f = %d\"%(num1, num2, result))   # here %f stands for float format\n",
    "print (f\"So {num1} + {num2} = {result}\")   # here f stands for smart formatting"
   ]
  },
  {
   "cell_type": "code",
   "execution_count": 27,
   "id": "d3819e79-b684-442b-9144-95654b660bf0",
   "metadata": {},
   "outputs": [
    {
     "name": "stdout",
     "output_type": "stream",
     "text": [
      "140\n",
      "60\n",
      "4000\n",
      "2.5\n",
      "2\n",
      "20\n",
      "100000000\n"
     ]
    }
   ],
   "source": [
    "# Arithmetic Operators\n",
    "print (100 + 40)   # addition\n",
    "print (100 - 40)   # subtraction\n",
    "print (100 * 40)   # multiplication\n",
    "print (100 / 40)   # float division\n",
    "print (100 // 40)  # integer division\n",
    "print (100 % 40)   # modulus or remainder of the division\n",
    "print (100 ** 4)   # exponentiation, to the power of"
   ]
  },
  {
   "cell_type": "code",
   "execution_count": 35,
   "id": "f57a04a5-f261-49e1-8686-588e305e02ef",
   "metadata": {},
   "outputs": [
    {
     "name": "stdin",
     "output_type": "stream",
     "text": [
      "Please enter the first integer:  100\n",
      "Please enter the second integer:  200\n",
      "Please enter the third integer:  300\n"
     ]
    },
    {
     "name": "stdout",
     "output_type": "stream",
     "text": [
      "The third number is the maximum number...\n",
      "So the maximum number is 300...\n",
      "End of the program...\n"
     ]
    }
   ],
   "source": [
    "# conditional statement\n",
    "# find the maximum of three user given numbers\n",
    "num1 = int(input(\"Please enter the first integer: \"))\n",
    "num2 = int(input(\"Please enter the second integer: \"))\n",
    "num3 = int(input(\"Please enter the third integer: \"))\n",
    "if (num1 > num2):\n",
    "    if (num1 > num3):\n",
    "        print (\"The first number is the maximum number...\")\n",
    "        print (f\"So the maximum number is {num1}...\")\n",
    "    else:\n",
    "        print (\"The third number is the maximum number...\")\n",
    "        print (f\"So the maximum number is {num3}...\")\n",
    "elif (num2 > num3):\n",
    "    print (\"The second number is the maximum number...\")\n",
    "    print (f\"So the maximum number is {num2}...\")\n",
    "else:\n",
    "    print (\"The third number is the maximum number...\")\n",
    "    print (f\"So the maximum number is {num3}...\")\n",
    "\n",
    "print (\"End of the program...\")               "
   ]
  },
  {
   "cell_type": "code",
   "execution_count": 38,
   "id": "7de2cc01-e088-4c94-92f7-827d8a48042a",
   "metadata": {},
   "outputs": [
    {
     "name": "stdin",
     "output_type": "stream",
     "text": [
      "Please enter the first integer:  200\n",
      "Please enter the second integer:  300\n",
      "Please enter the third integer:  100\n"
     ]
    },
    {
     "name": "stdout",
     "output_type": "stream",
     "text": [
      "The second number is the maximum number...\n",
      "So the maximum number is 300...\n",
      "End of the program...\n"
     ]
    }
   ],
   "source": [
    "# conditional statement\n",
    "# find the maximum of three user given numbers\n",
    "num1 = int(input(\"Please enter the first integer: \"))\n",
    "num2 = int(input(\"Please enter the second integer: \"))\n",
    "num3 = int(input(\"Please enter the third integer: \"))\n",
    "if (num1 > num2 and num1 > num3):\n",
    "    print (\"The first number is the maximum number...\")\n",
    "    print (f\"So the maximum number is {num1}...\")\n",
    "elif (num2 > num3):\n",
    "    print (\"The second number is the maximum number...\")\n",
    "    print (f\"So the maximum number is {num2}...\")\n",
    "else:\n",
    "    print (\"The third number is the maximum number...\")\n",
    "    print (f\"So the maximum number is {num3}...\")\n",
    "\n",
    "print (\"End of the program...\")     "
   ]
  },
  {
   "cell_type": "code",
   "execution_count": null,
   "id": "e5dc86ef-99ac-4407-94c3-ff91454d2ec1",
   "metadata": {},
   "outputs": [],
   "source": [
    "# logical operators"
   ]
  },
  {
   "cell_type": "code",
   "execution_count": null,
   "id": "9e2e60fd-53f3-4e14-8841-1b1abe00e0bf",
   "metadata": {},
   "outputs": [],
   "source": []
  },
  {
   "cell_type": "code",
   "execution_count": null,
   "id": "fada75fb-f702-4f1e-ab42-4d744f9bd0cd",
   "metadata": {},
   "outputs": [],
   "source": []
  },
  {
   "cell_type": "code",
   "execution_count": null,
   "id": "99ef4eb8-9323-414e-adad-a699730db7eb",
   "metadata": {},
   "outputs": [],
   "source": []
  },
  {
   "cell_type": "code",
   "execution_count": null,
   "id": "38147e44-1875-4099-8825-fb4fe9a886df",
   "metadata": {},
   "outputs": [],
   "source": []
  }
 ],
 "metadata": {
  "kernelspec": {
   "display_name": "Python 3 (ipykernel)",
   "language": "python",
   "name": "python3"
  },
  "language_info": {
   "codemirror_mode": {
    "name": "ipython",
    "version": 3
   },
   "file_extension": ".py",
   "mimetype": "text/x-python",
   "name": "python",
   "nbconvert_exporter": "python",
   "pygments_lexer": "ipython3",
   "version": "3.10.9"
  }
 },
 "nbformat": 4,
 "nbformat_minor": 5
}
