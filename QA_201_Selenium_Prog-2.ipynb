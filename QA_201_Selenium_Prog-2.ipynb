{
 "cells": [
  {
   "cell_type": "markdown",
   "id": "3391a83d-d6bb-4d4d-a488-1f445ba676be",
   "metadata": {},
   "source": [
    "### Selenium control options to write text, button press, select menu and others"
   ]
  },
  {
   "cell_type": "code",
   "execution_count": 1,
   "id": "16750d60-f3f4-442e-ba58-1ecc76cccd50",
   "metadata": {},
   "outputs": [
    {
     "name": "stdout",
     "output_type": "stream",
     "text": [
      "4.10.0\n"
     ]
    }
   ],
   "source": [
    "from selenium import webdriver\n",
    "from selenium.webdriver.chrome.service import Service\n",
    "# also check the current version of the Selenium\n",
    "print (webdriver.__version__)"
   ]
  },
  {
   "cell_type": "code",
   "execution_count": 2,
   "id": "bea895c3-8116-4205-b635-a191b95da42d",
   "metadata": {},
   "outputs": [],
   "source": [
    "service = Service(executable_path='./chromedriver.exe')\n",
    "options = webdriver.ChromeOptions()\n",
    "driver = webdriver.Chrome(service=service, options=options)"
   ]
  },
  {
   "cell_type": "code",
   "execution_count": 3,
   "id": "b1dddd7c-eb95-441f-aaa0-fa71237013d5",
   "metadata": {},
   "outputs": [],
   "source": [
    "# now open the web portal to calculate nCr operations\n",
    "URL = 'https://www.calculatorsoup.com/calculators/discretemathematics/combinations.php'\n",
    "driver.get(URL)"
   ]
  },
  {
   "cell_type": "code",
   "execution_count": 5,
   "id": "93fdea48-3849-40d3-98af-e0d1b3768d0e",
   "metadata": {},
   "outputs": [],
   "source": [
    "n_input = driver.find_element(\"id\", \"n\")\n",
    "n_input.clear()\n",
    "n_input.send_keys('10')"
   ]
  },
  {
   "cell_type": "code",
   "execution_count": 7,
   "id": "3324b6c6-96d9-4841-b675-42e17575d05c",
   "metadata": {},
   "outputs": [],
   "source": [
    "# r_input = driver.find_element(\"id\", \"r\")\n",
    "# r_input.clear()\n",
    "# r_input.send_keys('8')"
   ]
  },
  {
   "cell_type": "code",
   "execution_count": 8,
   "id": "b31af72a-ab0a-4b73-b647-441e2db97a3a",
   "metadata": {},
   "outputs": [],
   "source": [
    "# to press keys, we can use the following library\n",
    "from selenium.webdriver.common.keys import Keys\n",
    "\n",
    "# press Tab to go to the next input area\n",
    "n_input.send_keys(Keys.TAB)\n",
    "\n",
    "# select currently selected text box\n",
    "r_input = driver.switch_to.active_element\n",
    "\n",
    "# put the r value inside the text box after clearing it\n",
    "r_input.clear()\n",
    "r_input.send_keys('5')"
   ]
  },
  {
   "cell_type": "code",
   "execution_count": 9,
   "id": "60f093e0-82e4-4797-afb7-ab470b96ebe1",
   "metadata": {},
   "outputs": [],
   "source": [
    "# now go to the calculate button and click on it\n",
    "calculate_button = driver.find_element(\"id\", \"calculateButton\")\n",
    "calculate_button.click()"
   ]
  },
  {
   "cell_type": "code",
   "execution_count": 16,
   "id": "d459bd06-5e22-406b-8c23-b7824dcfc6ed",
   "metadata": {},
   "outputs": [
    {
     "name": "stdout",
     "output_type": "stream",
     "text": [
      "['=', '252', 'Solution:', 'C', '(', 'n', ',', 'r', ')', '=', '?', 'C', '(', 'n', ',', 'r', ')', '=', 'C', '(', '10', ',', '5', ')', '=', '10', '!', '(', '5', '!', '(', '10', '−', '5', ')', '!', ')', '=', '10', '!', '5', '!', '×', '5', '!', '=', '252']\n",
      "252 <class 'int'>\n"
     ]
    }
   ],
   "source": [
    "# read the answer from the result area\n",
    "result_area = driver.find_element(\"id\", \"answer\")\n",
    "result = result_area.text\n",
    "# print (result)\n",
    "word_list = result.split()\n",
    "print (word_list)\n",
    "calculated_result = int(word_list[1])\n",
    "print (calculated_result, type(calculated_result))"
   ]
  },
  {
   "cell_type": "code",
   "execution_count": 17,
   "id": "f0e1e3a3-2177-405c-aed7-95f6a5bf5bd1",
   "metadata": {},
   "outputs": [],
   "source": [
    "driver.quit()"
   ]
  }
 ],
 "metadata": {
  "kernelspec": {
   "display_name": "Python 3 (ipykernel)",
   "language": "python",
   "name": "python3"
  },
  "language_info": {
   "codemirror_mode": {
    "name": "ipython",
    "version": 3
   },
   "file_extension": ".py",
   "mimetype": "text/x-python",
   "name": "python",
   "nbconvert_exporter": "python",
   "pygments_lexer": "ipython3",
   "version": "3.10.9"
  }
 },
 "nbformat": 4,
 "nbformat_minor": 5
}
